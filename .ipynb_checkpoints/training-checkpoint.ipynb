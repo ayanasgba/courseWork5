{
 "cells": [
  {
   "cell_type": "code",
   "execution_count": 213,
   "id": "initial_id",
   "metadata": {
    "collapsed": true,
    "ExecuteTime": {
     "end_time": "2023-12-20T06:21:48.414777Z",
     "start_time": "2023-12-20T06:21:48.378684200Z"
    }
   },
   "outputs": [],
   "source": [
    "import pandas as pd "
   ]
  },
  {
   "cell_type": "code",
   "execution_count": 214,
   "outputs": [],
   "source": [
    "df= pd.read_csv('heart_ds.csv') "
   ],
   "metadata": {
    "collapsed": false,
    "ExecuteTime": {
     "end_time": "2023-12-20T06:21:48.764651Z",
     "start_time": "2023-12-20T06:21:48.724699100Z"
    }
   },
   "id": "9c26b159861aba91"
  },
  {
   "cell_type": "code",
   "execution_count": 215,
   "outputs": [
    {
     "data": {
      "text/plain": "     Age Sex ChestPainType  RestingBP  Cholesterol  FastingBS RestingECG  \\\n0     40   M           ATA        140          289          0     Normal   \n1     49   F           NAP        160          180          0     Normal   \n2     37   M           ATA        130          283          0         ST   \n3     48   F           ASY        138          214          0     Normal   \n4     54   M           NAP        150          195          0     Normal   \n..   ...  ..           ...        ...          ...        ...        ...   \n913   45   M            TA        110          264          0     Normal   \n914   68   M           ASY        144          193          1     Normal   \n915   57   M           ASY        130          131          0     Normal   \n916   57   F           ATA        130          236          0        LVH   \n917   38   M           NAP        138          175          0     Normal   \n\n     MaxHR ExerciseAngina  Oldpeak ST_Slope  target  \n0      172              N      0.0       Up       0  \n1      156              N      1.0     Flat       1  \n2       98              N      0.0       Up       0  \n3      108              Y      1.5     Flat       1  \n4      122              N      0.0       Up       0  \n..     ...            ...      ...      ...     ...  \n913    132              N      1.2     Flat       1  \n914    141              N      3.4     Flat       1  \n915    115              Y      1.2     Flat       1  \n916    174              N      0.0     Flat       1  \n917    173              N      0.0       Up       0  \n\n[918 rows x 12 columns]",
      "text/html": "<div>\n<style scoped>\n    .dataframe tbody tr th:only-of-type {\n        vertical-align: middle;\n    }\n\n    .dataframe tbody tr th {\n        vertical-align: top;\n    }\n\n    .dataframe thead th {\n        text-align: right;\n    }\n</style>\n<table border=\"1\" class=\"dataframe\">\n  <thead>\n    <tr style=\"text-align: right;\">\n      <th></th>\n      <th>Age</th>\n      <th>Sex</th>\n      <th>ChestPainType</th>\n      <th>RestingBP</th>\n      <th>Cholesterol</th>\n      <th>FastingBS</th>\n      <th>RestingECG</th>\n      <th>MaxHR</th>\n      <th>ExerciseAngina</th>\n      <th>Oldpeak</th>\n      <th>ST_Slope</th>\n      <th>target</th>\n    </tr>\n  </thead>\n  <tbody>\n    <tr>\n      <th>0</th>\n      <td>40</td>\n      <td>M</td>\n      <td>ATA</td>\n      <td>140</td>\n      <td>289</td>\n      <td>0</td>\n      <td>Normal</td>\n      <td>172</td>\n      <td>N</td>\n      <td>0.0</td>\n      <td>Up</td>\n      <td>0</td>\n    </tr>\n    <tr>\n      <th>1</th>\n      <td>49</td>\n      <td>F</td>\n      <td>NAP</td>\n      <td>160</td>\n      <td>180</td>\n      <td>0</td>\n      <td>Normal</td>\n      <td>156</td>\n      <td>N</td>\n      <td>1.0</td>\n      <td>Flat</td>\n      <td>1</td>\n    </tr>\n    <tr>\n      <th>2</th>\n      <td>37</td>\n      <td>M</td>\n      <td>ATA</td>\n      <td>130</td>\n      <td>283</td>\n      <td>0</td>\n      <td>ST</td>\n      <td>98</td>\n      <td>N</td>\n      <td>0.0</td>\n      <td>Up</td>\n      <td>0</td>\n    </tr>\n    <tr>\n      <th>3</th>\n      <td>48</td>\n      <td>F</td>\n      <td>ASY</td>\n      <td>138</td>\n      <td>214</td>\n      <td>0</td>\n      <td>Normal</td>\n      <td>108</td>\n      <td>Y</td>\n      <td>1.5</td>\n      <td>Flat</td>\n      <td>1</td>\n    </tr>\n    <tr>\n      <th>4</th>\n      <td>54</td>\n      <td>M</td>\n      <td>NAP</td>\n      <td>150</td>\n      <td>195</td>\n      <td>0</td>\n      <td>Normal</td>\n      <td>122</td>\n      <td>N</td>\n      <td>0.0</td>\n      <td>Up</td>\n      <td>0</td>\n    </tr>\n    <tr>\n      <th>...</th>\n      <td>...</td>\n      <td>...</td>\n      <td>...</td>\n      <td>...</td>\n      <td>...</td>\n      <td>...</td>\n      <td>...</td>\n      <td>...</td>\n      <td>...</td>\n      <td>...</td>\n      <td>...</td>\n      <td>...</td>\n    </tr>\n    <tr>\n      <th>913</th>\n      <td>45</td>\n      <td>M</td>\n      <td>TA</td>\n      <td>110</td>\n      <td>264</td>\n      <td>0</td>\n      <td>Normal</td>\n      <td>132</td>\n      <td>N</td>\n      <td>1.2</td>\n      <td>Flat</td>\n      <td>1</td>\n    </tr>\n    <tr>\n      <th>914</th>\n      <td>68</td>\n      <td>M</td>\n      <td>ASY</td>\n      <td>144</td>\n      <td>193</td>\n      <td>1</td>\n      <td>Normal</td>\n      <td>141</td>\n      <td>N</td>\n      <td>3.4</td>\n      <td>Flat</td>\n      <td>1</td>\n    </tr>\n    <tr>\n      <th>915</th>\n      <td>57</td>\n      <td>M</td>\n      <td>ASY</td>\n      <td>130</td>\n      <td>131</td>\n      <td>0</td>\n      <td>Normal</td>\n      <td>115</td>\n      <td>Y</td>\n      <td>1.2</td>\n      <td>Flat</td>\n      <td>1</td>\n    </tr>\n    <tr>\n      <th>916</th>\n      <td>57</td>\n      <td>F</td>\n      <td>ATA</td>\n      <td>130</td>\n      <td>236</td>\n      <td>0</td>\n      <td>LVH</td>\n      <td>174</td>\n      <td>N</td>\n      <td>0.0</td>\n      <td>Flat</td>\n      <td>1</td>\n    </tr>\n    <tr>\n      <th>917</th>\n      <td>38</td>\n      <td>M</td>\n      <td>NAP</td>\n      <td>138</td>\n      <td>175</td>\n      <td>0</td>\n      <td>Normal</td>\n      <td>173</td>\n      <td>N</td>\n      <td>0.0</td>\n      <td>Up</td>\n      <td>0</td>\n    </tr>\n  </tbody>\n</table>\n<p>918 rows × 12 columns</p>\n</div>"
     },
     "execution_count": 215,
     "metadata": {},
     "output_type": "execute_result"
    }
   ],
   "source": [
    "df"
   ],
   "metadata": {
    "collapsed": false,
    "ExecuteTime": {
     "end_time": "2023-12-20T06:21:49.127286100Z",
     "start_time": "2023-12-20T06:21:49.064649100Z"
    }
   },
   "id": "c0ecce8986a0c9db"
  },
  {
   "cell_type": "code",
   "execution_count": 225,
   "outputs": [],
   "source": [
    "from sklearn.preprocessing import LabelEncoder\n",
    "from sklearn.preprocessing import MinMaxScaler"
   ],
   "metadata": {
    "collapsed": false,
    "ExecuteTime": {
     "end_time": "2023-12-20T06:52:18.967841300Z",
     "start_time": "2023-12-20T06:52:18.957799900Z"
    }
   },
   "id": "3d26c65d133f7a9f"
  },
  {
   "cell_type": "code",
   "execution_count": 226,
   "outputs": [],
   "source": [
    "Encoder = LabelEncoder()"
   ],
   "metadata": {
    "collapsed": false,
    "ExecuteTime": {
     "end_time": "2023-12-20T06:52:19.427765200Z",
     "start_time": "2023-12-20T06:52:19.417947400Z"
    }
   },
   "id": "d341a72246808196"
  },
  {
   "cell_type": "code",
   "execution_count": 227,
   "outputs": [
    {
     "data": {
      "text/plain": "ChestPainType\n0    496\n2    203\n1    173\n3     46\nName: count, dtype: int64"
     },
     "execution_count": 227,
     "metadata": {},
     "output_type": "execute_result"
    }
   ],
   "source": [
    "df['ChestPainType'].value_counts()"
   ],
   "metadata": {
    "collapsed": false,
    "ExecuteTime": {
     "end_time": "2023-12-20T06:52:19.788279700Z",
     "start_time": "2023-12-20T06:52:19.747929400Z"
    }
   },
   "id": "b3a978f9bc21d524"
  },
  {
   "cell_type": "code",
   "execution_count": 228,
   "outputs": [
    {
     "data": {
      "text/plain": "ExerciseAngina\n0    547\n1    371\nName: count, dtype: int64"
     },
     "execution_count": 228,
     "metadata": {},
     "output_type": "execute_result"
    }
   ],
   "source": [
    "df['ExerciseAngina'].value_counts()"
   ],
   "metadata": {
    "collapsed": false,
    "ExecuteTime": {
     "end_time": "2023-12-20T06:52:19.987900Z",
     "start_time": "2023-12-20T06:52:19.984893100Z"
    }
   },
   "id": "a6cda22403ca92cd"
  },
  {
   "cell_type": "code",
   "execution_count": 229,
   "outputs": [
    {
     "data": {
      "text/plain": "Sex\n1    725\n0    193\nName: count, dtype: int64"
     },
     "execution_count": 229,
     "metadata": {},
     "output_type": "execute_result"
    }
   ],
   "source": [
    "df['Sex'].value_counts()"
   ],
   "metadata": {
    "collapsed": false,
    "ExecuteTime": {
     "end_time": "2023-12-20T06:52:20.197984600Z",
     "start_time": "2023-12-20T06:52:20.187542700Z"
    }
   },
   "id": "8c720565d8ae59ab"
  },
  {
   "cell_type": "code",
   "execution_count": 230,
   "outputs": [
    {
     "data": {
      "text/plain": "RestingECG\n1    552\n0    188\n2    178\nName: count, dtype: int64"
     },
     "execution_count": 230,
     "metadata": {},
     "output_type": "execute_result"
    }
   ],
   "source": [
    "df['RestingECG'].value_counts()"
   ],
   "metadata": {
    "collapsed": false,
    "ExecuteTime": {
     "end_time": "2023-12-20T06:52:20.417822300Z",
     "start_time": "2023-12-20T06:52:20.367497100Z"
    }
   },
   "id": "acd22bcdc187fb4f"
  },
  {
   "cell_type": "code",
   "execution_count": 231,
   "outputs": [
    {
     "data": {
      "text/plain": "ST_Slope\n1    460\n2    395\n0     63\nName: count, dtype: int64"
     },
     "execution_count": 231,
     "metadata": {},
     "output_type": "execute_result"
    }
   ],
   "source": [
    "df['ST_Slope'].value_counts()"
   ],
   "metadata": {
    "collapsed": false,
    "ExecuteTime": {
     "end_time": "2023-12-20T06:52:20.597822Z",
     "start_time": "2023-12-20T06:52:20.577507700Z"
    }
   },
   "id": "70a6326765de8295"
  },
  {
   "cell_type": "markdown",
   "source": [
    "Sex: sex of the patient [M: Male - 1, F: Female - 0]\n",
    "ChestPainType: chest pain type \n",
    "[TA: Typical Angina - 3, \n",
    "ATA: Atypical Angina - 1, \n",
    "NAP: Non-Anginal Pain - 2, \n",
    "ASY: Asymptomatic - 0 ]\n",
    "RestingECG: resting electrocardiogram results [\n",
    "Normal: Normal - 1, \n",
    "ST: having ST-T wave abnormality (T wave inversions and/or ST elevation or depression of > 0.05 mV) - 2, \n",
    "LVH: showing probable or definite left ventricular hypertrophy by Estes' criteria - 0]\n",
    "ExerciseAngina: exercise-induced angina [Y: Yes - 1, N: No - 0]\n",
    "ST_Slope: the slope of the peak exercise ST segment [\n",
    "Up: upsloping - 2, \n",
    "Flat: flat - 1, \n",
    "Down: downsloping - 0]"
   ],
   "metadata": {
    "collapsed": false
   },
   "id": "1605cf4a53ec1216"
  },
  {
   "cell_type": "code",
   "execution_count": 232,
   "outputs": [],
   "source": [
    "for column in ['Sex', 'ChestPainType', 'RestingECG','ExerciseAngina', 'ST_Slope']:\n",
    "    df[column] = Encoder.fit_transform(df[column])"
   ],
   "metadata": {
    "collapsed": false,
    "ExecuteTime": {
     "end_time": "2023-12-20T06:52:21.317525400Z",
     "start_time": "2023-12-20T06:52:21.297861900Z"
    }
   },
   "id": "ee84a271695d6a75"
  },
  {
   "cell_type": "code",
   "execution_count": 233,
   "outputs": [
    {
     "data": {
      "text/plain": "Age               0\nSex               0\nChestPainType     0\nRestingBP         0\nCholesterol       0\nFastingBS         0\nRestingECG        0\nMaxHR             0\nExerciseAngina    0\nOldpeak           0\nST_Slope          0\ntarget            0\ndtype: int64"
     },
     "execution_count": 233,
     "metadata": {},
     "output_type": "execute_result"
    }
   ],
   "source": [
    "df.isnull().sum()"
   ],
   "metadata": {
    "collapsed": false,
    "ExecuteTime": {
     "end_time": "2023-12-20T06:52:21.681185Z",
     "start_time": "2023-12-20T06:52:21.648765400Z"
    }
   },
   "id": "52b4409b195d8e6a"
  },
  {
   "cell_type": "code",
   "execution_count": 234,
   "outputs": [],
   "source": [
    "scalar = MinMaxScaler()\n",
    "df[['MaxHR', 'Cholesterol', 'Age', 'RestingBP']] = scalar.fit_transform(df[['MaxHR', 'Cholesterol', 'Age', 'RestingBP']])"
   ],
   "metadata": {
    "collapsed": false,
    "ExecuteTime": {
     "end_time": "2023-12-20T06:52:47.722997700Z",
     "start_time": "2023-12-20T06:52:47.708018100Z"
    }
   },
   "id": "e532a8d39a289ed9"
  },
  {
   "cell_type": "code",
   "execution_count": 235,
   "outputs": [
    {
     "data": {
      "text/plain": "          Age  Sex  ChestPainType  RestingBP  Cholesterol  FastingBS  \\\n0    0.244898    1              1       0.70     0.479270          0   \n1    0.428571    0              2       0.80     0.298507          0   \n2    0.183673    1              1       0.65     0.469320          0   \n3    0.408163    0              0       0.69     0.354892          0   \n4    0.530612    1              2       0.75     0.323383          0   \n..        ...  ...            ...        ...          ...        ...   \n913  0.346939    1              3       0.55     0.437811          0   \n914  0.816327    1              0       0.72     0.320066          1   \n915  0.591837    1              0       0.65     0.217247          0   \n916  0.591837    0              1       0.65     0.391376          0   \n917  0.204082    1              2       0.69     0.290216          0   \n\n     RestingECG     MaxHR  ExerciseAngina  Oldpeak  ST_Slope  target  \n0             1  0.788732               0      0.0         2       0  \n1             1  0.676056               0      1.0         1       1  \n2             2  0.267606               0      0.0         2       0  \n3             1  0.338028               1      1.5         1       1  \n4             1  0.436620               0      0.0         2       0  \n..          ...       ...             ...      ...       ...     ...  \n913           1  0.507042               0      1.2         1       1  \n914           1  0.570423               0      3.4         1       1  \n915           1  0.387324               1      1.2         1       1  \n916           0  0.802817               0      0.0         1       1  \n917           1  0.795775               0      0.0         2       0  \n\n[918 rows x 12 columns]",
      "text/html": "<div>\n<style scoped>\n    .dataframe tbody tr th:only-of-type {\n        vertical-align: middle;\n    }\n\n    .dataframe tbody tr th {\n        vertical-align: top;\n    }\n\n    .dataframe thead th {\n        text-align: right;\n    }\n</style>\n<table border=\"1\" class=\"dataframe\">\n  <thead>\n    <tr style=\"text-align: right;\">\n      <th></th>\n      <th>Age</th>\n      <th>Sex</th>\n      <th>ChestPainType</th>\n      <th>RestingBP</th>\n      <th>Cholesterol</th>\n      <th>FastingBS</th>\n      <th>RestingECG</th>\n      <th>MaxHR</th>\n      <th>ExerciseAngina</th>\n      <th>Oldpeak</th>\n      <th>ST_Slope</th>\n      <th>target</th>\n    </tr>\n  </thead>\n  <tbody>\n    <tr>\n      <th>0</th>\n      <td>0.244898</td>\n      <td>1</td>\n      <td>1</td>\n      <td>0.70</td>\n      <td>0.479270</td>\n      <td>0</td>\n      <td>1</td>\n      <td>0.788732</td>\n      <td>0</td>\n      <td>0.0</td>\n      <td>2</td>\n      <td>0</td>\n    </tr>\n    <tr>\n      <th>1</th>\n      <td>0.428571</td>\n      <td>0</td>\n      <td>2</td>\n      <td>0.80</td>\n      <td>0.298507</td>\n      <td>0</td>\n      <td>1</td>\n      <td>0.676056</td>\n      <td>0</td>\n      <td>1.0</td>\n      <td>1</td>\n      <td>1</td>\n    </tr>\n    <tr>\n      <th>2</th>\n      <td>0.183673</td>\n      <td>1</td>\n      <td>1</td>\n      <td>0.65</td>\n      <td>0.469320</td>\n      <td>0</td>\n      <td>2</td>\n      <td>0.267606</td>\n      <td>0</td>\n      <td>0.0</td>\n      <td>2</td>\n      <td>0</td>\n    </tr>\n    <tr>\n      <th>3</th>\n      <td>0.408163</td>\n      <td>0</td>\n      <td>0</td>\n      <td>0.69</td>\n      <td>0.354892</td>\n      <td>0</td>\n      <td>1</td>\n      <td>0.338028</td>\n      <td>1</td>\n      <td>1.5</td>\n      <td>1</td>\n      <td>1</td>\n    </tr>\n    <tr>\n      <th>4</th>\n      <td>0.530612</td>\n      <td>1</td>\n      <td>2</td>\n      <td>0.75</td>\n      <td>0.323383</td>\n      <td>0</td>\n      <td>1</td>\n      <td>0.436620</td>\n      <td>0</td>\n      <td>0.0</td>\n      <td>2</td>\n      <td>0</td>\n    </tr>\n    <tr>\n      <th>...</th>\n      <td>...</td>\n      <td>...</td>\n      <td>...</td>\n      <td>...</td>\n      <td>...</td>\n      <td>...</td>\n      <td>...</td>\n      <td>...</td>\n      <td>...</td>\n      <td>...</td>\n      <td>...</td>\n      <td>...</td>\n    </tr>\n    <tr>\n      <th>913</th>\n      <td>0.346939</td>\n      <td>1</td>\n      <td>3</td>\n      <td>0.55</td>\n      <td>0.437811</td>\n      <td>0</td>\n      <td>1</td>\n      <td>0.507042</td>\n      <td>0</td>\n      <td>1.2</td>\n      <td>1</td>\n      <td>1</td>\n    </tr>\n    <tr>\n      <th>914</th>\n      <td>0.816327</td>\n      <td>1</td>\n      <td>0</td>\n      <td>0.72</td>\n      <td>0.320066</td>\n      <td>1</td>\n      <td>1</td>\n      <td>0.570423</td>\n      <td>0</td>\n      <td>3.4</td>\n      <td>1</td>\n      <td>1</td>\n    </tr>\n    <tr>\n      <th>915</th>\n      <td>0.591837</td>\n      <td>1</td>\n      <td>0</td>\n      <td>0.65</td>\n      <td>0.217247</td>\n      <td>0</td>\n      <td>1</td>\n      <td>0.387324</td>\n      <td>1</td>\n      <td>1.2</td>\n      <td>1</td>\n      <td>1</td>\n    </tr>\n    <tr>\n      <th>916</th>\n      <td>0.591837</td>\n      <td>0</td>\n      <td>1</td>\n      <td>0.65</td>\n      <td>0.391376</td>\n      <td>0</td>\n      <td>0</td>\n      <td>0.802817</td>\n      <td>0</td>\n      <td>0.0</td>\n      <td>1</td>\n      <td>1</td>\n    </tr>\n    <tr>\n      <th>917</th>\n      <td>0.204082</td>\n      <td>1</td>\n      <td>2</td>\n      <td>0.69</td>\n      <td>0.290216</td>\n      <td>0</td>\n      <td>1</td>\n      <td>0.795775</td>\n      <td>0</td>\n      <td>0.0</td>\n      <td>2</td>\n      <td>0</td>\n    </tr>\n  </tbody>\n</table>\n<p>918 rows × 12 columns</p>\n</div>"
     },
     "execution_count": 235,
     "metadata": {},
     "output_type": "execute_result"
    }
   ],
   "source": [
    "df"
   ],
   "metadata": {
    "collapsed": false,
    "ExecuteTime": {
     "end_time": "2023-12-20T06:52:51.977989600Z",
     "start_time": "2023-12-20T06:52:51.957854800Z"
    }
   },
   "id": "696d4b38cb7f6477"
  },
  {
   "cell_type": "code",
   "execution_count": 236,
   "outputs": [],
   "source": [
    "X = df.iloc[:, :-1]\n",
    "y = df.iloc[:, -1]"
   ],
   "metadata": {
    "collapsed": false,
    "ExecuteTime": {
     "end_time": "2023-12-20T06:53:29.396972100Z",
     "start_time": "2023-12-20T06:53:29.372798600Z"
    }
   },
   "id": "4c459affc6afff02"
  },
  {
   "cell_type": "code",
   "execution_count": 237,
   "outputs": [],
   "source": [
    "from sklearn.model_selection import train_test_split\n",
    "from sklearn.metrics import confusion_matrix\n",
    "from sklearn.linear_model import LogisticRegression\n",
    "from sklearn.ensemble import RandomForestClassifier"
   ],
   "metadata": {
    "collapsed": false,
    "ExecuteTime": {
     "end_time": "2023-12-20T06:53:44.387711100Z",
     "start_time": "2023-12-20T06:53:44.032008300Z"
    }
   },
   "id": "7ca22dc92e7847e5"
  },
  {
   "cell_type": "code",
   "execution_count": 238,
   "outputs": [],
   "source": [
    "X_train, X_test, y_train, y_test = train_test_split(X,y, test_size= .2)"
   ],
   "metadata": {
    "collapsed": false,
    "ExecuteTime": {
     "end_time": "2023-12-20T06:53:58.807893700Z",
     "start_time": "2023-12-20T06:53:58.733903400Z"
    }
   },
   "id": "40795a415533404a"
  },
  {
   "cell_type": "code",
   "execution_count": 239,
   "outputs": [
    {
     "name": "stdout",
     "output_type": "stream",
     "text": [
      "Train:  86.376\n",
      "Test:  85.326\n"
     ]
    }
   ],
   "source": [
    "logreg = LogisticRegression()\n",
    "logreg.fit(X_train, y_train)\n",
    "\n",
    "acc_log = round(logreg.score(X_train, y_train) * 100, 3)\n",
    "log = round(logreg.score(X_test, y_test) * 100, 3)\n",
    "\n",
    "print(\"Train: \", acc_log)\n",
    "print(\"Test: \", log)"
   ],
   "metadata": {
    "collapsed": false,
    "ExecuteTime": {
     "end_time": "2023-12-20T06:54:49.648160800Z",
     "start_time": "2023-12-20T06:54:49.547500200Z"
    }
   },
   "id": "b27a7f4fab9d29c3"
  },
  {
   "cell_type": "code",
   "execution_count": 240,
   "outputs": [
    {
     "name": "stdout",
     "output_type": "stream",
     "text": [
      "Train:  97.684\n",
      "Test:  82.065\n"
     ]
    }
   ],
   "source": [
    "RandomForestClassifier = RandomForestClassifier(n_estimators=6)\n",
    "RandomForestClassifier.fit(X_train, y_train)\n",
    "\n",
    "acc_random_forest = round(RandomForestClassifier.score(X_train, y_train) * 100, 3) \n",
    "random_forest = round(RandomForestClassifier.score(X_test, y_test) * 100, 3) \n",
    "\n",
    "print(\"Train: \", acc_random_forest)\n",
    "print(\"Test: \", random_forest)"
   ],
   "metadata": {
    "collapsed": false,
    "ExecuteTime": {
     "end_time": "2023-12-20T06:55:18.978896300Z",
     "start_time": "2023-12-20T06:55:18.930847200Z"
    }
   },
   "id": "69cd7f7640262427"
  },
  {
   "cell_type": "code",
   "execution_count": 241,
   "outputs": [
    {
     "data": {
      "text/plain": "                 Model  Training_score  Testing_score\n0  Logistic Regression          86.376         85.326\n1        Random Forest          97.684         82.065",
      "text/html": "<div>\n<style scoped>\n    .dataframe tbody tr th:only-of-type {\n        vertical-align: middle;\n    }\n\n    .dataframe tbody tr th {\n        vertical-align: top;\n    }\n\n    .dataframe thead th {\n        text-align: right;\n    }\n</style>\n<table border=\"1\" class=\"dataframe\">\n  <thead>\n    <tr style=\"text-align: right;\">\n      <th></th>\n      <th>Model</th>\n      <th>Training_score</th>\n      <th>Testing_score</th>\n    </tr>\n  </thead>\n  <tbody>\n    <tr>\n      <th>0</th>\n      <td>Logistic Regression</td>\n      <td>86.376</td>\n      <td>85.326</td>\n    </tr>\n    <tr>\n      <th>1</th>\n      <td>Random Forest</td>\n      <td>97.684</td>\n      <td>82.065</td>\n    </tr>\n  </tbody>\n</table>\n</div>"
     },
     "execution_count": 241,
     "metadata": {},
     "output_type": "execute_result"
    }
   ],
   "source": [
    "models = pd.DataFrame({\n",
    "    'Model': ['Logistic Regression', \n",
    "              'Random Forest'],\n",
    "    \n",
    "    'Training_score': [acc_log, acc_random_forest],\n",
    "    \n",
    "    'Testing_score' : [log, random_forest]})\n",
    "\n",
    "models.sort_values(by='Testing_score', ascending=False)"
   ],
   "metadata": {
    "collapsed": false,
    "ExecuteTime": {
     "end_time": "2023-12-20T06:55:54.267788900Z",
     "start_time": "2023-12-20T06:55:54.257708700Z"
    }
   },
   "id": "4eb32ef4a5270171"
  },
  {
   "cell_type": "code",
   "execution_count": null,
   "outputs": [],
   "source": [],
   "metadata": {
    "collapsed": false
   },
   "id": "f8b2c27abd0773c4"
  },
  {
   "cell_type": "code",
   "execution_count": null,
   "outputs": [],
   "source": [],
   "metadata": {
    "collapsed": false
   },
   "id": "6fd900c10bfcaf9d"
  },
  {
   "cell_type": "code",
   "execution_count": null,
   "outputs": [],
   "source": [],
   "metadata": {
    "collapsed": false
   },
   "id": "cdcbebada6604d0b"
  },
  {
   "cell_type": "code",
   "execution_count": null,
   "outputs": [],
   "source": [],
   "metadata": {
    "collapsed": false
   },
   "id": "b2151d13daf16162"
  },
  {
   "cell_type": "code",
   "execution_count": 181,
   "outputs": [],
   "source": [
    "from sklearn.model_selection import train_test_split\n",
    "\n",
    "X = df.drop('target', axis=1)\n",
    "y = df['target'].values\n",
    "\n",
    "X_train, X_test, y_train, y_test = train_test_split(X, y, test_size=0.3, random_state=42)"
   ],
   "metadata": {
    "collapsed": false,
    "ExecuteTime": {
     "end_time": "2023-12-20T06:11:17.434485800Z",
     "start_time": "2023-12-20T06:11:17.414610100Z"
    }
   },
   "id": "d8d08e69112bf545"
  },
  {
   "cell_type": "code",
   "execution_count": 182,
   "outputs": [
    {
     "name": "stdout",
     "output_type": "stream",
     "text": [
      "Размер обучающей выборки: (642, 11)\n",
      "Размер тестовой выборки: (276, 11)\n"
     ]
    }
   ],
   "source": [
    "print(f\"Размер обучающей выборки: {X_train.shape}\")\n",
    "print(f\"Размер тестовой выборки: {X_test.shape}\")"
   ],
   "metadata": {
    "collapsed": false,
    "ExecuteTime": {
     "end_time": "2023-12-20T06:11:18.684650900Z",
     "start_time": "2023-12-20T06:11:18.664867Z"
    }
   },
   "id": "2c085be7e0c15249"
  },
  {
   "cell_type": "code",
   "execution_count": 183,
   "outputs": [
    {
     "data": {
      "text/plain": "    Age  Sex  ChestPainType  RestingBP  Cholesterol  FastingBS  RestingECG  \\\n0    40    1              1        140          289          0           1   \n1    49    0              2        160          180          0           1   \n2    37    1              1        130          283          0           2   \n3    48    0              0        138          214          0           1   \n4    54    1              2        150          195          0           1   \n5    39    1              2        120          339          0           1   \n6    45    0              1        130          237          0           1   \n7    54    1              1        110          208          0           1   \n8    37    1              0        140          207          0           1   \n9    48    0              1        120          284          0           1   \n10   37    0              2        130          211          0           1   \n11   58    1              1        136          164          0           2   \n12   39    1              1        120          204          0           1   \n13   49    1              0        140          234          0           1   \n14   42    0              2        115          211          0           2   \n15   54    0              1        120          273          0           1   \n16   38    1              0        110          196          0           1   \n17   43    0              1        120          201          0           1   \n18   60    1              0        100          248          0           1   \n19   36    1              1        120          267          0           1   \n20   43    0              3        100          223          0           1   \n21   44    1              1        120          184          0           1   \n22   49    0              1        124          201          0           1   \n23   44    1              1        150          288          0           1   \n24   40    1              2        130          215          0           1   \n25   36    1              2        130          209          0           1   \n26   53    1              0        124          260          0           2   \n27   52    1              1        120          284          0           1   \n28   53    0              1        113          468          0           1   \n29   51    1              1        125          188          0           1   \n30   53    1              2        145          518          0           1   \n31   56    1              2        130          167          0           1   \n32   54    1              0        125          224          0           1   \n33   41    1              0        130          172          0           2   \n34   43    0              1        150          186          0           1   \n35   32    1              1        125          254          0           1   \n36   65    1              0        140          306          1           1   \n37   41    0              1        110          250          0           2   \n38   48    0              1        120          177          1           2   \n39   48    0              0        150          227          0           1   \n40   54    0              1        150          230          0           1   \n41   54    0              2        130          294          0           2   \n42   35    1              1        150          264          0           1   \n43   52    1              2        140          259          0           2   \n44   43    1              0        120          175          0           1   \n45   59    1              2        130          318          0           1   \n46   37    1              0        120          223          0           1   \n47   50    1              1        140          216          0           1   \n48   36    1              2        112          340          0           1   \n49   41    1              0        110          289          0           1   \n\n    MaxHR  ExerciseAngina  Oldpeak  ST_Slope  target  \n0     172               0      0.0         2       0  \n1     156               0      1.0         1       1  \n2      98               0      0.0         2       0  \n3     108               1      1.5         1       1  \n4     122               0      0.0         2       0  \n5     170               0      0.0         2       0  \n6     170               0      0.0         2       0  \n7     142               0      0.0         2       0  \n8     130               1      1.5         1       1  \n9     120               0      0.0         2       0  \n10    142               0      0.0         2       0  \n11     99               1      2.0         1       1  \n12    145               0      0.0         2       0  \n13    140               1      1.0         1       1  \n14    137               0      0.0         2       0  \n15    150               0      1.5         1       0  \n16    166               0      0.0         1       1  \n17    165               0      0.0         2       0  \n18    125               0      1.0         1       1  \n19    160               0      3.0         1       1  \n20    142               0      0.0         2       0  \n21    142               0      1.0         1       0  \n22    164               0      0.0         2       0  \n23    150               1      3.0         1       1  \n24    138               0      0.0         2       0  \n25    178               0      0.0         2       0  \n26    112               1      3.0         1       0  \n27    118               0      0.0         2       0  \n28    127               0      0.0         2       0  \n29    145               0      0.0         2       0  \n30    130               0      0.0         1       1  \n31    114               0      0.0         2       0  \n32    122               0      2.0         1       1  \n33    130               0      2.0         1       1  \n34    154               0      0.0         2       0  \n35    155               0      0.0         2       0  \n36     87               1      1.5         1       1  \n37    142               0      0.0         2       0  \n38    148               0      0.0         2       0  \n39    130               1      1.0         1       0  \n40    130               0      0.0         2       0  \n41    100               1      0.0         1       1  \n42    168               0      0.0         2       0  \n43    170               0      0.0         2       0  \n44    120               1      1.0         1       1  \n45    120               1      1.0         1       0  \n46    168               0      0.0         2       0  \n47    170               0      0.0         2       0  \n48    184               0      1.0         1       0  \n49    170               0      0.0         1       1  ",
      "text/html": "<div>\n<style scoped>\n    .dataframe tbody tr th:only-of-type {\n        vertical-align: middle;\n    }\n\n    .dataframe tbody tr th {\n        vertical-align: top;\n    }\n\n    .dataframe thead th {\n        text-align: right;\n    }\n</style>\n<table border=\"1\" class=\"dataframe\">\n  <thead>\n    <tr style=\"text-align: right;\">\n      <th></th>\n      <th>Age</th>\n      <th>Sex</th>\n      <th>ChestPainType</th>\n      <th>RestingBP</th>\n      <th>Cholesterol</th>\n      <th>FastingBS</th>\n      <th>RestingECG</th>\n      <th>MaxHR</th>\n      <th>ExerciseAngina</th>\n      <th>Oldpeak</th>\n      <th>ST_Slope</th>\n      <th>target</th>\n    </tr>\n  </thead>\n  <tbody>\n    <tr>\n      <th>0</th>\n      <td>40</td>\n      <td>1</td>\n      <td>1</td>\n      <td>140</td>\n      <td>289</td>\n      <td>0</td>\n      <td>1</td>\n      <td>172</td>\n      <td>0</td>\n      <td>0.0</td>\n      <td>2</td>\n      <td>0</td>\n    </tr>\n    <tr>\n      <th>1</th>\n      <td>49</td>\n      <td>0</td>\n      <td>2</td>\n      <td>160</td>\n      <td>180</td>\n      <td>0</td>\n      <td>1</td>\n      <td>156</td>\n      <td>0</td>\n      <td>1.0</td>\n      <td>1</td>\n      <td>1</td>\n    </tr>\n    <tr>\n      <th>2</th>\n      <td>37</td>\n      <td>1</td>\n      <td>1</td>\n      <td>130</td>\n      <td>283</td>\n      <td>0</td>\n      <td>2</td>\n      <td>98</td>\n      <td>0</td>\n      <td>0.0</td>\n      <td>2</td>\n      <td>0</td>\n    </tr>\n    <tr>\n      <th>3</th>\n      <td>48</td>\n      <td>0</td>\n      <td>0</td>\n      <td>138</td>\n      <td>214</td>\n      <td>0</td>\n      <td>1</td>\n      <td>108</td>\n      <td>1</td>\n      <td>1.5</td>\n      <td>1</td>\n      <td>1</td>\n    </tr>\n    <tr>\n      <th>4</th>\n      <td>54</td>\n      <td>1</td>\n      <td>2</td>\n      <td>150</td>\n      <td>195</td>\n      <td>0</td>\n      <td>1</td>\n      <td>122</td>\n      <td>0</td>\n      <td>0.0</td>\n      <td>2</td>\n      <td>0</td>\n    </tr>\n    <tr>\n      <th>5</th>\n      <td>39</td>\n      <td>1</td>\n      <td>2</td>\n      <td>120</td>\n      <td>339</td>\n      <td>0</td>\n      <td>1</td>\n      <td>170</td>\n      <td>0</td>\n      <td>0.0</td>\n      <td>2</td>\n      <td>0</td>\n    </tr>\n    <tr>\n      <th>6</th>\n      <td>45</td>\n      <td>0</td>\n      <td>1</td>\n      <td>130</td>\n      <td>237</td>\n      <td>0</td>\n      <td>1</td>\n      <td>170</td>\n      <td>0</td>\n      <td>0.0</td>\n      <td>2</td>\n      <td>0</td>\n    </tr>\n    <tr>\n      <th>7</th>\n      <td>54</td>\n      <td>1</td>\n      <td>1</td>\n      <td>110</td>\n      <td>208</td>\n      <td>0</td>\n      <td>1</td>\n      <td>142</td>\n      <td>0</td>\n      <td>0.0</td>\n      <td>2</td>\n      <td>0</td>\n    </tr>\n    <tr>\n      <th>8</th>\n      <td>37</td>\n      <td>1</td>\n      <td>0</td>\n      <td>140</td>\n      <td>207</td>\n      <td>0</td>\n      <td>1</td>\n      <td>130</td>\n      <td>1</td>\n      <td>1.5</td>\n      <td>1</td>\n      <td>1</td>\n    </tr>\n    <tr>\n      <th>9</th>\n      <td>48</td>\n      <td>0</td>\n      <td>1</td>\n      <td>120</td>\n      <td>284</td>\n      <td>0</td>\n      <td>1</td>\n      <td>120</td>\n      <td>0</td>\n      <td>0.0</td>\n      <td>2</td>\n      <td>0</td>\n    </tr>\n    <tr>\n      <th>10</th>\n      <td>37</td>\n      <td>0</td>\n      <td>2</td>\n      <td>130</td>\n      <td>211</td>\n      <td>0</td>\n      <td>1</td>\n      <td>142</td>\n      <td>0</td>\n      <td>0.0</td>\n      <td>2</td>\n      <td>0</td>\n    </tr>\n    <tr>\n      <th>11</th>\n      <td>58</td>\n      <td>1</td>\n      <td>1</td>\n      <td>136</td>\n      <td>164</td>\n      <td>0</td>\n      <td>2</td>\n      <td>99</td>\n      <td>1</td>\n      <td>2.0</td>\n      <td>1</td>\n      <td>1</td>\n    </tr>\n    <tr>\n      <th>12</th>\n      <td>39</td>\n      <td>1</td>\n      <td>1</td>\n      <td>120</td>\n      <td>204</td>\n      <td>0</td>\n      <td>1</td>\n      <td>145</td>\n      <td>0</td>\n      <td>0.0</td>\n      <td>2</td>\n      <td>0</td>\n    </tr>\n    <tr>\n      <th>13</th>\n      <td>49</td>\n      <td>1</td>\n      <td>0</td>\n      <td>140</td>\n      <td>234</td>\n      <td>0</td>\n      <td>1</td>\n      <td>140</td>\n      <td>1</td>\n      <td>1.0</td>\n      <td>1</td>\n      <td>1</td>\n    </tr>\n    <tr>\n      <th>14</th>\n      <td>42</td>\n      <td>0</td>\n      <td>2</td>\n      <td>115</td>\n      <td>211</td>\n      <td>0</td>\n      <td>2</td>\n      <td>137</td>\n      <td>0</td>\n      <td>0.0</td>\n      <td>2</td>\n      <td>0</td>\n    </tr>\n    <tr>\n      <th>15</th>\n      <td>54</td>\n      <td>0</td>\n      <td>1</td>\n      <td>120</td>\n      <td>273</td>\n      <td>0</td>\n      <td>1</td>\n      <td>150</td>\n      <td>0</td>\n      <td>1.5</td>\n      <td>1</td>\n      <td>0</td>\n    </tr>\n    <tr>\n      <th>16</th>\n      <td>38</td>\n      <td>1</td>\n      <td>0</td>\n      <td>110</td>\n      <td>196</td>\n      <td>0</td>\n      <td>1</td>\n      <td>166</td>\n      <td>0</td>\n      <td>0.0</td>\n      <td>1</td>\n      <td>1</td>\n    </tr>\n    <tr>\n      <th>17</th>\n      <td>43</td>\n      <td>0</td>\n      <td>1</td>\n      <td>120</td>\n      <td>201</td>\n      <td>0</td>\n      <td>1</td>\n      <td>165</td>\n      <td>0</td>\n      <td>0.0</td>\n      <td>2</td>\n      <td>0</td>\n    </tr>\n    <tr>\n      <th>18</th>\n      <td>60</td>\n      <td>1</td>\n      <td>0</td>\n      <td>100</td>\n      <td>248</td>\n      <td>0</td>\n      <td>1</td>\n      <td>125</td>\n      <td>0</td>\n      <td>1.0</td>\n      <td>1</td>\n      <td>1</td>\n    </tr>\n    <tr>\n      <th>19</th>\n      <td>36</td>\n      <td>1</td>\n      <td>1</td>\n      <td>120</td>\n      <td>267</td>\n      <td>0</td>\n      <td>1</td>\n      <td>160</td>\n      <td>0</td>\n      <td>3.0</td>\n      <td>1</td>\n      <td>1</td>\n    </tr>\n    <tr>\n      <th>20</th>\n      <td>43</td>\n      <td>0</td>\n      <td>3</td>\n      <td>100</td>\n      <td>223</td>\n      <td>0</td>\n      <td>1</td>\n      <td>142</td>\n      <td>0</td>\n      <td>0.0</td>\n      <td>2</td>\n      <td>0</td>\n    </tr>\n    <tr>\n      <th>21</th>\n      <td>44</td>\n      <td>1</td>\n      <td>1</td>\n      <td>120</td>\n      <td>184</td>\n      <td>0</td>\n      <td>1</td>\n      <td>142</td>\n      <td>0</td>\n      <td>1.0</td>\n      <td>1</td>\n      <td>0</td>\n    </tr>\n    <tr>\n      <th>22</th>\n      <td>49</td>\n      <td>0</td>\n      <td>1</td>\n      <td>124</td>\n      <td>201</td>\n      <td>0</td>\n      <td>1</td>\n      <td>164</td>\n      <td>0</td>\n      <td>0.0</td>\n      <td>2</td>\n      <td>0</td>\n    </tr>\n    <tr>\n      <th>23</th>\n      <td>44</td>\n      <td>1</td>\n      <td>1</td>\n      <td>150</td>\n      <td>288</td>\n      <td>0</td>\n      <td>1</td>\n      <td>150</td>\n      <td>1</td>\n      <td>3.0</td>\n      <td>1</td>\n      <td>1</td>\n    </tr>\n    <tr>\n      <th>24</th>\n      <td>40</td>\n      <td>1</td>\n      <td>2</td>\n      <td>130</td>\n      <td>215</td>\n      <td>0</td>\n      <td>1</td>\n      <td>138</td>\n      <td>0</td>\n      <td>0.0</td>\n      <td>2</td>\n      <td>0</td>\n    </tr>\n    <tr>\n      <th>25</th>\n      <td>36</td>\n      <td>1</td>\n      <td>2</td>\n      <td>130</td>\n      <td>209</td>\n      <td>0</td>\n      <td>1</td>\n      <td>178</td>\n      <td>0</td>\n      <td>0.0</td>\n      <td>2</td>\n      <td>0</td>\n    </tr>\n    <tr>\n      <th>26</th>\n      <td>53</td>\n      <td>1</td>\n      <td>0</td>\n      <td>124</td>\n      <td>260</td>\n      <td>0</td>\n      <td>2</td>\n      <td>112</td>\n      <td>1</td>\n      <td>3.0</td>\n      <td>1</td>\n      <td>0</td>\n    </tr>\n    <tr>\n      <th>27</th>\n      <td>52</td>\n      <td>1</td>\n      <td>1</td>\n      <td>120</td>\n      <td>284</td>\n      <td>0</td>\n      <td>1</td>\n      <td>118</td>\n      <td>0</td>\n      <td>0.0</td>\n      <td>2</td>\n      <td>0</td>\n    </tr>\n    <tr>\n      <th>28</th>\n      <td>53</td>\n      <td>0</td>\n      <td>1</td>\n      <td>113</td>\n      <td>468</td>\n      <td>0</td>\n      <td>1</td>\n      <td>127</td>\n      <td>0</td>\n      <td>0.0</td>\n      <td>2</td>\n      <td>0</td>\n    </tr>\n    <tr>\n      <th>29</th>\n      <td>51</td>\n      <td>1</td>\n      <td>1</td>\n      <td>125</td>\n      <td>188</td>\n      <td>0</td>\n      <td>1</td>\n      <td>145</td>\n      <td>0</td>\n      <td>0.0</td>\n      <td>2</td>\n      <td>0</td>\n    </tr>\n    <tr>\n      <th>30</th>\n      <td>53</td>\n      <td>1</td>\n      <td>2</td>\n      <td>145</td>\n      <td>518</td>\n      <td>0</td>\n      <td>1</td>\n      <td>130</td>\n      <td>0</td>\n      <td>0.0</td>\n      <td>1</td>\n      <td>1</td>\n    </tr>\n    <tr>\n      <th>31</th>\n      <td>56</td>\n      <td>1</td>\n      <td>2</td>\n      <td>130</td>\n      <td>167</td>\n      <td>0</td>\n      <td>1</td>\n      <td>114</td>\n      <td>0</td>\n      <td>0.0</td>\n      <td>2</td>\n      <td>0</td>\n    </tr>\n    <tr>\n      <th>32</th>\n      <td>54</td>\n      <td>1</td>\n      <td>0</td>\n      <td>125</td>\n      <td>224</td>\n      <td>0</td>\n      <td>1</td>\n      <td>122</td>\n      <td>0</td>\n      <td>2.0</td>\n      <td>1</td>\n      <td>1</td>\n    </tr>\n    <tr>\n      <th>33</th>\n      <td>41</td>\n      <td>1</td>\n      <td>0</td>\n      <td>130</td>\n      <td>172</td>\n      <td>0</td>\n      <td>2</td>\n      <td>130</td>\n      <td>0</td>\n      <td>2.0</td>\n      <td>1</td>\n      <td>1</td>\n    </tr>\n    <tr>\n      <th>34</th>\n      <td>43</td>\n      <td>0</td>\n      <td>1</td>\n      <td>150</td>\n      <td>186</td>\n      <td>0</td>\n      <td>1</td>\n      <td>154</td>\n      <td>0</td>\n      <td>0.0</td>\n      <td>2</td>\n      <td>0</td>\n    </tr>\n    <tr>\n      <th>35</th>\n      <td>32</td>\n      <td>1</td>\n      <td>1</td>\n      <td>125</td>\n      <td>254</td>\n      <td>0</td>\n      <td>1</td>\n      <td>155</td>\n      <td>0</td>\n      <td>0.0</td>\n      <td>2</td>\n      <td>0</td>\n    </tr>\n    <tr>\n      <th>36</th>\n      <td>65</td>\n      <td>1</td>\n      <td>0</td>\n      <td>140</td>\n      <td>306</td>\n      <td>1</td>\n      <td>1</td>\n      <td>87</td>\n      <td>1</td>\n      <td>1.5</td>\n      <td>1</td>\n      <td>1</td>\n    </tr>\n    <tr>\n      <th>37</th>\n      <td>41</td>\n      <td>0</td>\n      <td>1</td>\n      <td>110</td>\n      <td>250</td>\n      <td>0</td>\n      <td>2</td>\n      <td>142</td>\n      <td>0</td>\n      <td>0.0</td>\n      <td>2</td>\n      <td>0</td>\n    </tr>\n    <tr>\n      <th>38</th>\n      <td>48</td>\n      <td>0</td>\n      <td>1</td>\n      <td>120</td>\n      <td>177</td>\n      <td>1</td>\n      <td>2</td>\n      <td>148</td>\n      <td>0</td>\n      <td>0.0</td>\n      <td>2</td>\n      <td>0</td>\n    </tr>\n    <tr>\n      <th>39</th>\n      <td>48</td>\n      <td>0</td>\n      <td>0</td>\n      <td>150</td>\n      <td>227</td>\n      <td>0</td>\n      <td>1</td>\n      <td>130</td>\n      <td>1</td>\n      <td>1.0</td>\n      <td>1</td>\n      <td>0</td>\n    </tr>\n    <tr>\n      <th>40</th>\n      <td>54</td>\n      <td>0</td>\n      <td>1</td>\n      <td>150</td>\n      <td>230</td>\n      <td>0</td>\n      <td>1</td>\n      <td>130</td>\n      <td>0</td>\n      <td>0.0</td>\n      <td>2</td>\n      <td>0</td>\n    </tr>\n    <tr>\n      <th>41</th>\n      <td>54</td>\n      <td>0</td>\n      <td>2</td>\n      <td>130</td>\n      <td>294</td>\n      <td>0</td>\n      <td>2</td>\n      <td>100</td>\n      <td>1</td>\n      <td>0.0</td>\n      <td>1</td>\n      <td>1</td>\n    </tr>\n    <tr>\n      <th>42</th>\n      <td>35</td>\n      <td>1</td>\n      <td>1</td>\n      <td>150</td>\n      <td>264</td>\n      <td>0</td>\n      <td>1</td>\n      <td>168</td>\n      <td>0</td>\n      <td>0.0</td>\n      <td>2</td>\n      <td>0</td>\n    </tr>\n    <tr>\n      <th>43</th>\n      <td>52</td>\n      <td>1</td>\n      <td>2</td>\n      <td>140</td>\n      <td>259</td>\n      <td>0</td>\n      <td>2</td>\n      <td>170</td>\n      <td>0</td>\n      <td>0.0</td>\n      <td>2</td>\n      <td>0</td>\n    </tr>\n    <tr>\n      <th>44</th>\n      <td>43</td>\n      <td>1</td>\n      <td>0</td>\n      <td>120</td>\n      <td>175</td>\n      <td>0</td>\n      <td>1</td>\n      <td>120</td>\n      <td>1</td>\n      <td>1.0</td>\n      <td>1</td>\n      <td>1</td>\n    </tr>\n    <tr>\n      <th>45</th>\n      <td>59</td>\n      <td>1</td>\n      <td>2</td>\n      <td>130</td>\n      <td>318</td>\n      <td>0</td>\n      <td>1</td>\n      <td>120</td>\n      <td>1</td>\n      <td>1.0</td>\n      <td>1</td>\n      <td>0</td>\n    </tr>\n    <tr>\n      <th>46</th>\n      <td>37</td>\n      <td>1</td>\n      <td>0</td>\n      <td>120</td>\n      <td>223</td>\n      <td>0</td>\n      <td>1</td>\n      <td>168</td>\n      <td>0</td>\n      <td>0.0</td>\n      <td>2</td>\n      <td>0</td>\n    </tr>\n    <tr>\n      <th>47</th>\n      <td>50</td>\n      <td>1</td>\n      <td>1</td>\n      <td>140</td>\n      <td>216</td>\n      <td>0</td>\n      <td>1</td>\n      <td>170</td>\n      <td>0</td>\n      <td>0.0</td>\n      <td>2</td>\n      <td>0</td>\n    </tr>\n    <tr>\n      <th>48</th>\n      <td>36</td>\n      <td>1</td>\n      <td>2</td>\n      <td>112</td>\n      <td>340</td>\n      <td>0</td>\n      <td>1</td>\n      <td>184</td>\n      <td>0</td>\n      <td>1.0</td>\n      <td>1</td>\n      <td>0</td>\n    </tr>\n    <tr>\n      <th>49</th>\n      <td>41</td>\n      <td>1</td>\n      <td>0</td>\n      <td>110</td>\n      <td>289</td>\n      <td>0</td>\n      <td>1</td>\n      <td>170</td>\n      <td>0</td>\n      <td>0.0</td>\n      <td>1</td>\n      <td>1</td>\n    </tr>\n  </tbody>\n</table>\n</div>"
     },
     "execution_count": 183,
     "metadata": {},
     "output_type": "execute_result"
    }
   ],
   "source": [
    "df.head(50)"
   ],
   "metadata": {
    "collapsed": false,
    "ExecuteTime": {
     "end_time": "2023-12-20T06:11:20.924788700Z",
     "start_time": "2023-12-20T06:11:20.874673100Z"
    }
   },
   "id": "f72dc55a9fbbbc41"
  },
  {
   "cell_type": "code",
   "execution_count": 151,
   "outputs": [],
   "source": [
    "from sklearn.neighbors import KNeighborsClassifier"
   ],
   "metadata": {
    "collapsed": false,
    "ExecuteTime": {
     "end_time": "2023-12-20T06:03:37.697028100Z",
     "start_time": "2023-12-20T06:03:37.675299800Z"
    }
   },
   "id": "92028c452614cc38"
  },
  {
   "cell_type": "code",
   "execution_count": 152,
   "outputs": [
    {
     "data": {
      "text/plain": "KNeighborsClassifier(n_neighbors=1)",
      "text/html": "<style>#sk-container-id-11 {color: black;}#sk-container-id-11 pre{padding: 0;}#sk-container-id-11 div.sk-toggleable {background-color: white;}#sk-container-id-11 label.sk-toggleable__label {cursor: pointer;display: block;width: 100%;margin-bottom: 0;padding: 0.3em;box-sizing: border-box;text-align: center;}#sk-container-id-11 label.sk-toggleable__label-arrow:before {content: \"▸\";float: left;margin-right: 0.25em;color: #696969;}#sk-container-id-11 label.sk-toggleable__label-arrow:hover:before {color: black;}#sk-container-id-11 div.sk-estimator:hover label.sk-toggleable__label-arrow:before {color: black;}#sk-container-id-11 div.sk-toggleable__content {max-height: 0;max-width: 0;overflow: hidden;text-align: left;background-color: #f0f8ff;}#sk-container-id-11 div.sk-toggleable__content pre {margin: 0.2em;color: black;border-radius: 0.25em;background-color: #f0f8ff;}#sk-container-id-11 input.sk-toggleable__control:checked~div.sk-toggleable__content {max-height: 200px;max-width: 100%;overflow: auto;}#sk-container-id-11 input.sk-toggleable__control:checked~label.sk-toggleable__label-arrow:before {content: \"▾\";}#sk-container-id-11 div.sk-estimator input.sk-toggleable__control:checked~label.sk-toggleable__label {background-color: #d4ebff;}#sk-container-id-11 div.sk-label input.sk-toggleable__control:checked~label.sk-toggleable__label {background-color: #d4ebff;}#sk-container-id-11 input.sk-hidden--visually {border: 0;clip: rect(1px 1px 1px 1px);clip: rect(1px, 1px, 1px, 1px);height: 1px;margin: -1px;overflow: hidden;padding: 0;position: absolute;width: 1px;}#sk-container-id-11 div.sk-estimator {font-family: monospace;background-color: #f0f8ff;border: 1px dotted black;border-radius: 0.25em;box-sizing: border-box;margin-bottom: 0.5em;}#sk-container-id-11 div.sk-estimator:hover {background-color: #d4ebff;}#sk-container-id-11 div.sk-parallel-item::after {content: \"\";width: 100%;border-bottom: 1px solid gray;flex-grow: 1;}#sk-container-id-11 div.sk-label:hover label.sk-toggleable__label {background-color: #d4ebff;}#sk-container-id-11 div.sk-serial::before {content: \"\";position: absolute;border-left: 1px solid gray;box-sizing: border-box;top: 0;bottom: 0;left: 50%;z-index: 0;}#sk-container-id-11 div.sk-serial {display: flex;flex-direction: column;align-items: center;background-color: white;padding-right: 0.2em;padding-left: 0.2em;position: relative;}#sk-container-id-11 div.sk-item {position: relative;z-index: 1;}#sk-container-id-11 div.sk-parallel {display: flex;align-items: stretch;justify-content: center;background-color: white;position: relative;}#sk-container-id-11 div.sk-item::before, #sk-container-id-11 div.sk-parallel-item::before {content: \"\";position: absolute;border-left: 1px solid gray;box-sizing: border-box;top: 0;bottom: 0;left: 50%;z-index: -1;}#sk-container-id-11 div.sk-parallel-item {display: flex;flex-direction: column;z-index: 1;position: relative;background-color: white;}#sk-container-id-11 div.sk-parallel-item:first-child::after {align-self: flex-end;width: 50%;}#sk-container-id-11 div.sk-parallel-item:last-child::after {align-self: flex-start;width: 50%;}#sk-container-id-11 div.sk-parallel-item:only-child::after {width: 0;}#sk-container-id-11 div.sk-dashed-wrapped {border: 1px dashed gray;margin: 0 0.4em 0.5em 0.4em;box-sizing: border-box;padding-bottom: 0.4em;background-color: white;}#sk-container-id-11 div.sk-label label {font-family: monospace;font-weight: bold;display: inline-block;line-height: 1.2em;}#sk-container-id-11 div.sk-label-container {text-align: center;}#sk-container-id-11 div.sk-container {/* jupyter's `normalize.less` sets `[hidden] { display: none; }` but bootstrap.min.css set `[hidden] { display: none !important; }` so we also need the `!important` here to be able to override the default hidden behavior on the sphinx rendered scikit-learn.org. See: https://github.com/scikit-learn/scikit-learn/issues/21755 */display: inline-block !important;position: relative;}#sk-container-id-11 div.sk-text-repr-fallback {display: none;}</style><div id=\"sk-container-id-11\" class=\"sk-top-container\"><div class=\"sk-text-repr-fallback\"><pre>KNeighborsClassifier(n_neighbors=1)</pre><b>In a Jupyter environment, please rerun this cell to show the HTML representation or trust the notebook. <br />On GitHub, the HTML representation is unable to render, please try loading this page with nbviewer.org.</b></div><div class=\"sk-container\" hidden><div class=\"sk-item\"><div class=\"sk-estimator sk-toggleable\"><input class=\"sk-toggleable__control sk-hidden--visually\" id=\"sk-estimator-id-11\" type=\"checkbox\" checked><label for=\"sk-estimator-id-11\" class=\"sk-toggleable__label sk-toggleable__label-arrow\">KNeighborsClassifier</label><div class=\"sk-toggleable__content\"><pre>KNeighborsClassifier(n_neighbors=1)</pre></div></div></div></div></div>"
     },
     "execution_count": 152,
     "metadata": {},
     "output_type": "execute_result"
    }
   ],
   "source": [
    "clf = KNeighborsClassifier(n_neighbors=1)\n",
    "clf.fit(X_train, y_train)"
   ],
   "metadata": {
    "collapsed": false,
    "ExecuteTime": {
     "end_time": "2023-12-20T06:03:38.489637900Z",
     "start_time": "2023-12-20T06:03:38.448914Z"
    }
   },
   "id": "c32a236a27f840c4"
  },
  {
   "cell_type": "code",
   "execution_count": null,
   "outputs": [],
   "source": [],
   "metadata": {
    "collapsed": false
   },
   "id": "99281a1675f0d1ab"
  },
  {
   "cell_type": "code",
   "execution_count": 153,
   "outputs": [
    {
     "name": "stdout",
     "output_type": "stream",
     "text": [
      "Accuracy on the test set: 0.65\n"
     ]
    }
   ],
   "source": [
    "print(\"Accuracy on the test set: {:.2f}\".format(clf.score(X_test,y_test)))"
   ],
   "metadata": {
    "collapsed": false,
    "ExecuteTime": {
     "end_time": "2023-12-20T06:03:39.953487Z",
     "start_time": "2023-12-20T06:03:39.905637Z"
    }
   },
   "id": "8d0480d53255eae9"
  },
  {
   "cell_type": "code",
   "execution_count": 154,
   "outputs": [
    {
     "data": {
      "text/plain": "<Figure size 640x480 with 1 Axes>",
      "image/png": "[encoded data removed]"
     },
     "metadata": {},
     "output_type": "display_data"
    }
   ],
   "source": [
    "from matplotlib import pyplot as plt\n",
    "\n",
    "training_accuracy = []\n",
    "test_accuracy = []\n",
    "neighbors_settings = range(1, 11)\n",
    "\n",
    "for n_neighbors in neighbors_settings:\n",
    "    clf = KNeighborsClassifier(n_neighbors=n_neighbors)\n",
    "    clf.fit(X_train, y_train)\n",
    "    training_accuracy.append(clf.score(X_train, y_train))\n",
    "    test_accuracy.append(clf.score(X_test, y_test))\n",
    "\n",
    "plt.plot(neighbors_settings, training_accuracy, label=\"Training Accuracy\")\n",
    "plt.plot(neighbors_settings, test_accuracy, label=\"Test Accuracy\")\n",
    "plt.ylabel(\"Accuracy\")\n",
    "plt.xlabel(\"Number of Neighbors\")\n",
    "plt.legend()\n",
    "plt.title(\"k-NN varying number of neighbors on heart dataset\")\n",
    "plt.show()"
   ],
   "metadata": {
    "collapsed": false,
    "ExecuteTime": {
     "end_time": "2023-12-20T06:03:47.149400500Z",
     "start_time": "2023-12-20T06:03:45.788063300Z"
    }
   },
   "id": "b3608504e649f43f"
  },
  {
   "cell_type": "code",
   "execution_count": 155,
   "outputs": [
    {
     "data": {
      "text/plain": "KNeighborsRegressor(n_neighbors=3)",
      "text/html": "<style>#sk-container-id-12 {color: black;}#sk-container-id-12 pre{padding: 0;}#sk-container-id-12 div.sk-toggleable {background-color: white;}#sk-container-id-12 label.sk-toggleable__label {cursor: pointer;display: block;width: 100%;margin-bottom: 0;padding: 0.3em;box-sizing: border-box;text-align: center;}#sk-container-id-12 label.sk-toggleable__label-arrow:before {content: \"▸\";float: left;margin-right: 0.25em;color: #696969;}#sk-container-id-12 label.sk-toggleable__label-arrow:hover:before {color: black;}#sk-container-id-12 div.sk-estimator:hover label.sk-toggleable__label-arrow:before {color: black;}#sk-container-id-12 div.sk-toggleable__content {max-height: 0;max-width: 0;overflow: hidden;text-align: left;background-color: #f0f8ff;}#sk-container-id-12 div.sk-toggleable__content pre {margin: 0.2em;color: black;border-radius: 0.25em;background-color: #f0f8ff;}#sk-container-id-12 input.sk-toggleable__control:checked~div.sk-toggleable__content {max-height: 200px;max-width: 100%;overflow: auto;}#sk-container-id-12 input.sk-toggleable__control:checked~label.sk-toggleable__label-arrow:before {content: \"▾\";}#sk-container-id-12 div.sk-estimator input.sk-toggleable__control:checked~label.sk-toggleable__label {background-color: #d4ebff;}#sk-container-id-12 div.sk-label input.sk-toggleable__control:checked~label.sk-toggleable__label {background-color: #d4ebff;}#sk-container-id-12 input.sk-hidden--visually {border: 0;clip: rect(1px 1px 1px 1px);clip: rect(1px, 1px, 1px, 1px);height: 1px;margin: -1px;overflow: hidden;padding: 0;position: absolute;width: 1px;}#sk-container-id-12 div.sk-estimator {font-family: monospace;background-color: #f0f8ff;border: 1px dotted black;border-radius: 0.25em;box-sizing: border-box;margin-bottom: 0.5em;}#sk-container-id-12 div.sk-estimator:hover {background-color: #d4ebff;}#sk-container-id-12 div.sk-parallel-item::after {content: \"\";width: 100%;border-bottom: 1px solid gray;flex-grow: 1;}#sk-container-id-12 div.sk-label:hover label.sk-toggleable__label {background-color: #d4ebff;}#sk-container-id-12 div.sk-serial::before {content: \"\";position: absolute;border-left: 1px solid gray;box-sizing: border-box;top: 0;bottom: 0;left: 50%;z-index: 0;}#sk-container-id-12 div.sk-serial {display: flex;flex-direction: column;align-items: center;background-color: white;padding-right: 0.2em;padding-left: 0.2em;position: relative;}#sk-container-id-12 div.sk-item {position: relative;z-index: 1;}#sk-container-id-12 div.sk-parallel {display: flex;align-items: stretch;justify-content: center;background-color: white;position: relative;}#sk-container-id-12 div.sk-item::before, #sk-container-id-12 div.sk-parallel-item::before {content: \"\";position: absolute;border-left: 1px solid gray;box-sizing: border-box;top: 0;bottom: 0;left: 50%;z-index: -1;}#sk-container-id-12 div.sk-parallel-item {display: flex;flex-direction: column;z-index: 1;position: relative;background-color: white;}#sk-container-id-12 div.sk-parallel-item:first-child::after {align-self: flex-end;width: 50%;}#sk-container-id-12 div.sk-parallel-item:last-child::after {align-self: flex-start;width: 50%;}#sk-container-id-12 div.sk-parallel-item:only-child::after {width: 0;}#sk-container-id-12 div.sk-dashed-wrapped {border: 1px dashed gray;margin: 0 0.4em 0.5em 0.4em;box-sizing: border-box;padding-bottom: 0.4em;background-color: white;}#sk-container-id-12 div.sk-label label {font-family: monospace;font-weight: bold;display: inline-block;line-height: 1.2em;}#sk-container-id-12 div.sk-label-container {text-align: center;}#sk-container-id-12 div.sk-container {/* jupyter's `normalize.less` sets `[hidden] { display: none; }` but bootstrap.min.css set `[hidden] { display: none !important; }` so we also need the `!important` here to be able to override the default hidden behavior on the sphinx rendered scikit-learn.org. See: https://github.com/scikit-learn/scikit-learn/issues/21755 */display: inline-block !important;position: relative;}#sk-container-id-12 div.sk-text-repr-fallback {display: none;}</style><div id=\"sk-container-id-12\" class=\"sk-top-container\"><div class=\"sk-text-repr-fallback\"><pre>KNeighborsRegressor(n_neighbors=3)</pre><b>In a Jupyter environment, please rerun this cell to show the HTML representation or trust the notebook. <br />On GitHub, the HTML representation is unable to render, please try loading this page with nbviewer.org.</b></div><div class=\"sk-container\" hidden><div class=\"sk-item\"><div class=\"sk-estimator sk-toggleable\"><input class=\"sk-toggleable__control sk-hidden--visually\" id=\"sk-estimator-id-12\" type=\"checkbox\" checked><label for=\"sk-estimator-id-12\" class=\"sk-toggleable__label sk-toggleable__label-arrow\">KNeighborsRegressor</label><div class=\"sk-toggleable__content\"><pre>KNeighborsRegressor(n_neighbors=3)</pre></div></div></div></div></div>"
     },
     "execution_count": 155,
     "metadata": {},
     "output_type": "execute_result"
    }
   ],
   "source": [
    "from sklearn.neighbors import KNeighborsRegressor\n",
    "\n",
    "knn_regressor1 = KNeighborsRegressor(n_neighbors=1)\n",
    "knn_regressor1.fit(X_train, y_train)\n",
    "\n",
    "knn_regressor3 = KNeighborsRegressor(n_neighbors=3)\n",
    "knn_regressor3.fit(X_train, y_train)"
   ],
   "metadata": {
    "collapsed": false,
    "ExecuteTime": {
     "end_time": "2023-12-20T06:04:00.542923300Z",
     "start_time": "2023-12-20T06:04:00.499362700Z"
    }
   },
   "id": "8341da3e3c42131c"
  },
  {
   "cell_type": "code",
   "execution_count": 156,
   "outputs": [
    {
     "name": "stdout",
     "output_type": "stream",
     "text": [
      "Correctness on the train set with knn=1: 1.00\n",
      "Correctness on the train set with knn=3: 0.51\n"
     ]
    }
   ],
   "source": [
    "print(\"Correctness on the train set with knn=1: {:.2f}\".format(knn_regressor1.score(X_train,y_train)))\n",
    "print(\"Correctness on the train set with knn=3: {:.2f}\".format(knn_regressor3.score(X_train,y_train)))"
   ],
   "metadata": {
    "collapsed": false,
    "ExecuteTime": {
     "end_time": "2023-12-20T06:04:01.800875Z",
     "start_time": "2023-12-20T06:04:01.767830900Z"
    }
   },
   "id": "da38cbbecff02de3"
  },
  {
   "cell_type": "code",
   "execution_count": 157,
   "outputs": [],
   "source": [
    "from sklearn.linear_model import LinearRegression\n",
    "lr = LinearRegression().fit(X_train, y_train)"
   ],
   "metadata": {
    "collapsed": false,
    "ExecuteTime": {
     "end_time": "2023-12-20T06:05:02.377795400Z",
     "start_time": "2023-12-20T06:05:02.370732Z"
    }
   },
   "id": "d51d9710df7b8b6b"
  },
  {
   "cell_type": "code",
   "execution_count": 158,
   "outputs": [
    {
     "name": "stdout",
     "output_type": "stream",
     "text": [
      "lr.coef_:[ 0.00205578  0.14282714 -0.08087135  0.00031276 -0.00051821  0.13330467\n",
      " -0.02951395 -0.00120903  0.21256977  0.05891159 -0.24367027]\n",
      "lr.intercept_:0.7979632033281183\n"
     ]
    }
   ],
   "source": [
    "print(\"lr.coef_:{}\".format(lr.coef_))\n",
    "print(\"lr.intercept_:{}\".format(lr.intercept_))"
   ],
   "metadata": {
    "collapsed": false,
    "ExecuteTime": {
     "end_time": "2023-12-20T06:05:03.279574700Z",
     "start_time": "2023-12-20T06:05:03.269031600Z"
    }
   },
   "id": "615ab3bb392b1bc"
  },
  {
   "cell_type": "code",
   "execution_count": 159,
   "outputs": [
    {
     "name": "stdout",
     "output_type": "stream",
     "text": [
      "Correctness on the train set: 0.51\n",
      "Correctness on the test set: 0.51\n"
     ]
    }
   ],
   "source": [
    "print(\"Correctness on the train set: {:.2f}\".format(lr.score(X_train,y_train)))\n",
    "print(\"Correctness on the test set: {:.2f}\".format(lr.score(X_test,y_test)))"
   ],
   "metadata": {
    "collapsed": false,
    "ExecuteTime": {
     "end_time": "2023-12-20T06:05:04.359331900Z",
     "start_time": "2023-12-20T06:05:04.318795800Z"
    }
   },
   "id": "aa95665c9fbecf9e"
  },
  {
   "cell_type": "code",
   "execution_count": 160,
   "outputs": [],
   "source": [
    "from sklearn.linear_model import Ridge\n",
    "ridge = Ridge().fit(X_train,y_train)\n",
    "ridge01 = Ridge(alpha=0.1).fit(X_train,y_train)\n",
    "ridge10 = Ridge(alpha=10).fit(X_train,y_train)"
   ],
   "metadata": {
    "collapsed": false,
    "ExecuteTime": {
     "end_time": "2023-12-20T06:05:30.648967Z",
     "start_time": "2023-12-20T06:05:30.615851500Z"
    }
   },
   "id": "485c9e64fc16f8ab"
  },
  {
   "cell_type": "code",
   "execution_count": 161,
   "outputs": [
    {
     "name": "stdout",
     "output_type": "stream",
     "text": [
      "Correctness on the train set: 0.51\n",
      "Correctness on the test set: 0.51\n"
     ]
    }
   ],
   "source": [
    "print(\"Correctness on the train set: {:.2f}\".format(ridge.score(X_train,y_train)))\n",
    "print(\"Correctness on the test set: {:.2f}\".format(ridge.score(X_test,y_test)))"
   ],
   "metadata": {
    "collapsed": false,
    "ExecuteTime": {
     "end_time": "2023-12-20T06:05:31.010301600Z",
     "start_time": "2023-12-20T06:05:30.965666Z"
    }
   },
   "id": "42d0e9b084982cd"
  },
  {
   "cell_type": "code",
   "execution_count": 162,
   "outputs": [
    {
     "name": "stdout",
     "output_type": "stream",
     "text": [
      "Correctness on the train set: 0.51\n",
      "Correctness on the test set: 0.51\n"
     ]
    }
   ],
   "source": [
    "print(\"Correctness on the train set: {:.2f}\".format(ridge01.score(X_train,y_train)))\n",
    "print(\"Correctness on the test set: {:.2f}\".format(ridge01.score(X_test,y_test)))"
   ],
   "metadata": {
    "collapsed": false,
    "ExecuteTime": {
     "end_time": "2023-12-20T06:05:31.374652900Z",
     "start_time": "2023-12-20T06:05:31.314397900Z"
    }
   },
   "id": "6b45d92236c3a1e1"
  },
  {
   "cell_type": "code",
   "execution_count": 163,
   "outputs": [
    {
     "name": "stdout",
     "output_type": "stream",
     "text": [
      "Correctness on the train set: 0.51\n",
      "Correctness on the test set: 0.51\n"
     ]
    }
   ],
   "source": [
    "print(\"Correctness on the train set: {:.2f}\".format(ridge10.score(X_train,y_train)))\n",
    "print(\"Correctness on the test set: {:.2f}\".format(ridge10.score(X_test,y_test)))"
   ],
   "metadata": {
    "collapsed": false,
    "ExecuteTime": {
     "end_time": "2023-12-20T06:05:31.968120600Z",
     "start_time": "2023-12-20T06:05:31.935772700Z"
    }
   },
   "id": "f863dc9f6d6fc41c"
  },
  {
   "cell_type": "code",
   "execution_count": 164,
   "outputs": [
    {
     "name": "stderr",
     "output_type": "stream",
     "text": [
      "C:\\Users\\Aiana Sagynbek\\PycharmProjects\\coursework\\venv\\lib\\site-packages\\sklearn\\linear_model\\_logistic.py:460: ConvergenceWarning: lbfgs failed to converge (status=1):\n",
      "STOP: TOTAL NO. of ITERATIONS REACHED LIMIT.\n",
      "\n",
      "Increase the number of iterations (max_iter) or scale the data as shown in:\n",
      "    https://scikit-learn.org/stable/modules/preprocessing.html\n",
      "Please also refer to the documentation for alternative solver options:\n",
      "    https://scikit-learn.org/stable/modules/linear_model.html#logistic-regression\n",
      "  n_iter_i = _check_optimize_result(\n"
     ]
    },
    {
     "data": {
      "text/plain": "LogisticRegression(C=10)",
      "text/html": "<style>#sk-container-id-13 {color: black;}#sk-container-id-13 pre{padding: 0;}#sk-container-id-13 div.sk-toggleable {background-color: white;}#sk-container-id-13 label.sk-toggleable__label {cursor: pointer;display: block;width: 100%;margin-bottom: 0;padding: 0.3em;box-sizing: border-box;text-align: center;}#sk-container-id-13 label.sk-toggleable__label-arrow:before {content: \"▸\";float: left;margin-right: 0.25em;color: #696969;}#sk-container-id-13 label.sk-toggleable__label-arrow:hover:before {color: black;}#sk-container-id-13 div.sk-estimator:hover label.sk-toggleable__label-arrow:before {color: black;}#sk-container-id-13 div.sk-toggleable__content {max-height: 0;max-width: 0;overflow: hidden;text-align: left;background-color: #f0f8ff;}#sk-container-id-13 div.sk-toggleable__content pre {margin: 0.2em;color: black;border-radius: 0.25em;background-color: #f0f8ff;}#sk-container-id-13 input.sk-toggleable__control:checked~div.sk-toggleable__content {max-height: 200px;max-width: 100%;overflow: auto;}#sk-container-id-13 input.sk-toggleable__control:checked~label.sk-toggleable__label-arrow:before {content: \"▾\";}#sk-container-id-13 div.sk-estimator input.sk-toggleable__control:checked~label.sk-toggleable__label {background-color: #d4ebff;}#sk-container-id-13 div.sk-label input.sk-toggleable__control:checked~label.sk-toggleable__label {background-color: #d4ebff;}#sk-container-id-13 input.sk-hidden--visually {border: 0;clip: rect(1px 1px 1px 1px);clip: rect(1px, 1px, 1px, 1px);height: 1px;margin: -1px;overflow: hidden;padding: 0;position: absolute;width: 1px;}#sk-container-id-13 div.sk-estimator {font-family: monospace;background-color: #f0f8ff;border: 1px dotted black;border-radius: 0.25em;box-sizing: border-box;margin-bottom: 0.5em;}#sk-container-id-13 div.sk-estimator:hover {background-color: #d4ebff;}#sk-container-id-13 div.sk-parallel-item::after {content: \"\";width: 100%;border-bottom: 1px solid gray;flex-grow: 1;}#sk-container-id-13 div.sk-label:hover label.sk-toggleable__label {background-color: #d4ebff;}#sk-container-id-13 div.sk-serial::before {content: \"\";position: absolute;border-left: 1px solid gray;box-sizing: border-box;top: 0;bottom: 0;left: 50%;z-index: 0;}#sk-container-id-13 div.sk-serial {display: flex;flex-direction: column;align-items: center;background-color: white;padding-right: 0.2em;padding-left: 0.2em;position: relative;}#sk-container-id-13 div.sk-item {position: relative;z-index: 1;}#sk-container-id-13 div.sk-parallel {display: flex;align-items: stretch;justify-content: center;background-color: white;position: relative;}#sk-container-id-13 div.sk-item::before, #sk-container-id-13 div.sk-parallel-item::before {content: \"\";position: absolute;border-left: 1px solid gray;box-sizing: border-box;top: 0;bottom: 0;left: 50%;z-index: -1;}#sk-container-id-13 div.sk-parallel-item {display: flex;flex-direction: column;z-index: 1;position: relative;background-color: white;}#sk-container-id-13 div.sk-parallel-item:first-child::after {align-self: flex-end;width: 50%;}#sk-container-id-13 div.sk-parallel-item:last-child::after {align-self: flex-start;width: 50%;}#sk-container-id-13 div.sk-parallel-item:only-child::after {width: 0;}#sk-container-id-13 div.sk-dashed-wrapped {border: 1px dashed gray;margin: 0 0.4em 0.5em 0.4em;box-sizing: border-box;padding-bottom: 0.4em;background-color: white;}#sk-container-id-13 div.sk-label label {font-family: monospace;font-weight: bold;display: inline-block;line-height: 1.2em;}#sk-container-id-13 div.sk-label-container {text-align: center;}#sk-container-id-13 div.sk-container {/* jupyter's `normalize.less` sets `[hidden] { display: none; }` but bootstrap.min.css set `[hidden] { display: none !important; }` so we also need the `!important` here to be able to override the default hidden behavior on the sphinx rendered scikit-learn.org. See: https://github.com/scikit-learn/scikit-learn/issues/21755 */display: inline-block !important;position: relative;}#sk-container-id-13 div.sk-text-repr-fallback {display: none;}</style><div id=\"sk-container-id-13\" class=\"sk-top-container\"><div class=\"sk-text-repr-fallback\"><pre>LogisticRegression(C=10)</pre><b>In a Jupyter environment, please rerun this cell to show the HTML representation or trust the notebook. <br />On GitHub, the HTML representation is unable to render, please try loading this page with nbviewer.org.</b></div><div class=\"sk-container\" hidden><div class=\"sk-item\"><div class=\"sk-estimator sk-toggleable\"><input class=\"sk-toggleable__control sk-hidden--visually\" id=\"sk-estimator-id-13\" type=\"checkbox\" checked><label for=\"sk-estimator-id-13\" class=\"sk-toggleable__label sk-toggleable__label-arrow\">LogisticRegression</label><div class=\"sk-toggleable__content\"><pre>LogisticRegression(C=10)</pre></div></div></div></div></div>"
     },
     "execution_count": 164,
     "metadata": {},
     "output_type": "execute_result"
    }
   ],
   "source": [
    "from sklearn.linear_model import LogisticRegression\n",
    "\n",
    "logreg = (LogisticRegression(C=10))\n",
    "\n",
    "logreg.fit(X_train,y_train)"
   ],
   "metadata": {
    "collapsed": false,
    "ExecuteTime": {
     "end_time": "2023-12-20T06:05:32.609137600Z",
     "start_time": "2023-12-20T06:05:32.568606Z"
    }
   },
   "id": "8cf52f6982ba139b"
  },
  {
   "cell_type": "code",
   "execution_count": 165,
   "outputs": [
    {
     "name": "stdout",
     "output_type": "stream",
     "text": [
      "Training set score: 0.852\n",
      "Test set score: 0.866\n"
     ]
    }
   ],
   "source": [
    "print('Training set score: {:.3f}'.format(logreg.score(X_train, y_train)))\n",
    "\n",
    "print('Test set score: {:.3f}'.format(logreg.score(X_test, y_test)))"
   ],
   "metadata": {
    "collapsed": false,
    "ExecuteTime": {
     "end_time": "2023-12-20T06:05:34.037670100Z",
     "start_time": "2023-12-20T06:05:34.004675100Z"
    }
   },
   "id": "44696f10b0dbc4eb"
  },
  {
   "cell_type": "code",
   "execution_count": 167,
   "outputs": [
    {
     "name": "stdout",
     "output_type": "stream",
     "text": [
      "Accuracy on Test Data: 0.87\n"
     ]
    }
   ],
   "source": [
    "from sklearn.metrics import accuracy_score, confusion_matrix\n",
    "\n",
    "# Прогноз на тестовой выборке\n",
    "y_pred = logreg.predict(X_test)\n",
    "\n",
    "# Оценка модели на тестовой выборке\n",
    "accuracy = accuracy_score(y_test, y_pred)\n",
    "print('Accuracy on Test Data: {:.2f}'.format(accuracy))"
   ],
   "metadata": {
    "collapsed": false,
    "ExecuteTime": {
     "end_time": "2023-12-20T06:06:09.308507600Z",
     "start_time": "2023-12-20T06:06:09.292094800Z"
    }
   },
   "id": "f2c0929044ef2acb"
  },
  {
   "cell_type": "code",
   "execution_count": 168,
   "outputs": [
    {
     "name": "stderr",
     "output_type": "stream",
     "text": [
      "C:\\Users\\Aiana Sagynbek\\PycharmProjects\\coursework\\venv\\lib\\site-packages\\sklearn\\linear_model\\_logistic.py:460: ConvergenceWarning: lbfgs failed to converge (status=1):\n",
      "STOP: TOTAL NO. of ITERATIONS REACHED LIMIT.\n",
      "\n",
      "Increase the number of iterations (max_iter) or scale the data as shown in:\n",
      "    https://scikit-learn.org/stable/modules/preprocessing.html\n",
      "Please also refer to the documentation for alternative solver options:\n",
      "    https://scikit-learn.org/stable/modules/linear_model.html#logistic-regression\n",
      "  n_iter_i = _check_optimize_result(\n",
      "C:\\Users\\Aiana Sagynbek\\PycharmProjects\\coursework\\venv\\lib\\site-packages\\sklearn\\linear_model\\_logistic.py:460: ConvergenceWarning: lbfgs failed to converge (status=1):\n",
      "STOP: TOTAL NO. of ITERATIONS REACHED LIMIT.\n",
      "\n",
      "Increase the number of iterations (max_iter) or scale the data as shown in:\n",
      "    https://scikit-learn.org/stable/modules/preprocessing.html\n",
      "Please also refer to the documentation for alternative solver options:\n",
      "    https://scikit-learn.org/stable/modules/linear_model.html#logistic-regression\n",
      "  n_iter_i = _check_optimize_result(\n",
      "C:\\Users\\Aiana Sagynbek\\PycharmProjects\\coursework\\venv\\lib\\site-packages\\sklearn\\linear_model\\_logistic.py:460: ConvergenceWarning: lbfgs failed to converge (status=1):\n",
      "STOP: TOTAL NO. of ITERATIONS REACHED LIMIT.\n",
      "\n",
      "Increase the number of iterations (max_iter) or scale the data as shown in:\n",
      "    https://scikit-learn.org/stable/modules/preprocessing.html\n",
      "Please also refer to the documentation for alternative solver options:\n",
      "    https://scikit-learn.org/stable/modules/linear_model.html#logistic-regression\n",
      "  n_iter_i = _check_optimize_result(\n",
      "C:\\Users\\Aiana Sagynbek\\PycharmProjects\\coursework\\venv\\lib\\site-packages\\sklearn\\linear_model\\_logistic.py:460: ConvergenceWarning: lbfgs failed to converge (status=1):\n",
      "STOP: TOTAL NO. of ITERATIONS REACHED LIMIT.\n",
      "\n",
      "Increase the number of iterations (max_iter) or scale the data as shown in:\n",
      "    https://scikit-learn.org/stable/modules/preprocessing.html\n",
      "Please also refer to the documentation for alternative solver options:\n",
      "    https://scikit-learn.org/stable/modules/linear_model.html#logistic-regression\n",
      "  n_iter_i = _check_optimize_result(\n",
      "C:\\Users\\Aiana Sagynbek\\PycharmProjects\\coursework\\venv\\lib\\site-packages\\sklearn\\linear_model\\_logistic.py:460: ConvergenceWarning: lbfgs failed to converge (status=1):\n",
      "STOP: TOTAL NO. of ITERATIONS REACHED LIMIT.\n",
      "\n",
      "Increase the number of iterations (max_iter) or scale the data as shown in:\n",
      "    https://scikit-learn.org/stable/modules/preprocessing.html\n",
      "Please also refer to the documentation for alternative solver options:\n",
      "    https://scikit-learn.org/stable/modules/linear_model.html#logistic-regression\n",
      "  n_iter_i = _check_optimize_result(\n"
     ]
    }
   ],
   "source": [
    "from sklearn.model_selection import cross_val_score\n",
    "\n",
    "scores = cross_val_score(logreg, X, y, cv=5, scoring='accuracy')"
   ],
   "metadata": {
    "collapsed": false,
    "ExecuteTime": {
     "end_time": "2023-12-20T06:06:10.464406400Z",
     "start_time": "2023-12-20T06:06:10.266578900Z"
    }
   },
   "id": "5bb85528023b50bd"
  },
  {
   "cell_type": "code",
   "execution_count": 169,
   "outputs": [
    {
     "name": "stdout",
     "output_type": "stream",
     "text": [
      "Средняя точность модели: 0.804\n"
     ]
    }
   ],
   "source": [
    "print('Средняя точность модели: {:.3f}'.format(scores.mean()))"
   ],
   "metadata": {
    "collapsed": false,
    "ExecuteTime": {
     "end_time": "2023-12-20T06:06:20.187367200Z",
     "start_time": "2023-12-20T06:06:20.164347900Z"
    }
   },
   "id": "3e79c24926e5ac00"
  },
  {
   "cell_type": "code",
   "execution_count": 170,
   "outputs": [
    {
     "name": "stdout",
     "output_type": "stream",
     "text": [
      "Значения правильности перекрестной проверки: \n",
      "[0.8496732  0.82679739 0.77124183]\n",
      "Значения правильности перекрестной проверки: \n",
      "[0.84782609 0.85326087 0.875      0.80874317 0.79234973]\n"
     ]
    },
    {
     "name": "stderr",
     "output_type": "stream",
     "text": [
      "C:\\Users\\Aiana Sagynbek\\PycharmProjects\\coursework\\venv\\lib\\site-packages\\sklearn\\linear_model\\_logistic.py:460: ConvergenceWarning: lbfgs failed to converge (status=1):\n",
      "STOP: TOTAL NO. of ITERATIONS REACHED LIMIT.\n",
      "\n",
      "Increase the number of iterations (max_iter) or scale the data as shown in:\n",
      "    https://scikit-learn.org/stable/modules/preprocessing.html\n",
      "Please also refer to the documentation for alternative solver options:\n",
      "    https://scikit-learn.org/stable/modules/linear_model.html#logistic-regression\n",
      "  n_iter_i = _check_optimize_result(\n",
      "C:\\Users\\Aiana Sagynbek\\PycharmProjects\\coursework\\venv\\lib\\site-packages\\sklearn\\linear_model\\_logistic.py:460: ConvergenceWarning: lbfgs failed to converge (status=1):\n",
      "STOP: TOTAL NO. of ITERATIONS REACHED LIMIT.\n",
      "\n",
      "Increase the number of iterations (max_iter) or scale the data as shown in:\n",
      "    https://scikit-learn.org/stable/modules/preprocessing.html\n",
      "Please also refer to the documentation for alternative solver options:\n",
      "    https://scikit-learn.org/stable/modules/linear_model.html#logistic-regression\n",
      "  n_iter_i = _check_optimize_result(\n",
      "C:\\Users\\Aiana Sagynbek\\PycharmProjects\\coursework\\venv\\lib\\site-packages\\sklearn\\linear_model\\_logistic.py:460: ConvergenceWarning: lbfgs failed to converge (status=1):\n",
      "STOP: TOTAL NO. of ITERATIONS REACHED LIMIT.\n",
      "\n",
      "Increase the number of iterations (max_iter) or scale the data as shown in:\n",
      "    https://scikit-learn.org/stable/modules/preprocessing.html\n",
      "Please also refer to the documentation for alternative solver options:\n",
      "    https://scikit-learn.org/stable/modules/linear_model.html#logistic-regression\n",
      "  n_iter_i = _check_optimize_result(\n",
      "C:\\Users\\Aiana Sagynbek\\PycharmProjects\\coursework\\venv\\lib\\site-packages\\sklearn\\linear_model\\_logistic.py:460: ConvergenceWarning: lbfgs failed to converge (status=1):\n",
      "STOP: TOTAL NO. of ITERATIONS REACHED LIMIT.\n",
      "\n",
      "Increase the number of iterations (max_iter) or scale the data as shown in:\n",
      "    https://scikit-learn.org/stable/modules/preprocessing.html\n",
      "Please also refer to the documentation for alternative solver options:\n",
      "    https://scikit-learn.org/stable/modules/linear_model.html#logistic-regression\n",
      "  n_iter_i = _check_optimize_result(\n",
      "C:\\Users\\Aiana Sagynbek\\PycharmProjects\\coursework\\venv\\lib\\site-packages\\sklearn\\linear_model\\_logistic.py:460: ConvergenceWarning: lbfgs failed to converge (status=1):\n",
      "STOP: TOTAL NO. of ITERATIONS REACHED LIMIT.\n",
      "\n",
      "Increase the number of iterations (max_iter) or scale the data as shown in:\n",
      "    https://scikit-learn.org/stable/modules/preprocessing.html\n",
      "Please also refer to the documentation for alternative solver options:\n",
      "    https://scikit-learn.org/stable/modules/linear_model.html#logistic-regression\n",
      "  n_iter_i = _check_optimize_result(\n",
      "C:\\Users\\Aiana Sagynbek\\PycharmProjects\\coursework\\venv\\lib\\site-packages\\sklearn\\linear_model\\_logistic.py:460: ConvergenceWarning: lbfgs failed to converge (status=1):\n",
      "STOP: TOTAL NO. of ITERATIONS REACHED LIMIT.\n",
      "\n",
      "Increase the number of iterations (max_iter) or scale the data as shown in:\n",
      "    https://scikit-learn.org/stable/modules/preprocessing.html\n",
      "Please also refer to the documentation for alternative solver options:\n",
      "    https://scikit-learn.org/stable/modules/linear_model.html#logistic-regression\n",
      "  n_iter_i = _check_optimize_result(\n",
      "C:\\Users\\Aiana Sagynbek\\PycharmProjects\\coursework\\venv\\lib\\site-packages\\sklearn\\linear_model\\_logistic.py:460: ConvergenceWarning: lbfgs failed to converge (status=1):\n",
      "STOP: TOTAL NO. of ITERATIONS REACHED LIMIT.\n",
      "\n",
      "Increase the number of iterations (max_iter) or scale the data as shown in:\n",
      "    https://scikit-learn.org/stable/modules/preprocessing.html\n",
      "Please also refer to the documentation for alternative solver options:\n",
      "    https://scikit-learn.org/stable/modules/linear_model.html#logistic-regression\n",
      "  n_iter_i = _check_optimize_result(\n",
      "C:\\Users\\Aiana Sagynbek\\PycharmProjects\\coursework\\venv\\lib\\site-packages\\sklearn\\linear_model\\_logistic.py:460: ConvergenceWarning: lbfgs failed to converge (status=1):\n",
      "STOP: TOTAL NO. of ITERATIONS REACHED LIMIT.\n",
      "\n",
      "Increase the number of iterations (max_iter) or scale the data as shown in:\n",
      "    https://scikit-learn.org/stable/modules/preprocessing.html\n",
      "Please also refer to the documentation for alternative solver options:\n",
      "    https://scikit-learn.org/stable/modules/linear_model.html#logistic-regression\n",
      "  n_iter_i = _check_optimize_result(\n"
     ]
    }
   ],
   "source": [
    "from sklearn.model_selection import KFold\n",
    "\n",
    "kfold = KFold(n_splits=3)\n",
    "\n",
    "print(\"Значения правильности перекрестной проверки: \\n{}\".format(cross_val_score(logreg, X, y, cv=kfold)))\n",
    "\n",
    "kfold3 = KFold(n_splits=5)\n",
    "print(\"Значения правильности перекрестной проверки: \\n{}\".format(cross_val_score(logreg, X, y, cv=kfold3)))"
   ],
   "metadata": {
    "collapsed": false,
    "ExecuteTime": {
     "end_time": "2023-12-20T06:06:27.898874Z",
     "start_time": "2023-12-20T06:06:27.688174600Z"
    }
   },
   "id": "1e81800437245fda"
  },
  {
   "cell_type": "code",
   "execution_count": 171,
   "outputs": [],
   "source": [
    "from sklearn.model_selection import train_test_split\n",
    "from sklearn.preprocessing import MinMaxScaler\n",
    "from sklearn.svm import SVC\n",
    "from sklearn.metrics import accuracy_score"
   ],
   "metadata": {
    "collapsed": false,
    "ExecuteTime": {
     "end_time": "2023-12-20T06:06:30.806215700Z",
     "start_time": "2023-12-20T06:06:30.797779600Z"
    }
   },
   "id": "d376092ad409c45a"
  },
  {
   "cell_type": "code",
   "execution_count": 172,
   "outputs": [
    {
     "name": "stdout",
     "output_type": "stream",
     "text": [
      "model accuracy: 0.843\n"
     ]
    }
   ],
   "source": [
    "# normalize\n",
    "scaler = MinMaxScaler()\n",
    "X_scaled = scaler.fit_transform(X)\n",
    "\n",
    "X_train, X_test, y_train, y_test = train_test_split(X_scaled, y, random_state=0)\n",
    "\n",
    "svm = SVC()\n",
    "svm.fit(X_train, y_train)\n",
    "\n",
    "y_pred = svm.predict(X_test)\n",
    "\n",
    "accuracy = accuracy_score(y_test, y_pred)\n",
    "print('model accuracy: {:.3f}'.format(accuracy))"
   ],
   "metadata": {
    "collapsed": false,
    "ExecuteTime": {
     "end_time": "2023-12-20T06:06:31.345798800Z",
     "start_time": "2023-12-20T06:06:31.304724200Z"
    }
   },
   "id": "8cb7b5935c2a5336"
  },
  {
   "cell_type": "code",
   "execution_count": 173,
   "outputs": [
    {
     "name": "stdout",
     "output_type": "stream",
     "text": [
      "best SVM score: 0.865\n",
      "best parameters: {'gamma': 10, 'C': 10}\n"
     ]
    }
   ],
   "source": [
    "from sklearn.svm import SVC\n",
    "\n",
    "best_svc = 0\n",
    "for gamma in [0.001, 0.01, 0.1, 1, 10, 100]:\n",
    "    for C in [0.001, 0.01, 0.1, 1, 10, 100]:\n",
    "        svm = SVC(gamma=gamma, C=C)\n",
    "        svm.fit(X_train, y_train)\n",
    "        s_score = svm.score(X_test, y_test)\n",
    "\n",
    "        if s_score > best_svc:\n",
    "            best_svc = s_score\n",
    "            best_combo = {'gamma': gamma, 'C': C}\n",
    "\n",
    "print('best SVM score: {:.3f}'.format(best_svc))\n",
    "print('best parameters: {}'.format(best_combo))"
   ],
   "metadata": {
    "collapsed": false,
    "ExecuteTime": {
     "end_time": "2023-12-20T06:06:38.364384300Z",
     "start_time": "2023-12-20T06:06:36.676674400Z"
    }
   },
   "id": "3f040d8ef4697392"
  },
  {
   "cell_type": "code",
   "execution_count": 174,
   "outputs": [
    {
     "name": "stdout",
     "output_type": "stream",
     "text": [
      "test score: 0.8434782608695652\n",
      "best params:  {'C': 1, 'gamma': 1}\n",
      "best score:  0.8779329313445468\n",
      "whole args view : SVC(C=1, gamma=1)\n"
     ]
    },
    {
     "data": {
      "text/plain": "   mean_fit_time  std_fit_time  mean_score_time  std_score_time param_C  \\\n0       0.010369      0.002445         0.008589        0.000717   0.001   \n1       0.025318      0.009756         0.015213        0.002893   0.001   \n2       0.032035      0.007752         0.031163        0.011492   0.001   \n3       0.016608      0.006302         0.012659        0.003777   0.001   \n4       0.025473      0.004687         0.011939        0.003023   0.001   \n\n  param_gamma                        params  split0_test_score  \\\n0       0.001  {'C': 0.001, 'gamma': 0.001}           0.536232   \n1        0.01   {'C': 0.001, 'gamma': 0.01}           0.536232   \n2         0.1    {'C': 0.001, 'gamma': 0.1}           0.536232   \n3           1      {'C': 0.001, 'gamma': 1}           0.536232   \n4          10     {'C': 0.001, 'gamma': 10}           0.536232   \n\n   split1_test_score  split2_test_score  split3_test_score  split4_test_score  \\\n0           0.536232           0.536232           0.540146           0.540146   \n1           0.536232           0.536232           0.540146           0.540146   \n2           0.536232           0.536232           0.540146           0.540146   \n3           0.536232           0.536232           0.540146           0.540146   \n4           0.536232           0.536232           0.540146           0.540146   \n\n   mean_test_score  std_test_score  rank_test_score  \n0         0.537798        0.001918               22  \n1         0.537798        0.001918               22  \n2         0.537798        0.001918               22  \n3         0.537798        0.001918               22  \n4         0.537798        0.001918               22  ",
      "text/html": "<div>\n<style scoped>\n    .dataframe tbody tr th:only-of-type {\n        vertical-align: middle;\n    }\n\n    .dataframe tbody tr th {\n        vertical-align: top;\n    }\n\n    .dataframe thead th {\n        text-align: right;\n    }\n</style>\n<table border=\"1\" class=\"dataframe\">\n  <thead>\n    <tr style=\"text-align: right;\">\n      <th></th>\n      <th>mean_fit_time</th>\n      <th>std_fit_time</th>\n      <th>mean_score_time</th>\n      <th>std_score_time</th>\n      <th>param_C</th>\n      <th>param_gamma</th>\n      <th>params</th>\n      <th>split0_test_score</th>\n      <th>split1_test_score</th>\n      <th>split2_test_score</th>\n      <th>split3_test_score</th>\n      <th>split4_test_score</th>\n      <th>mean_test_score</th>\n      <th>std_test_score</th>\n      <th>rank_test_score</th>\n    </tr>\n  </thead>\n  <tbody>\n    <tr>\n      <th>0</th>\n      <td>0.010369</td>\n      <td>0.002445</td>\n      <td>0.008589</td>\n      <td>0.000717</td>\n      <td>0.001</td>\n      <td>0.001</td>\n      <td>{'C': 0.001, 'gamma': 0.001}</td>\n      <td>0.536232</td>\n      <td>0.536232</td>\n      <td>0.536232</td>\n      <td>0.540146</td>\n      <td>0.540146</td>\n      <td>0.537798</td>\n      <td>0.001918</td>\n      <td>22</td>\n    </tr>\n    <tr>\n      <th>1</th>\n      <td>0.025318</td>\n      <td>0.009756</td>\n      <td>0.015213</td>\n      <td>0.002893</td>\n      <td>0.001</td>\n      <td>0.01</td>\n      <td>{'C': 0.001, 'gamma': 0.01}</td>\n      <td>0.536232</td>\n      <td>0.536232</td>\n      <td>0.536232</td>\n      <td>0.540146</td>\n      <td>0.540146</td>\n      <td>0.537798</td>\n      <td>0.001918</td>\n      <td>22</td>\n    </tr>\n    <tr>\n      <th>2</th>\n      <td>0.032035</td>\n      <td>0.007752</td>\n      <td>0.031163</td>\n      <td>0.011492</td>\n      <td>0.001</td>\n      <td>0.1</td>\n      <td>{'C': 0.001, 'gamma': 0.1}</td>\n      <td>0.536232</td>\n      <td>0.536232</td>\n      <td>0.536232</td>\n      <td>0.540146</td>\n      <td>0.540146</td>\n      <td>0.537798</td>\n      <td>0.001918</td>\n      <td>22</td>\n    </tr>\n    <tr>\n      <th>3</th>\n      <td>0.016608</td>\n      <td>0.006302</td>\n      <td>0.012659</td>\n      <td>0.003777</td>\n      <td>0.001</td>\n      <td>1</td>\n      <td>{'C': 0.001, 'gamma': 1}</td>\n      <td>0.536232</td>\n      <td>0.536232</td>\n      <td>0.536232</td>\n      <td>0.540146</td>\n      <td>0.540146</td>\n      <td>0.537798</td>\n      <td>0.001918</td>\n      <td>22</td>\n    </tr>\n    <tr>\n      <th>4</th>\n      <td>0.025473</td>\n      <td>0.004687</td>\n      <td>0.011939</td>\n      <td>0.003023</td>\n      <td>0.001</td>\n      <td>10</td>\n      <td>{'C': 0.001, 'gamma': 10}</td>\n      <td>0.536232</td>\n      <td>0.536232</td>\n      <td>0.536232</td>\n      <td>0.540146</td>\n      <td>0.540146</td>\n      <td>0.537798</td>\n      <td>0.001918</td>\n      <td>22</td>\n    </tr>\n  </tbody>\n</table>\n</div>"
     },
     "metadata": {},
     "output_type": "display_data"
    }
   ],
   "source": [
    "from sklearn.model_selection import GridSearchCV\n",
    "\n",
    "grid1 = {'gamma': [0.001, 0.01, 0.1, 1, 10, 100], 'C': [0.001, 0.01, 0.1, 1, 10, 100]}\n",
    "gs1 = GridSearchCV(SVC(), grid1, cv=5)\n",
    "\n",
    "gs1.fit(X_train, y_train)\n",
    "score1 = gs1.score(X_test, y_test)\n",
    "\n",
    "print('test score:', score1)\n",
    "print('best params: ', gs1.best_params_)\n",
    "print('best score: ', gs1.best_score_)\n",
    "print('whole args view :', gs1.best_estimator_)\n",
    "\n",
    "results1 = pd.DataFrame(gs1.cv_results_)\n",
    "display(results1.head())"
   ],
   "metadata": {
    "collapsed": false,
    "ExecuteTime": {
     "end_time": "2023-12-20T06:06:46.294401200Z",
     "start_time": "2023-12-20T06:06:41.625630Z"
    }
   },
   "id": "f2d244bb93ebfe58"
  },
  {
   "cell_type": "code",
   "execution_count": 105,
   "outputs": [],
   "source": [],
   "metadata": {
    "collapsed": false,
    "ExecuteTime": {
     "end_time": "2023-12-20T05:54:42.070441400Z",
     "start_time": "2023-12-20T05:54:42.039103700Z"
    }
   },
   "id": "d8a33ecd685603f4"
  },
  {
   "cell_type": "code",
   "execution_count": null,
   "outputs": [],
   "source": [],
   "metadata": {
    "collapsed": false
   },
   "id": "3c27ca448cb9f018"
  }
 ],
 "metadata": {
  "kernelspec": {
   "display_name": "Python 3",
   "language": "python",
   "name": "python3"
  },
  "language_info": {
   "codemirror_mode": {
    "name": "ipython",
    "version": 2
   },
   "file_extension": ".py",
   "mimetype": "text/x-python",
   "name": "python",
   "nbconvert_exporter": "python",
   "pygments_lexer": "ipython2",
   "version": "2.7.6"
  }
 },
 "nbformat": 4,
 "nbformat_minor": 5
}
