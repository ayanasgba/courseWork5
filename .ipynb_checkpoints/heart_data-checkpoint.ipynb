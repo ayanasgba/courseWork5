{
 "cells": [
  {
   "cell_type": "code",
   "execution_count": 14,
   "id": "initial_id",
   "metadata": {
    "collapsed": true,
    "ExecuteTime": {
     "end_time": "2023-12-20T07:27:51.402716800Z",
     "start_time": "2023-12-20T07:27:51.396370200Z"
    }
   },
   "outputs": [],
   "source": [
    "import numpy as np\n",
    "import pandas as pd\n",
    "import matplotlib.pyplot as plt"
   ]
  },
  {
   "cell_type": "code",
   "execution_count": 15,
   "outputs": [],
   "source": [
    "from pycaret.classification import *"
   ],
   "metadata": {
    "collapsed": false,
    "ExecuteTime": {
     "end_time": "2023-12-20T07:27:51.632318900Z",
     "start_time": "2023-12-20T07:27:51.614387700Z"
    }
   },
   "id": "c8ddc95c4975da14"
  },
  {
   "cell_type": "code",
   "execution_count": 16,
   "outputs": [],
   "source": [
    "df= pd.read_csv('heart_ds.csv') "
   ],
   "metadata": {
    "collapsed": false,
    "ExecuteTime": {
     "end_time": "2023-12-20T07:27:51.843626600Z",
     "start_time": "2023-12-20T07:27:51.818148800Z"
    }
   },
   "id": "69da65bed2033bfd"
  },
  {
   "cell_type": "code",
   "execution_count": 17,
   "outputs": [
    {
     "data": {
      "text/plain": "   Age Sex ChestPainType  RestingBP  Cholesterol  FastingBS RestingECG  MaxHR   \n0   40   M           ATA        140          289          0     Normal    172  \\\n1   49   F           NAP        160          180          0     Normal    156   \n2   37   M           ATA        130          283          0         ST     98   \n3   48   F           ASY        138          214          0     Normal    108   \n4   54   M           NAP        150          195          0     Normal    122   \n\n  ExerciseAngina  Oldpeak ST_Slope  target  \n0              N      0.0       Up       0  \n1              N      1.0     Flat       1  \n2              N      0.0       Up       0  \n3              Y      1.5     Flat       1  \n4              N      0.0       Up       0  ",
      "text/html": "<div>\n<style scoped>\n    .dataframe tbody tr th:only-of-type {\n        vertical-align: middle;\n    }\n\n    .dataframe tbody tr th {\n        vertical-align: top;\n    }\n\n    .dataframe thead th {\n        text-align: right;\n    }\n</style>\n<table border=\"1\" class=\"dataframe\">\n  <thead>\n    <tr style=\"text-align: right;\">\n      <th></th>\n      <th>Age</th>\n      <th>Sex</th>\n      <th>ChestPainType</th>\n      <th>RestingBP</th>\n      <th>Cholesterol</th>\n      <th>FastingBS</th>\n      <th>RestingECG</th>\n      <th>MaxHR</th>\n      <th>ExerciseAngina</th>\n      <th>Oldpeak</th>\n      <th>ST_Slope</th>\n      <th>target</th>\n    </tr>\n  </thead>\n  <tbody>\n    <tr>\n      <th>0</th>\n      <td>40</td>\n      <td>M</td>\n      <td>ATA</td>\n      <td>140</td>\n      <td>289</td>\n      <td>0</td>\n      <td>Normal</td>\n      <td>172</td>\n      <td>N</td>\n      <td>0.0</td>\n      <td>Up</td>\n      <td>0</td>\n    </tr>\n    <tr>\n      <th>1</th>\n      <td>49</td>\n      <td>F</td>\n      <td>NAP</td>\n      <td>160</td>\n      <td>180</td>\n      <td>0</td>\n      <td>Normal</td>\n      <td>156</td>\n      <td>N</td>\n      <td>1.0</td>\n      <td>Flat</td>\n      <td>1</td>\n    </tr>\n    <tr>\n      <th>2</th>\n      <td>37</td>\n      <td>M</td>\n      <td>ATA</td>\n      <td>130</td>\n      <td>283</td>\n      <td>0</td>\n      <td>ST</td>\n      <td>98</td>\n      <td>N</td>\n      <td>0.0</td>\n      <td>Up</td>\n      <td>0</td>\n    </tr>\n    <tr>\n      <th>3</th>\n      <td>48</td>\n      <td>F</td>\n      <td>ASY</td>\n      <td>138</td>\n      <td>214</td>\n      <td>0</td>\n      <td>Normal</td>\n      <td>108</td>\n      <td>Y</td>\n      <td>1.5</td>\n      <td>Flat</td>\n      <td>1</td>\n    </tr>\n    <tr>\n      <th>4</th>\n      <td>54</td>\n      <td>M</td>\n      <td>NAP</td>\n      <td>150</td>\n      <td>195</td>\n      <td>0</td>\n      <td>Normal</td>\n      <td>122</td>\n      <td>N</td>\n      <td>0.0</td>\n      <td>Up</td>\n      <td>0</td>\n    </tr>\n  </tbody>\n</table>\n</div>"
     },
     "execution_count": 17,
     "metadata": {},
     "output_type": "execute_result"
    }
   ],
   "source": [
    "df.head()"
   ],
   "metadata": {
    "collapsed": false,
    "ExecuteTime": {
     "end_time": "2023-12-20T07:27:53.088460Z",
     "start_time": "2023-12-20T07:27:53.061703900Z"
    }
   },
   "id": "11a90d87a95a1f1f"
  },
  {
   "cell_type": "code",
   "execution_count": 22,
   "outputs": [
    {
     "data": {
      "text/plain": "<IPython.core.display.HTML object>",
      "text/html": ""
     },
     "metadata": {},
     "output_type": "display_data"
    }
   ],
   "source": [
    "s = setup(data=df, target='target', ignore_features=['ejection_fraction'], \n",
    "          categorical_features=['Sex','ChestPainType', 'RestingECG', 'ExerciseAngina', 'ST_Slope'], \n",
    "          normalize=True, normalize_method='minmax', train_size=0.8, session_id=42, verbose=True\n",
    "         )"
   ],
   "metadata": {
    "collapsed": false,
    "ExecuteTime": {
     "end_time": "2023-12-20T07:35:30.328613100Z",
     "start_time": "2023-12-20T07:35:29.046996200Z"
    }
   },
   "id": "9b9b2ceeae3277a3"
  },
  {
   "cell_type": "code",
   "execution_count": 23,
   "outputs": [
    {
     "data": {
      "text/plain": "<pycaret.classification.oop.ClassificationExperiment at 0x21c2bbb4280>"
     },
     "execution_count": 23,
     "metadata": {},
     "output_type": "execute_result"
    }
   ],
   "source": [
    "s"
   ],
   "metadata": {
    "collapsed": false,
    "ExecuteTime": {
     "end_time": "2023-12-20T07:35:32.213535Z",
     "start_time": "2023-12-20T07:35:32.199383600Z"
    }
   },
   "id": "c3c202c614fa7d0e"
  },
  {
   "cell_type": "code",
   "execution_count": 19,
   "outputs": [
    {
     "data": {
      "text/plain": "                                     Name   \nID                                          \nlr                    Logistic Regression  \\\nknn                K Neighbors Classifier   \nnb                            Naive Bayes   \ndt               Decision Tree Classifier   \nsvm                   SVM - Linear Kernel   \nrbfsvm                SVM - Radial Kernel   \ngpc           Gaussian Process Classifier   \nmlp                        MLP Classifier   \nridge                    Ridge Classifier   \nrf               Random Forest Classifier   \nqda       Quadratic Discriminant Analysis   \nada                  Ada Boost Classifier   \ngbc          Gradient Boosting Classifier   \nlda          Linear Discriminant Analysis   \net                 Extra Trees Classifier   \nlightgbm  Light Gradient Boosting Machine   \ndummy                    Dummy Classifier   \n\n                                                  Reference  Turbo  \nID                                                                  \nlr        sklearn.linear_model._logistic.LogisticRegression   True  \nknn       sklearn.neighbors._classification.KNeighborsCl...   True  \nnb                           sklearn.naive_bayes.GaussianNB   True  \ndt             sklearn.tree._classes.DecisionTreeClassifier   True  \nsvm       sklearn.linear_model._stochastic_gradient.SGDC...   True  \nrbfsvm                             sklearn.svm._classes.SVC  False  \ngpc       sklearn.gaussian_process._gpc.GaussianProcessC...  False  \nmlp       sklearn.neural_network._multilayer_perceptron....  False  \nridge           sklearn.linear_model._ridge.RidgeClassifier   True  \nrf          sklearn.ensemble._forest.RandomForestClassifier   True  \nqda       sklearn.discriminant_analysis.QuadraticDiscrim...   True  \nada       sklearn.ensemble._weight_boosting.AdaBoostClas...   True  \ngbc         sklearn.ensemble._gb.GradientBoostingClassifier   True  \nlda       sklearn.discriminant_analysis.LinearDiscrimina...   True  \net            sklearn.ensemble._forest.ExtraTreesClassifier   True  \nlightgbm                    lightgbm.sklearn.LGBMClassifier   True  \ndummy                         sklearn.dummy.DummyClassifier   True  ",
      "text/html": "<div>\n<style scoped>\n    .dataframe tbody tr th:only-of-type {\n        vertical-align: middle;\n    }\n\n    .dataframe tbody tr th {\n        vertical-align: top;\n    }\n\n    .dataframe thead th {\n        text-align: right;\n    }\n</style>\n<table border=\"1\" class=\"dataframe\">\n  <thead>\n    <tr style=\"text-align: right;\">\n      <th></th>\n      <th>Name</th>\n      <th>Reference</th>\n      <th>Turbo</th>\n    </tr>\n    <tr>\n      <th>ID</th>\n      <th></th>\n      <th></th>\n      <th></th>\n    </tr>\n  </thead>\n  <tbody>\n    <tr>\n      <th>lr</th>\n      <td>Logistic Regression</td>\n      <td>sklearn.linear_model._logistic.LogisticRegression</td>\n      <td>True</td>\n    </tr>\n    <tr>\n      <th>knn</th>\n      <td>K Neighbors Classifier</td>\n      <td>sklearn.neighbors._classification.KNeighborsCl...</td>\n      <td>True</td>\n    </tr>\n    <tr>\n      <th>nb</th>\n      <td>Naive Bayes</td>\n      <td>sklearn.naive_bayes.GaussianNB</td>\n      <td>True</td>\n    </tr>\n    <tr>\n      <th>dt</th>\n      <td>Decision Tree Classifier</td>\n      <td>sklearn.tree._classes.DecisionTreeClassifier</td>\n      <td>True</td>\n    </tr>\n    <tr>\n      <th>svm</th>\n      <td>SVM - Linear Kernel</td>\n      <td>sklearn.linear_model._stochastic_gradient.SGDC...</td>\n      <td>True</td>\n    </tr>\n    <tr>\n      <th>rbfsvm</th>\n      <td>SVM - Radial Kernel</td>\n      <td>sklearn.svm._classes.SVC</td>\n      <td>False</td>\n    </tr>\n    <tr>\n      <th>gpc</th>\n      <td>Gaussian Process Classifier</td>\n      <td>sklearn.gaussian_process._gpc.GaussianProcessC...</td>\n      <td>False</td>\n    </tr>\n    <tr>\n      <th>mlp</th>\n      <td>MLP Classifier</td>\n      <td>sklearn.neural_network._multilayer_perceptron....</td>\n      <td>False</td>\n    </tr>\n    <tr>\n      <th>ridge</th>\n      <td>Ridge Classifier</td>\n      <td>sklearn.linear_model._ridge.RidgeClassifier</td>\n      <td>True</td>\n    </tr>\n    <tr>\n      <th>rf</th>\n      <td>Random Forest Classifier</td>\n      <td>sklearn.ensemble._forest.RandomForestClassifier</td>\n      <td>True</td>\n    </tr>\n    <tr>\n      <th>qda</th>\n      <td>Quadratic Discriminant Analysis</td>\n      <td>sklearn.discriminant_analysis.QuadraticDiscrim...</td>\n      <td>True</td>\n    </tr>\n    <tr>\n      <th>ada</th>\n      <td>Ada Boost Classifier</td>\n      <td>sklearn.ensemble._weight_boosting.AdaBoostClas...</td>\n      <td>True</td>\n    </tr>\n    <tr>\n      <th>gbc</th>\n      <td>Gradient Boosting Classifier</td>\n      <td>sklearn.ensemble._gb.GradientBoostingClassifier</td>\n      <td>True</td>\n    </tr>\n    <tr>\n      <th>lda</th>\n      <td>Linear Discriminant Analysis</td>\n      <td>sklearn.discriminant_analysis.LinearDiscrimina...</td>\n      <td>True</td>\n    </tr>\n    <tr>\n      <th>et</th>\n      <td>Extra Trees Classifier</td>\n      <td>sklearn.ensemble._forest.ExtraTreesClassifier</td>\n      <td>True</td>\n    </tr>\n    <tr>\n      <th>lightgbm</th>\n      <td>Light Gradient Boosting Machine</td>\n      <td>lightgbm.sklearn.LGBMClassifier</td>\n      <td>True</td>\n    </tr>\n    <tr>\n      <th>dummy</th>\n      <td>Dummy Classifier</td>\n      <td>sklearn.dummy.DummyClassifier</td>\n      <td>True</td>\n    </tr>\n  </tbody>\n</table>\n</div>"
     },
     "execution_count": 19,
     "metadata": {},
     "output_type": "execute_result"
    }
   ],
   "source": [
    "models()"
   ],
   "metadata": {
    "collapsed": false,
    "ExecuteTime": {
     "end_time": "2023-12-20T07:28:16.895467Z",
     "start_time": "2023-12-20T07:28:16.699753600Z"
    }
   },
   "id": "a5c60ee7d9c0df99"
  },
  {
   "cell_type": "code",
   "execution_count": 21,
   "outputs": [
    {
     "data": {
      "text/plain": "                                                                    \n                                                                    \nInitiated  . . . . . . . . . . . . . . . . . .              13:31:25\nStatus     . . . . . . . . . . . . . . . . . .  Loading Dependencies\nEstimator  . . . . . . . . . . . . . . . . . .     Compiling Library",
      "text/html": "<div>\n<style scoped>\n    .dataframe tbody tr th:only-of-type {\n        vertical-align: middle;\n    }\n\n    .dataframe tbody tr th {\n        vertical-align: top;\n    }\n\n    .dataframe thead th {\n        text-align: right;\n    }\n</style>\n<table border=\"1\" class=\"dataframe\">\n  <thead>\n    <tr style=\"text-align: right;\">\n      <th></th>\n      <th></th>\n      <th></th>\n    </tr>\n    <tr>\n      <th></th>\n      <th></th>\n      <th></th>\n    </tr>\n  </thead>\n  <tbody>\n    <tr>\n      <th>Initiated</th>\n      <td>. . . . . . . . . . . . . . . . . .</td>\n      <td>13:31:25</td>\n    </tr>\n    <tr>\n      <th>Status</th>\n      <td>. . . . . . . . . . . . . . . . . .</td>\n      <td>Loading Dependencies</td>\n    </tr>\n    <tr>\n      <th>Estimator</th>\n      <td>. . . . . . . . . . . . . . . . . .</td>\n      <td>Compiling Library</td>\n    </tr>\n  </tbody>\n</table>\n</div>"
     },
     "metadata": {},
     "output_type": "display_data"
    },
    {
     "data": {
      "text/plain": "<IPython.core.display.HTML object>",
      "text/html": ""
     },
     "metadata": {},
     "output_type": "display_data"
    },
    {
     "data": {
      "text/plain": "Processing:   0%|          | 0/61 [00:00<?, ?it/s]",
      "application/vnd.jupyter.widget-view+json": {
       "version_major": 2,
       "version_minor": 0,
       "model_id": "cad8d61ac64e40599d7d857dba635653"
      }
     },
     "metadata": {},
     "output_type": "display_data"
    }
   ],
   "source": [
    "best_model = compare_models()"
   ],
   "metadata": {
    "collapsed": false,
    "ExecuteTime": {
     "end_time": "2023-12-20T07:31:37.491263800Z",
     "start_time": "2023-12-20T07:31:25.702051200Z"
    }
   },
   "id": "1d03095af9360fba"
  },
  {
   "cell_type": "code",
   "execution_count": null,
   "outputs": [],
   "source": [],
   "metadata": {
    "collapsed": false
   },
   "id": "c703da22ae2d0766"
  }
 ],
 "metadata": {
  "kernelspec": {
   "display_name": "Python 3",
   "language": "python",
   "name": "python3"
  },
  "language_info": {
   "codemirror_mode": {
    "name": "ipython",
    "version": 2
   },
   "file_extension": ".py",
   "mimetype": "text/x-python",
   "name": "python",
   "nbconvert_exporter": "python",
   "pygments_lexer": "ipython2",
   "version": "2.7.6"
  }
 },
 "nbformat": 4,
 "nbformat_minor": 5
}
