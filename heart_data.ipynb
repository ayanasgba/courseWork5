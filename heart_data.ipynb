{
 "cells": [
  {
   "cell_type": "code",
   "execution_count": 17,
   "id": "initial_id",
   "metadata": {
    "ExecuteTime": {
     "end_time": "2023-12-21T09:50:38.442503600Z",
     "start_time": "2023-12-21T09:50:38.334013900Z"
    }
   },
   "outputs": [],
   "source": [
    "import pandas as pd"
   ]
  },
  {
   "cell_type": "code",
   "execution_count": 18,
   "id": "c8ddc95c4975da14",
   "metadata": {
    "collapsed": false,
    "ExecuteTime": {
     "end_time": "2023-12-21T09:50:38.448986100Z",
     "start_time": "2023-12-21T09:50:38.349042600Z"
    }
   },
   "outputs": [],
   "source": [
    "from pycaret.classification import *"
   ]
  },
  {
   "cell_type": "code",
   "execution_count": 19,
   "id": "69da65bed2033bfd",
   "metadata": {
    "collapsed": false,
    "ExecuteTime": {
     "end_time": "2023-12-21T09:50:38.448986100Z",
     "start_time": "2023-12-21T09:50:38.364798600Z"
    }
   },
   "outputs": [],
   "source": [
    "df= pd.read_csv('heart_ds.csv') "
   ]
  },
  {
   "cell_type": "code",
   "execution_count": 20,
   "id": "11a90d87a95a1f1f",
   "metadata": {
    "collapsed": false,
    "ExecuteTime": {
     "end_time": "2023-12-21T09:50:38.448986100Z",
     "start_time": "2023-12-21T09:50:38.413294900Z"
    }
   },
   "outputs": [
    {
     "data": {
      "text/plain": "   Age Sex ChestPainType  RestingBP  Cholesterol  FastingBS RestingECG  MaxHR  \\\n0   40   M           ATA        140          289          0     Normal    172   \n1   49   F           NAP        160          180          0     Normal    156   \n2   37   M           ATA        130          283          0         ST     98   \n3   48   F           ASY        138          214          0     Normal    108   \n4   54   M           NAP        150          195          0     Normal    122   \n\n  ExerciseAngina  Oldpeak ST_Slope  Target  \n0              N      0.0       Up       0  \n1              N      1.0     Flat       1  \n2              N      0.0       Up       0  \n3              Y      1.5     Flat       1  \n4              N      0.0       Up       0  ",
      "text/html": "<div>\n<style scoped>\n    .dataframe tbody tr th:only-of-type {\n        vertical-align: middle;\n    }\n\n    .dataframe tbody tr th {\n        vertical-align: top;\n    }\n\n    .dataframe thead th {\n        text-align: right;\n    }\n</style>\n<table border=\"1\" class=\"dataframe\">\n  <thead>\n    <tr style=\"text-align: right;\">\n      <th></th>\n      <th>Age</th>\n      <th>Sex</th>\n      <th>ChestPainType</th>\n      <th>RestingBP</th>\n      <th>Cholesterol</th>\n      <th>FastingBS</th>\n      <th>RestingECG</th>\n      <th>MaxHR</th>\n      <th>ExerciseAngina</th>\n      <th>Oldpeak</th>\n      <th>ST_Slope</th>\n      <th>Target</th>\n    </tr>\n  </thead>\n  <tbody>\n    <tr>\n      <th>0</th>\n      <td>40</td>\n      <td>M</td>\n      <td>ATA</td>\n      <td>140</td>\n      <td>289</td>\n      <td>0</td>\n      <td>Normal</td>\n      <td>172</td>\n      <td>N</td>\n      <td>0.0</td>\n      <td>Up</td>\n      <td>0</td>\n    </tr>\n    <tr>\n      <th>1</th>\n      <td>49</td>\n      <td>F</td>\n      <td>NAP</td>\n      <td>160</td>\n      <td>180</td>\n      <td>0</td>\n      <td>Normal</td>\n      <td>156</td>\n      <td>N</td>\n      <td>1.0</td>\n      <td>Flat</td>\n      <td>1</td>\n    </tr>\n    <tr>\n      <th>2</th>\n      <td>37</td>\n      <td>M</td>\n      <td>ATA</td>\n      <td>130</td>\n      <td>283</td>\n      <td>0</td>\n      <td>ST</td>\n      <td>98</td>\n      <td>N</td>\n      <td>0.0</td>\n      <td>Up</td>\n      <td>0</td>\n    </tr>\n    <tr>\n      <th>3</th>\n      <td>48</td>\n      <td>F</td>\n      <td>ASY</td>\n      <td>138</td>\n      <td>214</td>\n      <td>0</td>\n      <td>Normal</td>\n      <td>108</td>\n      <td>Y</td>\n      <td>1.5</td>\n      <td>Flat</td>\n      <td>1</td>\n    </tr>\n    <tr>\n      <th>4</th>\n      <td>54</td>\n      <td>M</td>\n      <td>NAP</td>\n      <td>150</td>\n      <td>195</td>\n      <td>0</td>\n      <td>Normal</td>\n      <td>122</td>\n      <td>N</td>\n      <td>0.0</td>\n      <td>Up</td>\n      <td>0</td>\n    </tr>\n  </tbody>\n</table>\n</div>"
     },
     "execution_count": 20,
     "metadata": {},
     "output_type": "execute_result"
    }
   ],
   "source": [
    "df.head()"
   ]
  },
  {
   "cell_type": "code",
   "execution_count": 21,
   "id": "9b9b2ceeae3277a3",
   "metadata": {
    "collapsed": false,
    "ExecuteTime": {
     "end_time": "2023-12-21T09:50:40.250988400Z",
     "start_time": "2023-12-21T09:50:38.448986100Z"
    }
   },
   "outputs": [
    {
     "name": "stdout",
     "output_type": "stream",
     "text": [
      "                    Description             Value\n",
      "0                    Session id                42\n",
      "1                        Target            Target\n",
      "2                   Target type            Binary\n",
      "3           Original data shape         (918, 12)\n",
      "4        Transformed data shape         (918, 19)\n",
      "5   Transformed train set shape         (734, 19)\n",
      "6    Transformed test set shape         (184, 19)\n",
      "7               Ignore features                 1\n",
      "8              Ordinal features                 2\n",
      "9              Numeric features                 6\n",
      "10         Categorical features                 5\n",
      "11                   Preprocess              True\n",
      "12              Imputation type            simple\n",
      "13           Numeric imputation              mean\n",
      "14       Categorical imputation              mode\n",
      "15     Maximum one-hot encoding                25\n",
      "16              Encoding method              None\n",
      "17                    Normalize              True\n",
      "18             Normalize method            minmax\n",
      "19               Fold Generator   StratifiedKFold\n",
      "20                  Fold Number                10\n",
      "21                     CPU Jobs                -1\n",
      "22                      Use GPU             False\n",
      "23               Log Experiment             False\n",
      "24              Experiment Name  clf-default-name\n",
      "25                          USI              4748\n"
     ]
    }
   ],
   "source": [
    "s = setup(data=df, target='Target', ignore_features=['ejection_fraction'], \n",
    "          categorical_features=['Sex','ChestPainType', 'RestingECG', 'ExerciseAngina', 'ST_Slope'], \n",
    "          normalize=True, normalize_method='minmax', train_size=0.8, session_id=42, html=False\n",
    "         )"
   ]
  },
  {
   "cell_type": "code",
   "execution_count": 22,
   "id": "a5c60ee7d9c0df99",
   "metadata": {
    "collapsed": false,
    "ExecuteTime": {
     "end_time": "2023-12-21T09:50:40.464886300Z",
     "start_time": "2023-12-21T09:50:40.250988400Z"
    }
   },
   "outputs": [
    {
     "data": {
      "text/plain": "                                     Name  \\\nID                                          \nlr                    Logistic Regression   \nknn                K Neighbors Classifier   \nnb                            Naive Bayes   \ndt               Decision Tree Classifier   \nsvm                   SVM - Linear Kernel   \nrbfsvm                SVM - Radial Kernel   \ngpc           Gaussian Process Classifier   \nmlp                        MLP Classifier   \nridge                    Ridge Classifier   \nrf               Random Forest Classifier   \nqda       Quadratic Discriminant Analysis   \nada                  Ada Boost Classifier   \ngbc          Gradient Boosting Classifier   \nlda          Linear Discriminant Analysis   \net                 Extra Trees Classifier   \nlightgbm  Light Gradient Boosting Machine   \ndummy                    Dummy Classifier   \n\n                                                  Reference  Turbo  \nID                                                                  \nlr        sklearn.linear_model._logistic.LogisticRegression   True  \nknn       sklearn.neighbors._classification.KNeighborsCl...   True  \nnb                           sklearn.naive_bayes.GaussianNB   True  \ndt             sklearn.tree._classes.DecisionTreeClassifier   True  \nsvm       sklearn.linear_model._stochastic_gradient.SGDC...   True  \nrbfsvm                             sklearn.svm._classes.SVC  False  \ngpc       sklearn.gaussian_process._gpc.GaussianProcessC...  False  \nmlp       sklearn.neural_network._multilayer_perceptron....  False  \nridge           sklearn.linear_model._ridge.RidgeClassifier   True  \nrf          sklearn.ensemble._forest.RandomForestClassifier   True  \nqda       sklearn.discriminant_analysis.QuadraticDiscrim...   True  \nada       sklearn.ensemble._weight_boosting.AdaBoostClas...   True  \ngbc         sklearn.ensemble._gb.GradientBoostingClassifier   True  \nlda       sklearn.discriminant_analysis.LinearDiscrimina...   True  \net            sklearn.ensemble._forest.ExtraTreesClassifier   True  \nlightgbm                    lightgbm.sklearn.LGBMClassifier   True  \ndummy                         sklearn.dummy.DummyClassifier   True  ",
      "text/html": "<div>\n<style scoped>\n    .dataframe tbody tr th:only-of-type {\n        vertical-align: middle;\n    }\n\n    .dataframe tbody tr th {\n        vertical-align: top;\n    }\n\n    .dataframe thead th {\n        text-align: right;\n    }\n</style>\n<table border=\"1\" class=\"dataframe\">\n  <thead>\n    <tr style=\"text-align: right;\">\n      <th></th>\n      <th>Name</th>\n      <th>Reference</th>\n      <th>Turbo</th>\n    </tr>\n    <tr>\n      <th>ID</th>\n      <th></th>\n      <th></th>\n      <th></th>\n    </tr>\n  </thead>\n  <tbody>\n    <tr>\n      <th>lr</th>\n      <td>Logistic Regression</td>\n      <td>sklearn.linear_model._logistic.LogisticRegression</td>\n      <td>True</td>\n    </tr>\n    <tr>\n      <th>knn</th>\n      <td>K Neighbors Classifier</td>\n      <td>sklearn.neighbors._classification.KNeighborsCl...</td>\n      <td>True</td>\n    </tr>\n    <tr>\n      <th>nb</th>\n      <td>Naive Bayes</td>\n      <td>sklearn.naive_bayes.GaussianNB</td>\n      <td>True</td>\n    </tr>\n    <tr>\n      <th>dt</th>\n      <td>Decision Tree Classifier</td>\n      <td>sklearn.tree._classes.DecisionTreeClassifier</td>\n      <td>True</td>\n    </tr>\n    <tr>\n      <th>svm</th>\n      <td>SVM - Linear Kernel</td>\n      <td>sklearn.linear_model._stochastic_gradient.SGDC...</td>\n      <td>True</td>\n    </tr>\n    <tr>\n      <th>rbfsvm</th>\n      <td>SVM - Radial Kernel</td>\n      <td>sklearn.svm._classes.SVC</td>\n      <td>False</td>\n    </tr>\n    <tr>\n      <th>gpc</th>\n      <td>Gaussian Process Classifier</td>\n      <td>sklearn.gaussian_process._gpc.GaussianProcessC...</td>\n      <td>False</td>\n    </tr>\n    <tr>\n      <th>mlp</th>\n      <td>MLP Classifier</td>\n      <td>sklearn.neural_network._multilayer_perceptron....</td>\n      <td>False</td>\n    </tr>\n    <tr>\n      <th>ridge</th>\n      <td>Ridge Classifier</td>\n      <td>sklearn.linear_model._ridge.RidgeClassifier</td>\n      <td>True</td>\n    </tr>\n    <tr>\n      <th>rf</th>\n      <td>Random Forest Classifier</td>\n      <td>sklearn.ensemble._forest.RandomForestClassifier</td>\n      <td>True</td>\n    </tr>\n    <tr>\n      <th>qda</th>\n      <td>Quadratic Discriminant Analysis</td>\n      <td>sklearn.discriminant_analysis.QuadraticDiscrim...</td>\n      <td>True</td>\n    </tr>\n    <tr>\n      <th>ada</th>\n      <td>Ada Boost Classifier</td>\n      <td>sklearn.ensemble._weight_boosting.AdaBoostClas...</td>\n      <td>True</td>\n    </tr>\n    <tr>\n      <th>gbc</th>\n      <td>Gradient Boosting Classifier</td>\n      <td>sklearn.ensemble._gb.GradientBoostingClassifier</td>\n      <td>True</td>\n    </tr>\n    <tr>\n      <th>lda</th>\n      <td>Linear Discriminant Analysis</td>\n      <td>sklearn.discriminant_analysis.LinearDiscrimina...</td>\n      <td>True</td>\n    </tr>\n    <tr>\n      <th>et</th>\n      <td>Extra Trees Classifier</td>\n      <td>sklearn.ensemble._forest.ExtraTreesClassifier</td>\n      <td>True</td>\n    </tr>\n    <tr>\n      <th>lightgbm</th>\n      <td>Light Gradient Boosting Machine</td>\n      <td>lightgbm.sklearn.LGBMClassifier</td>\n      <td>True</td>\n    </tr>\n    <tr>\n      <th>dummy</th>\n      <td>Dummy Classifier</td>\n      <td>sklearn.dummy.DummyClassifier</td>\n      <td>True</td>\n    </tr>\n  </tbody>\n</table>\n</div>"
     },
     "execution_count": 22,
     "metadata": {},
     "output_type": "execute_result"
    }
   ],
   "source": [
    "models()"
   ]
  },
  {
   "cell_type": "code",
   "execution_count": 23,
   "id": "1d03095af9360fba",
   "metadata": {
    "collapsed": false,
    "ExecuteTime": {
     "end_time": "2023-12-21T09:50:50.832291300Z",
     "start_time": "2023-12-21T09:50:40.462360500Z"
    }
   },
   "outputs": [
    {
     "name": "stderr",
     "output_type": "stream",
     "text": [
      "                                                           "
     ]
    },
    {
     "name": "stdout",
     "output_type": "stream",
     "text": [
      "                                    Model  Accuracy     AUC  Recall   Prec.  \\\n",
      "gbc          Gradient Boosting Classifier    0.8583  0.9194  0.8815  0.8657   \n",
      "et                 Extra Trees Classifier    0.8542  0.9218  0.8944  0.8536   \n",
      "rf               Random Forest Classifier    0.8541  0.9292  0.8941  0.8526   \n",
      "lightgbm  Light Gradient Boosting Machine    0.8487  0.9182  0.8843  0.8506   \n",
      "ridge                    Ridge Classifier    0.8486  0.0000  0.8668  0.8615   \n",
      "lda          Linear Discriminant Analysis    0.8472  0.9238  0.8668  0.8595   \n",
      "lr                    Logistic Regression    0.8432  0.9244  0.8718  0.8498   \n",
      "nb                            Naive Bayes    0.8418  0.9115  0.8595  0.8574   \n",
      "ada                  Ada Boost Classifier    0.8363  0.9046  0.8472  0.8577   \n",
      "knn                K Neighbors Classifier    0.8310  0.8927  0.8821  0.8291   \n",
      "qda       Quadratic Discriminant Analysis    0.8104  0.8687  0.8501  0.8301   \n",
      "dt               Decision Tree Classifier    0.7847  0.7835  0.7955  0.8122   \n",
      "svm                   SVM - Linear Kernel    0.7817  0.0000  0.7422  0.8683   \n",
      "dummy                    Dummy Classifier    0.5531  0.5000  1.0000  0.5531   \n",
      "\n",
      "              F1   Kappa     MCC  TT (Sec)  \n",
      "gbc       0.8728  0.7127  0.7144     0.072  \n",
      "et        0.8718  0.7032  0.7083     0.095  \n",
      "rf        0.8718  0.7030  0.7066     0.102  \n",
      "lightgbm  0.8660  0.6925  0.6956     0.108  \n",
      "ridge     0.8636  0.6935  0.6945     0.041  \n",
      "lda       0.8626  0.6906  0.6917     0.038  \n",
      "lr        0.8599  0.6818  0.6837     0.052  \n",
      "nb        0.8577  0.6797  0.6811     0.041  \n",
      "ada       0.8510  0.6694  0.6720     0.063  \n",
      "knn       0.8529  0.6552  0.6611     0.064  \n",
      "qda       0.8330  0.6137  0.6285     0.041  \n",
      "dt        0.8027  0.5657  0.5676     0.038  \n",
      "svm       0.7778  0.5683  0.5960     0.044  \n",
      "dummy     0.7123  0.0000  0.0000     0.033  \n"
     ]
    },
    {
     "name": "stderr",
     "output_type": "stream",
     "text": [
      "\r"
     ]
    }
   ],
   "source": [
    "best_model = compare_models()"
   ]
  },
  {
   "cell_type": "code",
   "execution_count": 24,
   "id": "c703da22ae2d0766",
   "metadata": {
    "collapsed": false,
    "ExecuteTime": {
     "end_time": "2023-12-21T09:50:51.138278800Z",
     "start_time": "2023-12-21T09:50:50.819907Z"
    }
   },
   "outputs": [
    {
     "data": {
      "text/plain": "interactive(children=(ToggleButtons(description='Plot Type:', icons=('',), options=(('Pipeline Plot', 'pipelin…",
      "application/vnd.jupyter.widget-view+json": {
       "version_major": 2,
       "version_minor": 0,
       "model_id": "bbaaa77aba7e4b75ba494cd0122a9a15"
      }
     },
     "metadata": {},
     "output_type": "display_data"
    }
   ],
   "source": [
    "evaluate_model(best_model)"
   ]
  },
  {
   "cell_type": "code",
   "execution_count": 24,
   "id": "a9980fc8-85f6-4616-88d6-48a439207a84",
   "metadata": {
    "ExecuteTime": {
     "end_time": "2023-12-21T09:50:51.162908800Z",
     "start_time": "2023-12-21T09:50:51.138278800Z"
    }
   },
   "outputs": [],
   "source": []
  }
 ],
 "metadata": {
  "kernelspec": {
   "display_name": "Python 3 (ipykernel)",
   "language": "python",
   "name": "python3"
  },
  "language_info": {
   "codemirror_mode": {
    "name": "ipython",
    "version": 3
   },
   "file_extension": ".py",
   "mimetype": "text/x-python",
   "name": "python",
   "nbconvert_exporter": "python",
   "pygments_lexer": "ipython3",
   "version": "3.10.6"
  }
 },
 "nbformat": 4,
 "nbformat_minor": 5
}
