{
 "cells": [
  {
   "cell_type": "code",
   "execution_count": 1,
   "id": "initial_id",
   "metadata": {
    "collapsed": true,
    "jupyter": {
     "outputs_hidden": true
    },
    "ExecuteTime": {
     "end_time": "2023-12-27T17:46:14.641202600Z",
     "start_time": "2023-12-27T17:46:14.296557500Z"
    }
   },
   "outputs": [],
   "source": [
    "import pandas as pd \n",
    "from sklearn.preprocessing import LabelEncoder, StandardScaler, MinMaxScaler\n",
    "from sklearn.model_selection import train_test_split, KFold, cross_val_score, GridSearchCV\n",
    "from sklearn.linear_model import LogisticRegression, RidgeClassifier, LinearRegression\n",
    "from sklearn.ensemble import RandomForestClassifier, GradientBoostingClassifier, ExtraTreesClassifier\n",
    "from sklearn.neighbors import KNeighborsClassifier, KNeighborsRegressor\n",
    "from sklearn.metrics import classification_report, accuracy_score\n",
    "from sklearn.naive_bayes import GaussianNB\n",
    "from sklearn.tree import DecisionTreeClassifier\n",
    "from sklearn.svm import SVC\n",
    "from sklearn.dummy import DummyClassifier\n",
    "from sklearn.metrics import mean_squared_error, r2_score\n",
    "from sklearn.pipeline import Pipeline"
   ]
  },
  {
   "cell_type": "code",
   "execution_count": 2,
   "id": "2e6621da73278fea",
   "metadata": {
    "collapsed": false,
    "ExecuteTime": {
     "end_time": "2023-12-27T17:46:14.641202600Z",
     "start_time": "2023-12-27T17:46:14.516110300Z"
    }
   },
   "outputs": [
    {
     "data": {
      "text/plain": "     Age Sex ChestPainType  RestingBP  Cholesterol  FastingBS RestingECG  \\\n0     40   M           ATA        140          289          0     Normal   \n1     49   F           NAP        160          180          0     Normal   \n2     37   M           ATA        130          283          0         ST   \n3     48   F           ASY        138          214          0     Normal   \n4     54   M           NAP        150          195          0     Normal   \n..   ...  ..           ...        ...          ...        ...        ...   \n913   45   M            TA        110          264          0     Normal   \n914   68   M           ASY        144          193          1     Normal   \n915   57   M           ASY        130          131          0     Normal   \n916   57   F           ATA        130          236          0        LVH   \n917   38   M           NAP        138          175          0     Normal   \n\n     MaxHR ExerciseAngina  Oldpeak ST_Slope  Target  \n0      172              N      0.0       Up       0  \n1      156              N      1.0     Flat       1  \n2       98              N      0.0       Up       0  \n3      108              Y      1.5     Flat       1  \n4      122              N      0.0       Up       0  \n..     ...            ...      ...      ...     ...  \n913    132              N      1.2     Flat       1  \n914    141              N      3.4     Flat       1  \n915    115              Y      1.2     Flat       1  \n916    174              N      0.0     Flat       1  \n917    173              N      0.0       Up       0  \n\n[918 rows x 12 columns]",
      "text/html": "<div>\n<style scoped>\n    .dataframe tbody tr th:only-of-type {\n        vertical-align: middle;\n    }\n\n    .dataframe tbody tr th {\n        vertical-align: top;\n    }\n\n    .dataframe thead th {\n        text-align: right;\n    }\n</style>\n<table border=\"1\" class=\"dataframe\">\n  <thead>\n    <tr style=\"text-align: right;\">\n      <th></th>\n      <th>Age</th>\n      <th>Sex</th>\n      <th>ChestPainType</th>\n      <th>RestingBP</th>\n      <th>Cholesterol</th>\n      <th>FastingBS</th>\n      <th>RestingECG</th>\n      <th>MaxHR</th>\n      <th>ExerciseAngina</th>\n      <th>Oldpeak</th>\n      <th>ST_Slope</th>\n      <th>Target</th>\n    </tr>\n  </thead>\n  <tbody>\n    <tr>\n      <th>0</th>\n      <td>40</td>\n      <td>M</td>\n      <td>ATA</td>\n      <td>140</td>\n      <td>289</td>\n      <td>0</td>\n      <td>Normal</td>\n      <td>172</td>\n      <td>N</td>\n      <td>0.0</td>\n      <td>Up</td>\n      <td>0</td>\n    </tr>\n    <tr>\n      <th>1</th>\n      <td>49</td>\n      <td>F</td>\n      <td>NAP</td>\n      <td>160</td>\n      <td>180</td>\n      <td>0</td>\n      <td>Normal</td>\n      <td>156</td>\n      <td>N</td>\n      <td>1.0</td>\n      <td>Flat</td>\n      <td>1</td>\n    </tr>\n    <tr>\n      <th>2</th>\n      <td>37</td>\n      <td>M</td>\n      <td>ATA</td>\n      <td>130</td>\n      <td>283</td>\n      <td>0</td>\n      <td>ST</td>\n      <td>98</td>\n      <td>N</td>\n      <td>0.0</td>\n      <td>Up</td>\n      <td>0</td>\n    </tr>\n    <tr>\n      <th>3</th>\n      <td>48</td>\n      <td>F</td>\n      <td>ASY</td>\n      <td>138</td>\n      <td>214</td>\n      <td>0</td>\n      <td>Normal</td>\n      <td>108</td>\n      <td>Y</td>\n      <td>1.5</td>\n      <td>Flat</td>\n      <td>1</td>\n    </tr>\n    <tr>\n      <th>4</th>\n      <td>54</td>\n      <td>M</td>\n      <td>NAP</td>\n      <td>150</td>\n      <td>195</td>\n      <td>0</td>\n      <td>Normal</td>\n      <td>122</td>\n      <td>N</td>\n      <td>0.0</td>\n      <td>Up</td>\n      <td>0</td>\n    </tr>\n    <tr>\n      <th>...</th>\n      <td>...</td>\n      <td>...</td>\n      <td>...</td>\n      <td>...</td>\n      <td>...</td>\n      <td>...</td>\n      <td>...</td>\n      <td>...</td>\n      <td>...</td>\n      <td>...</td>\n      <td>...</td>\n      <td>...</td>\n    </tr>\n    <tr>\n      <th>913</th>\n      <td>45</td>\n      <td>M</td>\n      <td>TA</td>\n      <td>110</td>\n      <td>264</td>\n      <td>0</td>\n      <td>Normal</td>\n      <td>132</td>\n      <td>N</td>\n      <td>1.2</td>\n      <td>Flat</td>\n      <td>1</td>\n    </tr>\n    <tr>\n      <th>914</th>\n      <td>68</td>\n      <td>M</td>\n      <td>ASY</td>\n      <td>144</td>\n      <td>193</td>\n      <td>1</td>\n      <td>Normal</td>\n      <td>141</td>\n      <td>N</td>\n      <td>3.4</td>\n      <td>Flat</td>\n      <td>1</td>\n    </tr>\n    <tr>\n      <th>915</th>\n      <td>57</td>\n      <td>M</td>\n      <td>ASY</td>\n      <td>130</td>\n      <td>131</td>\n      <td>0</td>\n      <td>Normal</td>\n      <td>115</td>\n      <td>Y</td>\n      <td>1.2</td>\n      <td>Flat</td>\n      <td>1</td>\n    </tr>\n    <tr>\n      <th>916</th>\n      <td>57</td>\n      <td>F</td>\n      <td>ATA</td>\n      <td>130</td>\n      <td>236</td>\n      <td>0</td>\n      <td>LVH</td>\n      <td>174</td>\n      <td>N</td>\n      <td>0.0</td>\n      <td>Flat</td>\n      <td>1</td>\n    </tr>\n    <tr>\n      <th>917</th>\n      <td>38</td>\n      <td>M</td>\n      <td>NAP</td>\n      <td>138</td>\n      <td>175</td>\n      <td>0</td>\n      <td>Normal</td>\n      <td>173</td>\n      <td>N</td>\n      <td>0.0</td>\n      <td>Up</td>\n      <td>0</td>\n    </tr>\n  </tbody>\n</table>\n<p>918 rows × 12 columns</p>\n</div>"
     },
     "execution_count": 2,
     "metadata": {},
     "output_type": "execute_result"
    }
   ],
   "source": [
    "df = pd.read_csv('heart_ds.csv') \n",
    "df"
   ]
  },
  {
   "cell_type": "code",
   "execution_count": 3,
   "id": "ea541f6c0a02bd63",
   "metadata": {
    "collapsed": false,
    "ExecuteTime": {
     "end_time": "2023-12-27T17:46:14.641202600Z",
     "start_time": "2023-12-27T17:46:14.547272400Z"
    }
   },
   "outputs": [
    {
     "data": {
      "text/plain": "ASY    496\nNAP    203\nATA    173\nTA      46\nName: ChestPainType, dtype: int64"
     },
     "execution_count": 3,
     "metadata": {},
     "output_type": "execute_result"
    }
   ],
   "source": [
    "df['ChestPainType'].value_counts()"
   ]
  },
  {
   "cell_type": "code",
   "execution_count": 4,
   "id": "b3cea91f6f8d2038",
   "metadata": {
    "collapsed": false,
    "ExecuteTime": {
     "end_time": "2023-12-27T17:46:14.641202600Z",
     "start_time": "2023-12-27T17:46:14.562897700Z"
    }
   },
   "outputs": [
    {
     "data": {
      "text/plain": "N    547\nY    371\nName: ExerciseAngina, dtype: int64"
     },
     "execution_count": 4,
     "metadata": {},
     "output_type": "execute_result"
    }
   ],
   "source": [
    "df['ExerciseAngina'].value_counts()"
   ]
  },
  {
   "cell_type": "code",
   "execution_count": 5,
   "id": "a9b20eeae4bbfa0b",
   "metadata": {
    "collapsed": false,
    "ExecuteTime": {
     "end_time": "2023-12-27T17:46:14.641202600Z",
     "start_time": "2023-12-27T17:46:14.578522500Z"
    }
   },
   "outputs": [
    {
     "data": {
      "text/plain": "M    725\nF    193\nName: Sex, dtype: int64"
     },
     "execution_count": 5,
     "metadata": {},
     "output_type": "execute_result"
    }
   ],
   "source": [
    "df['Sex'].value_counts()"
   ]
  },
  {
   "cell_type": "code",
   "execution_count": 6,
   "id": "a7eb686138fc3122",
   "metadata": {
    "collapsed": false,
    "ExecuteTime": {
     "end_time": "2023-12-27T17:46:14.641202600Z",
     "start_time": "2023-12-27T17:46:14.594167100Z"
    }
   },
   "outputs": [
    {
     "data": {
      "text/plain": "Normal    552\nLVH       188\nST        178\nName: RestingECG, dtype: int64"
     },
     "execution_count": 6,
     "metadata": {},
     "output_type": "execute_result"
    }
   ],
   "source": [
    "df['RestingECG'].value_counts()"
   ]
  },
  {
   "cell_type": "code",
   "execution_count": 7,
   "id": "c4f0ea9cb7d0f62a",
   "metadata": {
    "collapsed": false,
    "ExecuteTime": {
     "end_time": "2023-12-27T17:46:14.641202600Z",
     "start_time": "2023-12-27T17:46:14.609801800Z"
    }
   },
   "outputs": [
    {
     "data": {
      "text/plain": "Flat    460\nUp      395\nDown     63\nName: ST_Slope, dtype: int64"
     },
     "execution_count": 7,
     "metadata": {},
     "output_type": "execute_result"
    }
   ],
   "source": [
    "df['ST_Slope'].value_counts()"
   ]
  },
  {
   "cell_type": "markdown",
   "id": "3f0910000657eeb",
   "metadata": {
    "collapsed": false
   },
   "source": [
    "Sex: sex of the patient [M: Male - 1, F: Female - 0]\n",
    "ChestPainType: chest pain type \n",
    "[TA: Typical Angina - 3, \n",
    "ATA: Atypical Angina - 1, \n",
    "NAP: Non-Anginal Pain - 2, \n",
    "ASY: Asymptomatic - 0 ]\n",
    "RestingECG: resting electrocardiogram results [\n",
    "Normal: Normal - 1, \n",
    "ST: having ST-T wave abnormality (T wave inversions and/or ST elevation or depression of > 0.05 mV) - 2, \n",
    "LVH: showing probable or definite left ventricular hypertrophy by Estes' criteria - 0]\n",
    "ExerciseAngina: exercise-induced angina [Y: Yes - 1, N: No - 0]\n",
    "ST_Slope: the slope of the peak exercise ST segment [\n",
    "Up: upsloping - 2, \n",
    "Flat: flat - 1, \n",
    "Down: downsloping - 0]"
   ]
  },
  {
   "cell_type": "code",
   "execution_count": 8,
   "id": "ad125adbdc011168",
   "metadata": {
    "collapsed": false,
    "ExecuteTime": {
     "end_time": "2023-12-27T17:46:14.641202600Z",
     "start_time": "2023-12-27T17:46:14.625397200Z"
    }
   },
   "outputs": [],
   "source": [
    "Encoder = LabelEncoder()\n",
    "for column in ['Sex', 'ChestPainType', 'RestingECG','ExerciseAngina', 'ST_Slope']:\n",
    "    df[column] = Encoder.fit_transform(df[column])"
   ]
  },
  {
   "cell_type": "code",
   "execution_count": 9,
   "id": "fd62338a2d7d1f81",
   "metadata": {
    "collapsed": false,
    "ExecuteTime": {
     "end_time": "2023-12-27T17:46:14.672555500Z",
     "start_time": "2023-12-27T17:46:14.641202600Z"
    }
   },
   "outputs": [
    {
     "data": {
      "text/plain": "Age               0\nSex               0\nChestPainType     0\nRestingBP         0\nCholesterol       0\nFastingBS         0\nRestingECG        0\nMaxHR             0\nExerciseAngina    0\nOldpeak           0\nST_Slope          0\nTarget            0\ndtype: int64"
     },
     "execution_count": 9,
     "metadata": {},
     "output_type": "execute_result"
    }
   ],
   "source": [
    "df.isnull().sum()"
   ]
  },
  {
   "cell_type": "code",
   "execution_count": 10,
   "id": "e5c0b2e31a9203b3",
   "metadata": {
    "collapsed": false,
    "ExecuteTime": {
     "end_time": "2023-12-27T17:46:14.796287500Z",
     "start_time": "2023-12-27T17:46:14.656918Z"
    }
   },
   "outputs": [],
   "source": [
    "scalar_min_max = MinMaxScaler()\n",
    "df[['MaxHR', 'Cholesterol', 'Age', 'RestingBP']] = scalar_min_max.fit_transform(df[['MaxHR', 'Cholesterol', 'Age', 'RestingBP']])"
   ]
  },
  {
   "cell_type": "code",
   "execution_count": 11,
   "id": "f5021a9546120237",
   "metadata": {
    "collapsed": false,
    "ExecuteTime": {
     "end_time": "2023-12-27T17:46:14.812456700Z",
     "start_time": "2023-12-27T17:46:14.688085700Z"
    }
   },
   "outputs": [
    {
     "data": {
      "text/plain": "         Age  Sex  ChestPainType  RestingBP  Cholesterol  FastingBS  \\\n0   0.244898    1              1      0.700     0.479270          0   \n1   0.428571    0              2      0.800     0.298507          0   \n2   0.183673    1              1      0.650     0.469320          0   \n3   0.408163    0              0      0.690     0.354892          0   \n4   0.530612    1              2      0.750     0.323383          0   \n5   0.224490    1              2      0.600     0.562189          0   \n6   0.346939    0              1      0.650     0.393035          0   \n7   0.530612    1              1      0.550     0.344942          0   \n8   0.183673    1              0      0.700     0.343284          0   \n9   0.408163    0              1      0.600     0.470978          0   \n10  0.183673    0              2      0.650     0.349917          0   \n11  0.612245    1              1      0.680     0.271973          0   \n12  0.224490    1              1      0.600     0.338308          0   \n13  0.428571    1              0      0.700     0.388060          0   \n14  0.285714    0              2      0.575     0.349917          0   \n15  0.530612    0              1      0.600     0.452736          0   \n16  0.204082    1              0      0.550     0.325041          0   \n17  0.306122    0              1      0.600     0.333333          0   \n18  0.653061    1              0      0.500     0.411277          0   \n19  0.163265    1              1      0.600     0.442786          0   \n20  0.306122    0              3      0.500     0.369818          0   \n21  0.326531    1              1      0.600     0.305141          0   \n22  0.428571    0              1      0.620     0.333333          0   \n23  0.326531    1              1      0.750     0.477612          0   \n24  0.244898    1              2      0.650     0.356551          0   \n25  0.163265    1              2      0.650     0.346600          0   \n26  0.510204    1              0      0.620     0.431177          0   \n27  0.489796    1              1      0.600     0.470978          0   \n28  0.510204    0              1      0.565     0.776119          0   \n29  0.469388    1              1      0.625     0.311774          0   \n30  0.510204    1              2      0.725     0.859038          0   \n31  0.571429    1              2      0.650     0.276949          0   \n32  0.530612    1              0      0.625     0.371476          0   \n33  0.265306    1              0      0.650     0.285240          0   \n34  0.306122    0              1      0.750     0.308458          0   \n35  0.081633    1              1      0.625     0.421227          0   \n36  0.755102    1              0      0.700     0.507463          1   \n37  0.265306    0              1      0.550     0.414594          0   \n38  0.408163    0              1      0.600     0.293532          1   \n39  0.408163    0              0      0.750     0.376451          0   \n40  0.530612    0              1      0.750     0.381426          0   \n41  0.530612    0              2      0.650     0.487562          0   \n42  0.142857    1              1      0.750     0.437811          0   \n43  0.489796    1              2      0.700     0.429519          0   \n44  0.306122    1              0      0.600     0.290216          0   \n45  0.632653    1              2      0.650     0.527363          0   \n46  0.183673    1              0      0.600     0.369818          0   \n47  0.448980    1              1      0.700     0.358209          0   \n48  0.163265    1              2      0.560     0.563847          0   \n49  0.265306    1              0      0.550     0.479270          0   \n\n    RestingECG     MaxHR  ExerciseAngina  Oldpeak  ST_Slope  Target  \n0            1  0.788732               0      0.0         2       0  \n1            1  0.676056               0      1.0         1       1  \n2            2  0.267606               0      0.0         2       0  \n3            1  0.338028               1      1.5         1       1  \n4            1  0.436620               0      0.0         2       0  \n5            1  0.774648               0      0.0         2       0  \n6            1  0.774648               0      0.0         2       0  \n7            1  0.577465               0      0.0         2       0  \n8            1  0.492958               1      1.5         1       1  \n9            1  0.422535               0      0.0         2       0  \n10           1  0.577465               0      0.0         2       0  \n11           2  0.274648               1      2.0         1       1  \n12           1  0.598592               0      0.0         2       0  \n13           1  0.563380               1      1.0         1       1  \n14           2  0.542254               0      0.0         2       0  \n15           1  0.633803               0      1.5         1       0  \n16           1  0.746479               0      0.0         1       1  \n17           1  0.739437               0      0.0         2       0  \n18           1  0.457746               0      1.0         1       1  \n19           1  0.704225               0      3.0         1       1  \n20           1  0.577465               0      0.0         2       0  \n21           1  0.577465               0      1.0         1       0  \n22           1  0.732394               0      0.0         2       0  \n23           1  0.633803               1      3.0         1       1  \n24           1  0.549296               0      0.0         2       0  \n25           1  0.830986               0      0.0         2       0  \n26           2  0.366197               1      3.0         1       0  \n27           1  0.408451               0      0.0         2       0  \n28           1  0.471831               0      0.0         2       0  \n29           1  0.598592               0      0.0         2       0  \n30           1  0.492958               0      0.0         1       1  \n31           1  0.380282               0      0.0         2       0  \n32           1  0.436620               0      2.0         1       1  \n33           2  0.492958               0      2.0         1       1  \n34           1  0.661972               0      0.0         2       0  \n35           1  0.669014               0      0.0         2       0  \n36           1  0.190141               1      1.5         1       1  \n37           2  0.577465               0      0.0         2       0  \n38           2  0.619718               0      0.0         2       0  \n39           1  0.492958               1      1.0         1       0  \n40           1  0.492958               0      0.0         2       0  \n41           2  0.281690               1      0.0         1       1  \n42           1  0.760563               0      0.0         2       0  \n43           2  0.774648               0      0.0         2       0  \n44           1  0.422535               1      1.0         1       1  \n45           1  0.422535               1      1.0         1       0  \n46           1  0.760563               0      0.0         2       0  \n47           1  0.774648               0      0.0         2       0  \n48           1  0.873239               0      1.0         1       0  \n49           1  0.774648               0      0.0         1       1  ",
      "text/html": "<div>\n<style scoped>\n    .dataframe tbody tr th:only-of-type {\n        vertical-align: middle;\n    }\n\n    .dataframe tbody tr th {\n        vertical-align: top;\n    }\n\n    .dataframe thead th {\n        text-align: right;\n    }\n</style>\n<table border=\"1\" class=\"dataframe\">\n  <thead>\n    <tr style=\"text-align: right;\">\n      <th></th>\n      <th>Age</th>\n      <th>Sex</th>\n      <th>ChestPainType</th>\n      <th>RestingBP</th>\n      <th>Cholesterol</th>\n      <th>FastingBS</th>\n      <th>RestingECG</th>\n      <th>MaxHR</th>\n      <th>ExerciseAngina</th>\n      <th>Oldpeak</th>\n      <th>ST_Slope</th>\n      <th>Target</th>\n    </tr>\n  </thead>\n  <tbody>\n    <tr>\n      <th>0</th>\n      <td>0.244898</td>\n      <td>1</td>\n      <td>1</td>\n      <td>0.700</td>\n      <td>0.479270</td>\n      <td>0</td>\n      <td>1</td>\n      <td>0.788732</td>\n      <td>0</td>\n      <td>0.0</td>\n      <td>2</td>\n      <td>0</td>\n    </tr>\n    <tr>\n      <th>1</th>\n      <td>0.428571</td>\n      <td>0</td>\n      <td>2</td>\n      <td>0.800</td>\n      <td>0.298507</td>\n      <td>0</td>\n      <td>1</td>\n      <td>0.676056</td>\n      <td>0</td>\n      <td>1.0</td>\n      <td>1</td>\n      <td>1</td>\n    </tr>\n    <tr>\n      <th>2</th>\n      <td>0.183673</td>\n      <td>1</td>\n      <td>1</td>\n      <td>0.650</td>\n      <td>0.469320</td>\n      <td>0</td>\n      <td>2</td>\n      <td>0.267606</td>\n      <td>0</td>\n      <td>0.0</td>\n      <td>2</td>\n      <td>0</td>\n    </tr>\n    <tr>\n      <th>3</th>\n      <td>0.408163</td>\n      <td>0</td>\n      <td>0</td>\n      <td>0.690</td>\n      <td>0.354892</td>\n      <td>0</td>\n      <td>1</td>\n      <td>0.338028</td>\n      <td>1</td>\n      <td>1.5</td>\n      <td>1</td>\n      <td>1</td>\n    </tr>\n    <tr>\n      <th>4</th>\n      <td>0.530612</td>\n      <td>1</td>\n      <td>2</td>\n      <td>0.750</td>\n      <td>0.323383</td>\n      <td>0</td>\n      <td>1</td>\n      <td>0.436620</td>\n      <td>0</td>\n      <td>0.0</td>\n      <td>2</td>\n      <td>0</td>\n    </tr>\n    <tr>\n      <th>5</th>\n      <td>0.224490</td>\n      <td>1</td>\n      <td>2</td>\n      <td>0.600</td>\n      <td>0.562189</td>\n      <td>0</td>\n      <td>1</td>\n      <td>0.774648</td>\n      <td>0</td>\n      <td>0.0</td>\n      <td>2</td>\n      <td>0</td>\n    </tr>\n    <tr>\n      <th>6</th>\n      <td>0.346939</td>\n      <td>0</td>\n      <td>1</td>\n      <td>0.650</td>\n      <td>0.393035</td>\n      <td>0</td>\n      <td>1</td>\n      <td>0.774648</td>\n      <td>0</td>\n      <td>0.0</td>\n      <td>2</td>\n      <td>0</td>\n    </tr>\n    <tr>\n      <th>7</th>\n      <td>0.530612</td>\n      <td>1</td>\n      <td>1</td>\n      <td>0.550</td>\n      <td>0.344942</td>\n      <td>0</td>\n      <td>1</td>\n      <td>0.577465</td>\n      <td>0</td>\n      <td>0.0</td>\n      <td>2</td>\n      <td>0</td>\n    </tr>\n    <tr>\n      <th>8</th>\n      <td>0.183673</td>\n      <td>1</td>\n      <td>0</td>\n      <td>0.700</td>\n      <td>0.343284</td>\n      <td>0</td>\n      <td>1</td>\n      <td>0.492958</td>\n      <td>1</td>\n      <td>1.5</td>\n      <td>1</td>\n      <td>1</td>\n    </tr>\n    <tr>\n      <th>9</th>\n      <td>0.408163</td>\n      <td>0</td>\n      <td>1</td>\n      <td>0.600</td>\n      <td>0.470978</td>\n      <td>0</td>\n      <td>1</td>\n      <td>0.422535</td>\n      <td>0</td>\n      <td>0.0</td>\n      <td>2</td>\n      <td>0</td>\n    </tr>\n    <tr>\n      <th>10</th>\n      <td>0.183673</td>\n      <td>0</td>\n      <td>2</td>\n      <td>0.650</td>\n      <td>0.349917</td>\n      <td>0</td>\n      <td>1</td>\n      <td>0.577465</td>\n      <td>0</td>\n      <td>0.0</td>\n      <td>2</td>\n      <td>0</td>\n    </tr>\n    <tr>\n      <th>11</th>\n      <td>0.612245</td>\n      <td>1</td>\n      <td>1</td>\n      <td>0.680</td>\n      <td>0.271973</td>\n      <td>0</td>\n      <td>2</td>\n      <td>0.274648</td>\n      <td>1</td>\n      <td>2.0</td>\n      <td>1</td>\n      <td>1</td>\n    </tr>\n    <tr>\n      <th>12</th>\n      <td>0.224490</td>\n      <td>1</td>\n      <td>1</td>\n      <td>0.600</td>\n      <td>0.338308</td>\n      <td>0</td>\n      <td>1</td>\n      <td>0.598592</td>\n      <td>0</td>\n      <td>0.0</td>\n      <td>2</td>\n      <td>0</td>\n    </tr>\n    <tr>\n      <th>13</th>\n      <td>0.428571</td>\n      <td>1</td>\n      <td>0</td>\n      <td>0.700</td>\n      <td>0.388060</td>\n      <td>0</td>\n      <td>1</td>\n      <td>0.563380</td>\n      <td>1</td>\n      <td>1.0</td>\n      <td>1</td>\n      <td>1</td>\n    </tr>\n    <tr>\n      <th>14</th>\n      <td>0.285714</td>\n      <td>0</td>\n      <td>2</td>\n      <td>0.575</td>\n      <td>0.349917</td>\n      <td>0</td>\n      <td>2</td>\n      <td>0.542254</td>\n      <td>0</td>\n      <td>0.0</td>\n      <td>2</td>\n      <td>0</td>\n    </tr>\n    <tr>\n      <th>15</th>\n      <td>0.530612</td>\n      <td>0</td>\n      <td>1</td>\n      <td>0.600</td>\n      <td>0.452736</td>\n      <td>0</td>\n      <td>1</td>\n      <td>0.633803</td>\n      <td>0</td>\n      <td>1.5</td>\n      <td>1</td>\n      <td>0</td>\n    </tr>\n    <tr>\n      <th>16</th>\n      <td>0.204082</td>\n      <td>1</td>\n      <td>0</td>\n      <td>0.550</td>\n      <td>0.325041</td>\n      <td>0</td>\n      <td>1</td>\n      <td>0.746479</td>\n      <td>0</td>\n      <td>0.0</td>\n      <td>1</td>\n      <td>1</td>\n    </tr>\n    <tr>\n      <th>17</th>\n      <td>0.306122</td>\n      <td>0</td>\n      <td>1</td>\n      <td>0.600</td>\n      <td>0.333333</td>\n      <td>0</td>\n      <td>1</td>\n      <td>0.739437</td>\n      <td>0</td>\n      <td>0.0</td>\n      <td>2</td>\n      <td>0</td>\n    </tr>\n    <tr>\n      <th>18</th>\n      <td>0.653061</td>\n      <td>1</td>\n      <td>0</td>\n      <td>0.500</td>\n      <td>0.411277</td>\n      <td>0</td>\n      <td>1</td>\n      <td>0.457746</td>\n      <td>0</td>\n      <td>1.0</td>\n      <td>1</td>\n      <td>1</td>\n    </tr>\n    <tr>\n      <th>19</th>\n      <td>0.163265</td>\n      <td>1</td>\n      <td>1</td>\n      <td>0.600</td>\n      <td>0.442786</td>\n      <td>0</td>\n      <td>1</td>\n      <td>0.704225</td>\n      <td>0</td>\n      <td>3.0</td>\n      <td>1</td>\n      <td>1</td>\n    </tr>\n    <tr>\n      <th>20</th>\n      <td>0.306122</td>\n      <td>0</td>\n      <td>3</td>\n      <td>0.500</td>\n      <td>0.369818</td>\n      <td>0</td>\n      <td>1</td>\n      <td>0.577465</td>\n      <td>0</td>\n      <td>0.0</td>\n      <td>2</td>\n      <td>0</td>\n    </tr>\n    <tr>\n      <th>21</th>\n      <td>0.326531</td>\n      <td>1</td>\n      <td>1</td>\n      <td>0.600</td>\n      <td>0.305141</td>\n      <td>0</td>\n      <td>1</td>\n      <td>0.577465</td>\n      <td>0</td>\n      <td>1.0</td>\n      <td>1</td>\n      <td>0</td>\n    </tr>\n    <tr>\n      <th>22</th>\n      <td>0.428571</td>\n      <td>0</td>\n      <td>1</td>\n      <td>0.620</td>\n      <td>0.333333</td>\n      <td>0</td>\n      <td>1</td>\n      <td>0.732394</td>\n      <td>0</td>\n      <td>0.0</td>\n      <td>2</td>\n      <td>0</td>\n    </tr>\n    <tr>\n      <th>23</th>\n      <td>0.326531</td>\n      <td>1</td>\n      <td>1</td>\n      <td>0.750</td>\n      <td>0.477612</td>\n      <td>0</td>\n      <td>1</td>\n      <td>0.633803</td>\n      <td>1</td>\n      <td>3.0</td>\n      <td>1</td>\n      <td>1</td>\n    </tr>\n    <tr>\n      <th>24</th>\n      <td>0.244898</td>\n      <td>1</td>\n      <td>2</td>\n      <td>0.650</td>\n      <td>0.356551</td>\n      <td>0</td>\n      <td>1</td>\n      <td>0.549296</td>\n      <td>0</td>\n      <td>0.0</td>\n      <td>2</td>\n      <td>0</td>\n    </tr>\n    <tr>\n      <th>25</th>\n      <td>0.163265</td>\n      <td>1</td>\n      <td>2</td>\n      <td>0.650</td>\n      <td>0.346600</td>\n      <td>0</td>\n      <td>1</td>\n      <td>0.830986</td>\n      <td>0</td>\n      <td>0.0</td>\n      <td>2</td>\n      <td>0</td>\n    </tr>\n    <tr>\n      <th>26</th>\n      <td>0.510204</td>\n      <td>1</td>\n      <td>0</td>\n      <td>0.620</td>\n      <td>0.431177</td>\n      <td>0</td>\n      <td>2</td>\n      <td>0.366197</td>\n      <td>1</td>\n      <td>3.0</td>\n      <td>1</td>\n      <td>0</td>\n    </tr>\n    <tr>\n      <th>27</th>\n      <td>0.489796</td>\n      <td>1</td>\n      <td>1</td>\n      <td>0.600</td>\n      <td>0.470978</td>\n      <td>0</td>\n      <td>1</td>\n      <td>0.408451</td>\n      <td>0</td>\n      <td>0.0</td>\n      <td>2</td>\n      <td>0</td>\n    </tr>\n    <tr>\n      <th>28</th>\n      <td>0.510204</td>\n      <td>0</td>\n      <td>1</td>\n      <td>0.565</td>\n      <td>0.776119</td>\n      <td>0</td>\n      <td>1</td>\n      <td>0.471831</td>\n      <td>0</td>\n      <td>0.0</td>\n      <td>2</td>\n      <td>0</td>\n    </tr>\n    <tr>\n      <th>29</th>\n      <td>0.469388</td>\n      <td>1</td>\n      <td>1</td>\n      <td>0.625</td>\n      <td>0.311774</td>\n      <td>0</td>\n      <td>1</td>\n      <td>0.598592</td>\n      <td>0</td>\n      <td>0.0</td>\n      <td>2</td>\n      <td>0</td>\n    </tr>\n    <tr>\n      <th>30</th>\n      <td>0.510204</td>\n      <td>1</td>\n      <td>2</td>\n      <td>0.725</td>\n      <td>0.859038</td>\n      <td>0</td>\n      <td>1</td>\n      <td>0.492958</td>\n      <td>0</td>\n      <td>0.0</td>\n      <td>1</td>\n      <td>1</td>\n    </tr>\n    <tr>\n      <th>31</th>\n      <td>0.571429</td>\n      <td>1</td>\n      <td>2</td>\n      <td>0.650</td>\n      <td>0.276949</td>\n      <td>0</td>\n      <td>1</td>\n      <td>0.380282</td>\n      <td>0</td>\n      <td>0.0</td>\n      <td>2</td>\n      <td>0</td>\n    </tr>\n    <tr>\n      <th>32</th>\n      <td>0.530612</td>\n      <td>1</td>\n      <td>0</td>\n      <td>0.625</td>\n      <td>0.371476</td>\n      <td>0</td>\n      <td>1</td>\n      <td>0.436620</td>\n      <td>0</td>\n      <td>2.0</td>\n      <td>1</td>\n      <td>1</td>\n    </tr>\n    <tr>\n      <th>33</th>\n      <td>0.265306</td>\n      <td>1</td>\n      <td>0</td>\n      <td>0.650</td>\n      <td>0.285240</td>\n      <td>0</td>\n      <td>2</td>\n      <td>0.492958</td>\n      <td>0</td>\n      <td>2.0</td>\n      <td>1</td>\n      <td>1</td>\n    </tr>\n    <tr>\n      <th>34</th>\n      <td>0.306122</td>\n      <td>0</td>\n      <td>1</td>\n      <td>0.750</td>\n      <td>0.308458</td>\n      <td>0</td>\n      <td>1</td>\n      <td>0.661972</td>\n      <td>0</td>\n      <td>0.0</td>\n      <td>2</td>\n      <td>0</td>\n    </tr>\n    <tr>\n      <th>35</th>\n      <td>0.081633</td>\n      <td>1</td>\n      <td>1</td>\n      <td>0.625</td>\n      <td>0.421227</td>\n      <td>0</td>\n      <td>1</td>\n      <td>0.669014</td>\n      <td>0</td>\n      <td>0.0</td>\n      <td>2</td>\n      <td>0</td>\n    </tr>\n    <tr>\n      <th>36</th>\n      <td>0.755102</td>\n      <td>1</td>\n      <td>0</td>\n      <td>0.700</td>\n      <td>0.507463</td>\n      <td>1</td>\n      <td>1</td>\n      <td>0.190141</td>\n      <td>1</td>\n      <td>1.5</td>\n      <td>1</td>\n      <td>1</td>\n    </tr>\n    <tr>\n      <th>37</th>\n      <td>0.265306</td>\n      <td>0</td>\n      <td>1</td>\n      <td>0.550</td>\n      <td>0.414594</td>\n      <td>0</td>\n      <td>2</td>\n      <td>0.577465</td>\n      <td>0</td>\n      <td>0.0</td>\n      <td>2</td>\n      <td>0</td>\n    </tr>\n    <tr>\n      <th>38</th>\n      <td>0.408163</td>\n      <td>0</td>\n      <td>1</td>\n      <td>0.600</td>\n      <td>0.293532</td>\n      <td>1</td>\n      <td>2</td>\n      <td>0.619718</td>\n      <td>0</td>\n      <td>0.0</td>\n      <td>2</td>\n      <td>0</td>\n    </tr>\n    <tr>\n      <th>39</th>\n      <td>0.408163</td>\n      <td>0</td>\n      <td>0</td>\n      <td>0.750</td>\n      <td>0.376451</td>\n      <td>0</td>\n      <td>1</td>\n      <td>0.492958</td>\n      <td>1</td>\n      <td>1.0</td>\n      <td>1</td>\n      <td>0</td>\n    </tr>\n    <tr>\n      <th>40</th>\n      <td>0.530612</td>\n      <td>0</td>\n      <td>1</td>\n      <td>0.750</td>\n      <td>0.381426</td>\n      <td>0</td>\n      <td>1</td>\n      <td>0.492958</td>\n      <td>0</td>\n      <td>0.0</td>\n      <td>2</td>\n      <td>0</td>\n    </tr>\n    <tr>\n      <th>41</th>\n      <td>0.530612</td>\n      <td>0</td>\n      <td>2</td>\n      <td>0.650</td>\n      <td>0.487562</td>\n      <td>0</td>\n      <td>2</td>\n      <td>0.281690</td>\n      <td>1</td>\n      <td>0.0</td>\n      <td>1</td>\n      <td>1</td>\n    </tr>\n    <tr>\n      <th>42</th>\n      <td>0.142857</td>\n      <td>1</td>\n      <td>1</td>\n      <td>0.750</td>\n      <td>0.437811</td>\n      <td>0</td>\n      <td>1</td>\n      <td>0.760563</td>\n      <td>0</td>\n      <td>0.0</td>\n      <td>2</td>\n      <td>0</td>\n    </tr>\n    <tr>\n      <th>43</th>\n      <td>0.489796</td>\n      <td>1</td>\n      <td>2</td>\n      <td>0.700</td>\n      <td>0.429519</td>\n      <td>0</td>\n      <td>2</td>\n      <td>0.774648</td>\n      <td>0</td>\n      <td>0.0</td>\n      <td>2</td>\n      <td>0</td>\n    </tr>\n    <tr>\n      <th>44</th>\n      <td>0.306122</td>\n      <td>1</td>\n      <td>0</td>\n      <td>0.600</td>\n      <td>0.290216</td>\n      <td>0</td>\n      <td>1</td>\n      <td>0.422535</td>\n      <td>1</td>\n      <td>1.0</td>\n      <td>1</td>\n      <td>1</td>\n    </tr>\n    <tr>\n      <th>45</th>\n      <td>0.632653</td>\n      <td>1</td>\n      <td>2</td>\n      <td>0.650</td>\n      <td>0.527363</td>\n      <td>0</td>\n      <td>1</td>\n      <td>0.422535</td>\n      <td>1</td>\n      <td>1.0</td>\n      <td>1</td>\n      <td>0</td>\n    </tr>\n    <tr>\n      <th>46</th>\n      <td>0.183673</td>\n      <td>1</td>\n      <td>0</td>\n      <td>0.600</td>\n      <td>0.369818</td>\n      <td>0</td>\n      <td>1</td>\n      <td>0.760563</td>\n      <td>0</td>\n      <td>0.0</td>\n      <td>2</td>\n      <td>0</td>\n    </tr>\n    <tr>\n      <th>47</th>\n      <td>0.448980</td>\n      <td>1</td>\n      <td>1</td>\n      <td>0.700</td>\n      <td>0.358209</td>\n      <td>0</td>\n      <td>1</td>\n      <td>0.774648</td>\n      <td>0</td>\n      <td>0.0</td>\n      <td>2</td>\n      <td>0</td>\n    </tr>\n    <tr>\n      <th>48</th>\n      <td>0.163265</td>\n      <td>1</td>\n      <td>2</td>\n      <td>0.560</td>\n      <td>0.563847</td>\n      <td>0</td>\n      <td>1</td>\n      <td>0.873239</td>\n      <td>0</td>\n      <td>1.0</td>\n      <td>1</td>\n      <td>0</td>\n    </tr>\n    <tr>\n      <th>49</th>\n      <td>0.265306</td>\n      <td>1</td>\n      <td>0</td>\n      <td>0.550</td>\n      <td>0.479270</td>\n      <td>0</td>\n      <td>1</td>\n      <td>0.774648</td>\n      <td>0</td>\n      <td>0.0</td>\n      <td>1</td>\n      <td>1</td>\n    </tr>\n  </tbody>\n</table>\n</div>"
     },
     "execution_count": 11,
     "metadata": {},
     "output_type": "execute_result"
    }
   ],
   "source": [
    "df.head(50)"
   ]
  },
  {
   "cell_type": "code",
   "execution_count": 12,
   "id": "d776c5de0d5f4739",
   "metadata": {
    "collapsed": false,
    "ExecuteTime": {
     "end_time": "2023-12-27T17:46:14.812456700Z",
     "start_time": "2023-12-27T17:46:14.703754900Z"
    }
   },
   "outputs": [],
   "source": [
    "X = df.iloc[:, :-1]\n",
    "y = df.iloc[:, -1]\n",
    "\n",
    "X_train, X_test, y_train, y_test = train_test_split(X,y, test_size= .2, random_state=42)"
   ]
  },
  {
   "cell_type": "code",
   "execution_count": 13,
   "id": "2565a6afdf607e89",
   "metadata": {
    "collapsed": false,
    "ExecuteTime": {
     "end_time": "2023-12-27T17:46:14.828180700Z",
     "start_time": "2023-12-27T17:46:14.721620100Z"
    }
   },
   "outputs": [],
   "source": [
    "scaler = StandardScaler()\n",
    "X_train_scaled = scaler.fit_transform(X_train)\n",
    "X_test_scaled = scaler.transform(X_test)"
   ]
  },
  {
   "cell_type": "code",
   "execution_count": 14,
   "id": "cbd09b61ae9d56de",
   "metadata": {
    "collapsed": false,
    "ExecuteTime": {
     "end_time": "2023-12-27T17:46:14.843236Z",
     "start_time": "2023-12-27T17:46:14.737220800Z"
    }
   },
   "outputs": [
    {
     "name": "stdout",
     "output_type": "stream",
     "text": [
      "RandomForestClassifier - Train:  0.914\n",
      "RandomForestClassifier - Test:  0.783\n"
     ]
    }
   ],
   "source": [
    "RandomForestClassifier = RandomForestClassifier(n_estimators=1)\n",
    "RandomForestClassifier.fit(X_train, y_train)\n",
    "\n",
    "acc_random_forest = round(RandomForestClassifier.score(X_train, y_train), 3) \n",
    "random_forest = round(RandomForestClassifier.score(X_test, y_test), 3) \n",
    "\n",
    "print(\"RandomForestClassifier - Train: \", acc_random_forest)\n",
    "print(\"RandomForestClassifier - Test: \", random_forest)"
   ]
  },
  {
   "cell_type": "code",
   "execution_count": 15,
   "id": "632ff3eafd78439c",
   "metadata": {
    "collapsed": false,
    "ExecuteTime": {
     "end_time": "2023-12-27T17:46:14.845849500Z",
     "start_time": "2023-12-27T17:46:14.764955800Z"
    }
   },
   "outputs": [
    {
     "name": "stdout",
     "output_type": "stream",
     "text": [
      "LogisticRegression - Train:  0.861\n",
      "LogisticRegression - Test:  0.848\n"
     ]
    }
   ],
   "source": [
    "logreg = LogisticRegression()\n",
    "logreg.fit(X_train, y_train)\n",
    "\n",
    "acc_log = round(logreg.score(X_train, y_train), 3)\n",
    "log = round(logreg.score(X_test, y_test), 3)\n",
    "\n",
    "print(\"LogisticRegression - Train: \", acc_log)\n",
    "print(\"LogisticRegression - Test: \", log)"
   ]
  },
  {
   "cell_type": "code",
   "execution_count": 16,
   "id": "6fad5b4cd6e8c949",
   "metadata": {
    "collapsed": false,
    "ExecuteTime": {
     "end_time": "2023-12-27T17:46:14.882084800Z",
     "start_time": "2023-12-27T17:46:14.797354300Z"
    }
   },
   "outputs": [
    {
     "name": "stdout",
     "output_type": "stream",
     "text": [
      "KNeighborsClassifier - Accuracy: 0.804\n"
     ]
    }
   ],
   "source": [
    "knn_model = KNeighborsClassifier(n_neighbors=1) \n",
    "knn_model.fit(X_train_scaled, y_train)\n",
    "\n",
    "y_pred = knn_model.predict(X_test_scaled)\n",
    "\n",
    "acc_k_neigh = accuracy_score(y_test, y_pred)\n",
    "print(f'KNeighborsClassifier - Accuracy: {acc_k_neigh:.3f}')"
   ]
  },
  {
   "cell_type": "code",
   "execution_count": 17,
   "id": "41b97c5f7dcdf1e1",
   "metadata": {
    "collapsed": false,
    "ExecuteTime": {
     "end_time": "2023-12-27T17:46:15.011906100Z",
     "start_time": "2023-12-27T17:46:14.812456700Z"
    }
   },
   "outputs": [
    {
     "name": "stdout",
     "output_type": "stream",
     "text": [
      "              precision    recall  f1-score   support\n",
      "\n",
      "           0       0.73      0.86      0.79        77\n",
      "           1       0.88      0.77      0.82       107\n",
      "\n",
      "    accuracy                           0.80       184\n",
      "   macro avg       0.80      0.81      0.80       184\n",
      "weighted avg       0.82      0.80      0.81       184\n"
     ]
    }
   ],
   "source": [
    "print(classification_report(y_test, y_pred))"
   ]
  },
  {
   "cell_type": "code",
   "execution_count": 18,
   "id": "73dc2b3d30b9d857",
   "metadata": {
    "collapsed": false,
    "ExecuteTime": {
     "end_time": "2023-12-27T17:46:15.027548200Z",
     "start_time": "2023-12-27T17:46:14.830480700Z"
    }
   },
   "outputs": [
    {
     "name": "stdout",
     "output_type": "stream",
     "text": [
      "GaussianNB - Accuracy:  0.842\n"
     ]
    }
   ],
   "source": [
    "MN = GaussianNB()\n",
    "MN.fit(X_train,y_train)\n",
    "\n",
    "y_pred = MN.predict(X_test)\n",
    "\n",
    "acc_MN = round(accuracy_score(y_pred,y_test), 3)\n",
    "print(\"GaussianNB - Accuracy: \", acc_MN)"
   ]
  },
  {
   "cell_type": "code",
   "execution_count": 19,
   "id": "bad3ea1e9f865e09",
   "metadata": {
    "collapsed": false,
    "ExecuteTime": {
     "end_time": "2023-12-27T17:46:15.027548200Z",
     "start_time": "2023-12-27T17:46:14.852524500Z"
    }
   },
   "outputs": [
    {
     "name": "stdout",
     "output_type": "stream",
     "text": [
      "DecisionTreeClassifier - Accuracy: 0.788\n"
     ]
    }
   ],
   "source": [
    "dt_model = DecisionTreeClassifier(random_state=42)\n",
    "dt_model.fit(X_train, y_train)\n",
    "\n",
    "y_pred = dt_model.predict(X_test)\n",
    "\n",
    "acc_des_tree = accuracy_score(y_test, y_pred)\n",
    "print(f'DecisionTreeClassifier - Accuracy: {acc_des_tree:.3f}')"
   ]
  },
  {
   "cell_type": "code",
   "execution_count": 20,
   "id": "ed1143baf53ab435",
   "metadata": {
    "collapsed": false,
    "ExecuteTime": {
     "end_time": "2023-12-27T17:46:15.027548200Z",
     "start_time": "2023-12-27T17:46:14.885437800Z"
    }
   },
   "outputs": [
    {
     "name": "stdout",
     "output_type": "stream",
     "text": [
      "              precision    recall  f1-score   support\n",
      "\n",
      "           0       0.71      0.83      0.77        77\n",
      "           1       0.86      0.76      0.81       107\n",
      "\n",
      "    accuracy                           0.79       184\n",
      "   macro avg       0.79      0.79      0.79       184\n",
      "weighted avg       0.80      0.79      0.79       184\n"
     ]
    }
   ],
   "source": [
    "print(classification_report(y_test, y_pred))"
   ]
  },
  {
   "cell_type": "code",
   "execution_count": 21,
   "id": "b3f2ce2a7791964b",
   "metadata": {
    "collapsed": false,
    "ExecuteTime": {
     "end_time": "2023-12-27T17:46:15.175193800Z",
     "start_time": "2023-12-27T17:46:14.918173200Z"
    }
   },
   "outputs": [
    {
     "name": "stdout",
     "output_type": "stream",
     "text": [
      "Accuracy Scores: [0.86413043 0.86956522 0.89130435 0.83060109 0.85245902]\n",
      "Mean Accuracy: 0.862\n"
     ]
    }
   ],
   "source": [
    "svc_model = SVC()\n",
    "\n",
    "kf = KFold(n_splits=5, shuffle=True, random_state=42)\n",
    "\n",
    "X_scaled = scaler.fit_transform(X)\n",
    "\n",
    "svc_model = SVC()\n",
    "\n",
    "kfold = KFold(n_splits=5, shuffle=True, random_state=42)\n",
    "\n",
    "accuracy_scores_kfold = cross_val_score(svc_model, X_scaled, y, cv=kfold, scoring='accuracy')\n",
    "svc_model.fit(X_scaled, y)\n",
    "\n",
    "print(f'Accuracy Scores: {accuracy_scores_kfold}')\n",
    "print(f'Mean Accuracy: {accuracy_scores_kfold.mean():.3f}')"
   ]
  },
  {
   "cell_type": "code",
   "execution_count": 22,
   "id": "db3776a9f538d88",
   "metadata": {
    "collapsed": false,
    "ExecuteTime": {
     "end_time": "2023-12-27T17:46:15.178185100Z",
     "start_time": "2023-12-27T17:46:15.047301400Z"
    }
   },
   "outputs": [
    {
     "name": "stdout",
     "output_type": "stream",
     "text": [
      "RidgeClassifier - Accuracy: 0.837\n"
     ]
    }
   ],
   "source": [
    "ridge_classifier = RidgeClassifier(alpha=1.0) \n",
    "ridge_classifier.fit(X_train_scaled, y_train)\n",
    "\n",
    "y_pred = ridge_classifier.predict(X_test_scaled)\n",
    "acc_ridge = accuracy_score(y_test, y_pred)\n",
    "print(f'RidgeClassifier - Accuracy: {acc_ridge:.3f}')"
   ]
  },
  {
   "cell_type": "code",
   "execution_count": 23,
   "id": "805853554bc14ce8",
   "metadata": {
    "collapsed": false,
    "ExecuteTime": {
     "end_time": "2023-12-27T17:46:15.178185100Z",
     "start_time": "2023-12-27T17:46:15.066220500Z"
    }
   },
   "outputs": [
    {
     "name": "stdout",
     "output_type": "stream",
     "text": [
      "              precision    recall  f1-score   support\n",
      "\n",
      "           0       0.77      0.87      0.82        77\n",
      "           1       0.90      0.81      0.85       107\n",
      "\n",
      "    accuracy                           0.84       184\n",
      "   macro avg       0.83      0.84      0.84       184\n",
      "weighted avg       0.84      0.84      0.84       184\n"
     ]
    }
   ],
   "source": [
    "print(classification_report(y_test, y_pred))"
   ]
  },
  {
   "cell_type": "code",
   "execution_count": 24,
   "id": "8de54f304e749e6",
   "metadata": {
    "collapsed": false,
    "ExecuteTime": {
     "end_time": "2023-12-27T17:46:15.286909300Z",
     "start_time": "2023-12-27T17:46:15.098936100Z"
    }
   },
   "outputs": [
    {
     "name": "stdout",
     "output_type": "stream",
     "text": [
      "GradientBoostingClassifier - Accuracy: 0.875\n"
     ]
    }
   ],
   "source": [
    "gradient_boosting_classifier = GradientBoostingClassifier(n_estimators=100, learning_rate=0.1, max_depth=3, random_state=42)\n",
    "gradient_boosting_classifier.fit(X_train_scaled, y_train)\n",
    "\n",
    "y_pred = gradient_boosting_classifier.predict(X_test_scaled)\n",
    "acc_grad_boost = accuracy_score(y_test, y_pred)\n",
    "print(f'GradientBoostingClassifier - Accuracy: {acc_grad_boost:.3f}')"
   ]
  },
  {
   "cell_type": "code",
   "execution_count": 25,
   "id": "d6f93d5210528972",
   "metadata": {
    "collapsed": false,
    "ExecuteTime": {
     "end_time": "2023-12-27T17:46:15.286909300Z",
     "start_time": "2023-12-27T17:46:15.250559600Z"
    }
   },
   "outputs": [
    {
     "name": "stdout",
     "output_type": "stream",
     "text": [
      "              precision    recall  f1-score   support\n",
      "\n",
      "           0       0.82      0.90      0.86        77\n",
      "           1       0.92      0.86      0.89       107\n",
      "\n",
      "    accuracy                           0.88       184\n",
      "   macro avg       0.87      0.88      0.87       184\n",
      "weighted avg       0.88      0.88      0.88       184\n"
     ]
    }
   ],
   "source": [
    "print(classification_report(y_test, y_pred))"
   ]
  },
  {
   "cell_type": "code",
   "execution_count": 26,
   "id": "a71eae40e002492d",
   "metadata": {
    "collapsed": false,
    "ExecuteTime": {
     "end_time": "2023-12-27T17:46:15.404280500Z",
     "start_time": "2023-12-27T17:46:15.262269200Z"
    }
   },
   "outputs": [
    {
     "name": "stdout",
     "output_type": "stream",
     "text": [
      "ExtraTreesClassifier - Accuracy: 0.886\n"
     ]
    }
   ],
   "source": [
    "extra_trees_classifier = ExtraTreesClassifier(n_estimators=100, max_depth=None, min_samples_split=2, random_state=42)\n",
    "extra_trees_classifier.fit(X_train_scaled, y_train)\n",
    "\n",
    "y_pred = extra_trees_classifier.predict(X_test_scaled)\n",
    "acc_extra_tree = accuracy_score(y_test, y_pred)\n",
    "print(f'ExtraTreesClassifier - Accuracy: {acc_extra_tree:.3f}')"
   ]
  },
  {
   "cell_type": "code",
   "execution_count": 27,
   "id": "5f883aa229beb890",
   "metadata": {
    "collapsed": false,
    "ExecuteTime": {
     "end_time": "2023-12-27T17:46:15.413766Z",
     "start_time": "2023-12-27T17:46:15.404280500Z"
    }
   },
   "outputs": [
    {
     "name": "stdout",
     "output_type": "stream",
     "text": [
      "              precision    recall  f1-score   support\n",
      "\n",
      "           0       0.84      0.90      0.87        77\n",
      "           1       0.92      0.88      0.90       107\n",
      "\n",
      "    accuracy                           0.89       184\n",
      "   macro avg       0.88      0.89      0.88       184\n",
      "weighted avg       0.89      0.89      0.89       184\n"
     ]
    }
   ],
   "source": [
    "print(classification_report(y_test, y_pred))"
   ]
  },
  {
   "cell_type": "code",
   "execution_count": 28,
   "id": "5e643b84089a1c70",
   "metadata": {
    "collapsed": false,
    "ExecuteTime": {
     "end_time": "2023-12-27T17:46:15.477065700Z",
     "start_time": "2023-12-27T17:46:15.413766Z"
    }
   },
   "outputs": [
    {
     "name": "stdout",
     "output_type": "stream",
     "text": [
      "DummyClassifier - Accuracy: 0.46\n"
     ]
    }
   ],
   "source": [
    "dummy_classifier = DummyClassifier(strategy='uniform')  \n",
    "dummy_classifier.fit(X_train_scaled, y_train)\n",
    "\n",
    "y_pred = dummy_classifier.predict(X_test_scaled)\n",
    "\n",
    "acc_dummy = accuracy_score(y_test, y_pred)\n",
    "print(f'DummyClassifier - Accuracy: {acc_dummy:.2f}')"
   ]
  },
  {
   "cell_type": "code",
   "execution_count": 29,
   "id": "f2e558d067ff8161",
   "metadata": {
    "collapsed": false,
    "ExecuteTime": {
     "end_time": "2023-12-27T17:46:15.488853300Z",
     "start_time": "2023-12-27T17:46:15.433045900Z"
    }
   },
   "outputs": [
    {
     "name": "stdout",
     "output_type": "stream",
     "text": [
      "              precision    recall  f1-score   support\n",
      "\n",
      "           0       0.37      0.43      0.40        77\n",
      "           1       0.54      0.48      0.50       107\n",
      "\n",
      "    accuracy                           0.46       184\n",
      "   macro avg       0.45      0.45      0.45       184\n",
      "weighted avg       0.47      0.46      0.46       184\n"
     ]
    }
   ],
   "source": [
    "print(classification_report(y_test, y_pred))"
   ]
  },
  {
   "cell_type": "code",
   "execution_count": 30,
   "id": "a31cedaa5d1cfc29",
   "metadata": {
    "collapsed": false,
    "ExecuteTime": {
     "end_time": "2023-12-27T17:46:15.489876700Z",
     "start_time": "2023-12-27T17:46:15.448177400Z"
    }
   },
   "outputs": [
    {
     "name": "stdout",
     "output_type": "stream",
     "text": [
      "Mean Squared Error: 0.11\n",
      "R2 Score: 0.54\n"
     ]
    }
   ],
   "source": [
    "k_neighbors_regressor = KNeighborsRegressor(n_neighbors=5) \n",
    "k_neighbors_regressor.fit(X_train_scaled, y_train)\n",
    "\n",
    "\n",
    "y_pred = k_neighbors_regressor.predict(X_test_scaled)\n",
    "\n",
    "mse_kreg = mean_squared_error(y_test, y_pred)\n",
    "r2 = r2_score(y_test, y_pred)\n",
    "\n",
    "print(f'Mean Squared Error: {mse_kreg:.2f}')\n",
    "print(f'R2 Score: {r2:.2f}')"
   ]
  },
  {
   "cell_type": "code",
   "execution_count": 31,
   "id": "6f9237909bb9918e",
   "metadata": {
    "collapsed": false,
    "ExecuteTime": {
     "end_time": "2023-12-27T17:46:15.490877100Z",
     "start_time": "2023-12-27T17:46:15.464037200Z"
    }
   },
   "outputs": [
    {
     "name": "stdout",
     "output_type": "stream",
     "text": [
      "Mean Squared Error: 0.137\n",
      "R2 Score: 0.44\n"
     ]
    }
   ],
   "source": [
    "linear_regression_model = LinearRegression()\n",
    "linear_regression_model.fit(X_train_scaled, y_train)\n",
    "\n",
    "y_pred = linear_regression_model.predict(X_test_scaled)\n",
    "\n",
    "mse_lin = mean_squared_error(y_test, y_pred)\n",
    "r2 = r2_score(y_test, y_pred)\n",
    "\n",
    "print(f'Mean Squared Error: {mse_lin:.3f}')\n",
    "print(f'R2 Score: {r2:.2f}')"
   ]
  },
  {
   "cell_type": "code",
   "execution_count": 32,
   "id": "18c5121b829ad8e9",
   "metadata": {
    "collapsed": false,
    "ExecuteTime": {
     "end_time": "2023-12-27T17:46:17.145270200Z",
     "start_time": "2023-12-27T17:46:15.482905100Z"
    }
   },
   "outputs": [
    {
     "name": "stdout",
     "output_type": "stream",
     "text": [
      "Best Parameters: {'classifier__C': 1, 'classifier__gamma': 0.1, 'classifier__kernel': 'rbf'}\n",
      "GridSearchCV - Accuracy: 0.875\n"
     ]
    }
   ],
   "source": [
    "pipeline = Pipeline([\n",
    "    ('scaler', StandardScaler()),\n",
    "    ('classifier', SVC())\n",
    "])\n",
    "param_grid = {\n",
    "    'classifier__C': [0.1, 1, 10],\n",
    "    'classifier__kernel': ['linear', 'rbf'],\n",
    "    'classifier__gamma': [0.01, 0.1, 1]\n",
    "}\n",
    "\n",
    "grid_search = GridSearchCV(pipeline, param_grid, cv=5, scoring='accuracy')\n",
    "\n",
    "grid_search.fit(X_train_scaled, y_train)\n",
    "\n",
    "\n",
    "best_params = grid_search.best_params_\n",
    "print(f'Best Parameters: {best_params}')\n",
    "\n",
    "y_pred = grid_search.predict(X_test_scaled)\n",
    "\n",
    "\n",
    "acc_grid = accuracy_score(y_test, y_pred)\n",
    "print(f'GridSearchCV - Accuracy: {acc_grid:.3f}')"
   ]
  },
  {
   "cell_type": "code",
   "execution_count": 33,
   "id": "9e9329b726865ab8",
   "metadata": {
    "collapsed": false,
    "ExecuteTime": {
     "end_time": "2023-12-27T17:46:17.211194300Z",
     "start_time": "2023-12-27T17:46:17.145270200Z"
    }
   },
   "outputs": [
    {
     "name": "stdout",
     "output_type": "stream",
     "text": [
      "              precision    recall  f1-score   support\n",
      "\n",
      "           0       0.84      0.87      0.85        77\n",
      "           1       0.90      0.88      0.89       107\n",
      "\n",
      "    accuracy                           0.88       184\n",
      "   macro avg       0.87      0.87      0.87       184\n",
      "weighted avg       0.88      0.88      0.88       184\n"
     ]
    }
   ],
   "source": [
    "print(classification_report(y_test, y_pred))"
   ]
  },
  {
   "cell_type": "code",
   "execution_count": 34,
   "id": "b1f25806b4972dd3",
   "metadata": {
    "collapsed": false,
    "ExecuteTime": {
     "end_time": "2023-12-27T17:46:17.214515100Z",
     "start_time": "2023-12-27T17:46:17.162213600Z"
    }
   },
   "outputs": [
    {
     "data": {
      "text/plain": "                           Model  Testing_score\n6         Extra Trees Classifier       0.885870\n2                   GridSearchCV       0.875000\n5   Gradient Boosting Classifier       0.875000\n0            Logistic Regression       0.848000\n9                    Gaussian NB       0.842000\n3               Ridge Classifier       0.836957\n7          KNeighbors Classifier       0.804348\n10      Decision Tree Classifier       0.788043\n1                  Random Forest       0.783000\n11               DummyClassifier       0.456522\n4              Linear Regression       0.137291\n8           KNeighbors Regressor       0.111957",
      "text/html": "<div>\n<style scoped>\n    .dataframe tbody tr th:only-of-type {\n        vertical-align: middle;\n    }\n\n    .dataframe tbody tr th {\n        vertical-align: top;\n    }\n\n    .dataframe thead th {\n        text-align: right;\n    }\n</style>\n<table border=\"1\" class=\"dataframe\">\n  <thead>\n    <tr style=\"text-align: right;\">\n      <th></th>\n      <th>Model</th>\n      <th>Testing_score</th>\n    </tr>\n  </thead>\n  <tbody>\n    <tr>\n      <th>6</th>\n      <td>Extra Trees Classifier</td>\n      <td>0.885870</td>\n    </tr>\n    <tr>\n      <th>2</th>\n      <td>GridSearchCV</td>\n      <td>0.875000</td>\n    </tr>\n    <tr>\n      <th>5</th>\n      <td>Gradient Boosting Classifier</td>\n      <td>0.875000</td>\n    </tr>\n    <tr>\n      <th>0</th>\n      <td>Logistic Regression</td>\n      <td>0.848000</td>\n    </tr>\n    <tr>\n      <th>9</th>\n      <td>Gaussian NB</td>\n      <td>0.842000</td>\n    </tr>\n    <tr>\n      <th>3</th>\n      <td>Ridge Classifier</td>\n      <td>0.836957</td>\n    </tr>\n    <tr>\n      <th>7</th>\n      <td>KNeighbors Classifier</td>\n      <td>0.804348</td>\n    </tr>\n    <tr>\n      <th>10</th>\n      <td>Decision Tree Classifier</td>\n      <td>0.788043</td>\n    </tr>\n    <tr>\n      <th>1</th>\n      <td>Random Forest</td>\n      <td>0.783000</td>\n    </tr>\n    <tr>\n      <th>11</th>\n      <td>DummyClassifier</td>\n      <td>0.456522</td>\n    </tr>\n    <tr>\n      <th>4</th>\n      <td>Linear Regression</td>\n      <td>0.137291</td>\n    </tr>\n    <tr>\n      <th>8</th>\n      <td>KNeighbors Regressor</td>\n      <td>0.111957</td>\n    </tr>\n  </tbody>\n</table>\n</div>"
     },
     "execution_count": 34,
     "metadata": {},
     "output_type": "execute_result"
    }
   ],
   "source": [
    "models = pd.DataFrame({\n",
    "    'Model': ['Logistic Regression', 'Random Forest', 'GridSearchCV', 'Ridge Classifier', 'Linear Regression',\n",
    "              'Gradient Boosting Classifier', 'Extra Trees Classifier', 'KNeighbors Classifier', 'KNeighbors Regressor',\n",
    "              'Gaussian NB', 'Decision Tree Classifier', 'DummyClassifier'],\n",
    "    \n",
    "    'Testing_score' : [log, random_forest, acc_grid, acc_ridge, mse_lin, acc_grad_boost, acc_extra_tree, acc_k_neigh,\n",
    "                       mse_kreg, acc_MN, acc_des_tree, acc_dummy]})\n",
    "\n",
    "models.sort_values(by='Testing_score', ascending=False)"
   ]
  },
  {
   "cell_type": "markdown",
   "source": [],
   "metadata": {
    "collapsed": false
   },
   "id": "d8294dd44af59703"
  },
  {
   "cell_type": "code",
   "execution_count": 35,
   "id": "cc099d6d4cdf0731",
   "metadata": {
    "collapsed": false,
    "ExecuteTime": {
     "end_time": "2023-12-27T17:46:17.214515100Z",
     "start_time": "2023-12-27T17:46:17.178871100Z"
    }
   },
   "outputs": [],
   "source": [
    "from sklearn.metrics import confusion_matrix"
   ]
  },
  {
   "cell_type": "code",
   "execution_count": 36,
   "outputs": [
    {
     "name": "stdout",
     "output_type": "stream",
     "text": [
      "0.7445652173913043\n"
     ]
    },
    {
     "name": "stderr",
     "output_type": "stream",
     "text": [
      "C:\\Users\\Aiana Sagynbek\\PycharmProjects\\coursework\\venv\\lib\\site-packages\\sklearn\\base.py:432: UserWarning: X has feature names, but ExtraTreesClassifier was fitted without feature names\n",
      "  warnings.warn(\n"
     ]
    },
    {
     "data": {
      "text/plain": "array([[68,  9],\n       [38, 69]], dtype=int64)"
     },
     "execution_count": 36,
     "metadata": {},
     "output_type": "execute_result"
    }
   ],
   "source": [
    "y_pred = extra_trees_classifier.predict(X_test)\n",
    "y_pred = (y_pred > 0.5)\n",
    "\n",
    "cm = confusion_matrix(y_test, y_pred)\n",
    "\n",
    "score = accuracy_score(y_pred, y_test)\n",
    "print(score)\n",
    "cm"
   ],
   "metadata": {
    "collapsed": false,
    "ExecuteTime": {
     "end_time": "2023-12-27T17:46:17.214515100Z",
     "start_time": "2023-12-27T17:46:17.199577400Z"
    }
   },
   "id": "92a02d24f85c406a"
  },
  {
   "cell_type": "code",
   "execution_count": 37,
   "outputs": [
    {
     "name": "stdout",
     "output_type": "stream",
     "text": [
      "0.6141304347826086\n"
     ]
    },
    {
     "name": "stderr",
     "output_type": "stream",
     "text": [
      "C:\\Users\\Aiana Sagynbek\\PycharmProjects\\coursework\\venv\\lib\\site-packages\\sklearn\\base.py:432: UserWarning: X has feature names, but GradientBoostingClassifier was fitted without feature names\n",
      "  warnings.warn(\n"
     ]
    },
    {
     "data": {
      "text/plain": "array([[64, 13],\n       [58, 49]], dtype=int64)"
     },
     "execution_count": 37,
     "metadata": {},
     "output_type": "execute_result"
    }
   ],
   "source": [
    "y_pred1 = gradient_boosting_classifier.predict(X_test)\n",
    "y_pred1 = (y_pred1 > 0.5)\n",
    "\n",
    "cm1 = confusion_matrix(y_test, y_pred1)\n",
    "\n",
    "score1 = accuracy_score(y_pred1, y_test)\n",
    "print(score1)\n",
    "cm1"
   ],
   "metadata": {
    "collapsed": false,
    "ExecuteTime": {
     "end_time": "2023-12-27T17:46:17.229268500Z",
     "start_time": "2023-12-27T17:46:17.214515100Z"
    }
   },
   "id": "e48a76be3b112c57"
  },
  {
   "cell_type": "code",
   "execution_count": 38,
   "outputs": [
    {
     "name": "stdout",
     "output_type": "stream",
     "text": [
      "0.7119565217391305\n"
     ]
    },
    {
     "name": "stderr",
     "output_type": "stream",
     "text": [
      "C:\\Users\\Aiana Sagynbek\\PycharmProjects\\coursework\\venv\\lib\\site-packages\\sklearn\\base.py:432: UserWarning: X has feature names, but StandardScaler was fitted without feature names\n",
      "  warnings.warn(\n"
     ]
    },
    {
     "data": {
      "text/plain": "array([[67, 10],\n       [43, 64]], dtype=int64)"
     },
     "execution_count": 38,
     "metadata": {},
     "output_type": "execute_result"
    }
   ],
   "source": [
    "y_pred2 = grid_search.predict(X_test)\n",
    "y_pred2 = (y_pred2 > 0.5)\n",
    "\n",
    "cm2 = confusion_matrix(y_test, y_pred2)\n",
    "\n",
    "score2 = accuracy_score(y_pred2, y_test)\n",
    "print(score2)\n",
    "cm2"
   ],
   "metadata": {
    "collapsed": false,
    "ExecuteTime": {
     "end_time": "2023-12-27T17:46:17.315915800Z",
     "start_time": "2023-12-27T17:46:17.229268500Z"
    }
   },
   "id": "713a0ff470902080"
  },
  {
   "cell_type": "code",
   "execution_count": 47,
   "outputs": [],
   "source": [
    "import numpy as np\n",
    "\n",
    "#X_new1 = np.array([[50, 1, 1, 130, 220, 1, 2, 160, 1, 2.5, 2]]) \n",
    "X_new0 = np.array([[40, 0, 3, 120, 200, 0, 1, 175, 0, 0.5, 2]])\n",
    "\n",
    "\n",
    "#X_new1 = np.array([[55, 0, 0, 145, 250, 1, 2, 140, 1, 2.8, 0]]) \n",
    "#X_new0 = np.array([[45, 1, 3, 130, 180, 0, 1, 160, 0, 1.0, 1]])"
   ],
   "metadata": {
    "collapsed": false,
    "ExecuteTime": {
     "end_time": "2023-12-27T17:54:30.157981500Z",
     "start_time": "2023-12-27T17:54:30.142309600Z"
    }
   },
   "id": "25059472020867"
  },
  {
   "cell_type": "code",
   "execution_count": 48,
   "outputs": [
    {
     "name": "stdout",
     "output_type": "stream",
     "text": [
      "[0] 0    0\n",
      "Name: Target, dtype: int64\n"
     ]
    },
    {
     "name": "stderr",
     "output_type": "stream",
     "text": [
      "C:\\Users\\Aiana Sagynbek\\PycharmProjects\\coursework\\venv\\lib\\site-packages\\sklearn\\base.py:439: UserWarning: X does not have valid feature names, but ExtraTreesClassifier was fitted with feature names\n",
      "  warnings.warn(\n"
     ]
    }
   ],
   "source": [
    "extra_trees_classifier.fit(X_train, y_train)\n",
    "\n",
    "p = extra_trees_classifier.predict(X_new0)\n",
    "print(p, df['Target'][p])"
   ],
   "metadata": {
    "collapsed": false,
    "ExecuteTime": {
     "end_time": "2023-12-27T17:54:30.866431200Z",
     "start_time": "2023-12-27T17:54:30.730269200Z"
    }
   },
   "id": "8516ef6c1b8e6"
  },
  {
   "cell_type": "code",
   "execution_count": 49,
   "outputs": [
    {
     "name": "stdout",
     "output_type": "stream",
     "text": [
      "[0] 0    0\n",
      "Name: Target, dtype: int64\n"
     ]
    },
    {
     "name": "stderr",
     "output_type": "stream",
     "text": [
      "C:\\Users\\Aiana Sagynbek\\PycharmProjects\\coursework\\venv\\lib\\site-packages\\sklearn\\base.py:439: UserWarning: X does not have valid feature names, but GradientBoostingClassifier was fitted with feature names\n",
      "  warnings.warn(\n"
     ]
    }
   ],
   "source": [
    "gradient_boosting_classifier.fit(X_train, y_train)\n",
    "\n",
    "p1 = gradient_boosting_classifier.predict(X_new0)\n",
    "print(p1, df['Target'][p1])"
   ],
   "metadata": {
    "collapsed": false,
    "ExecuteTime": {
     "end_time": "2023-12-27T17:54:32.679327100Z",
     "start_time": "2023-12-27T17:54:32.561608800Z"
    }
   },
   "id": "c2a75150efe71f1b"
  },
  {
   "cell_type": "code",
   "execution_count": 50,
   "outputs": [
    {
     "name": "stdout",
     "output_type": "stream",
     "text": [
      "[1] 1    1\n",
      "Name: Target, dtype: int64\n"
     ]
    },
    {
     "name": "stderr",
     "output_type": "stream",
     "text": [
      "C:\\Users\\Aiana Sagynbek\\PycharmProjects\\coursework\\venv\\lib\\site-packages\\sklearn\\base.py:439: UserWarning: X does not have valid feature names, but StandardScaler was fitted with feature names\n",
      "  warnings.warn(\n"
     ]
    }
   ],
   "source": [
    "grid_search.fit(X_train, y_train)\n",
    "\n",
    "p2 = grid_search.predict(X_new0)\n",
    "print(p2, df['Target'][p2])"
   ],
   "metadata": {
    "collapsed": false,
    "ExecuteTime": {
     "end_time": "2023-12-27T17:54:35.047167100Z",
     "start_time": "2023-12-27T17:54:33.348574700Z"
    }
   },
   "id": "fa5cc4982b0aff1e"
  },
  {
   "cell_type": "markdown",
   "source": [
    "Sex: sex of the patient [M: Male - 1, F: Female - 0] \n",
    "ChestPainType: chest pain type \n",
    "[TA: Typical Angina - 3, \n",
    "ATA: Atypical Angina - 1, \n",
    "NAP: Non-Anginal Pain - 2, \n",
    "ASY: Asymptomatic - 0 ] \n",
    "RestingECG: resting electrocardiogram results \n",
    "[ Normal: Normal - 1, \n",
    "ST: - 2, \n",
    "LVH: - 0] \n",
    "ExerciseAngina: exercise-induced angina \n",
    "[Y: Yes - 1, N: No - 0] \n",
    "ST_Slope: the slope of the peak exercise ST segment \n",
    "[ Up: upsloping - 2, Flat: flat - 1, Down: downsloping - 0]"
   ],
   "metadata": {
    "collapsed": false
   },
   "id": "c6ff5f660d968040"
  },
  {
   "cell_type": "code",
   "execution_count": 42,
   "outputs": [],
   "source": [],
   "metadata": {
    "collapsed": false,
    "ExecuteTime": {
     "end_time": "2023-12-27T17:46:19.383324600Z",
     "start_time": "2023-12-27T17:46:19.336437500Z"
    }
   },
   "id": "c757ae87cc99fe9a"
  }
 ],
 "metadata": {
  "kernelspec": {
   "display_name": "Python 3 (ipykernel)",
   "language": "python",
   "name": "python3"
  },
  "language_info": {
   "codemirror_mode": {
    "name": "ipython",
    "version": 3
   },
   "file_extension": ".py",
   "mimetype": "text/x-python",
   "name": "python",
   "nbconvert_exporter": "python",
   "pygments_lexer": "ipython3",
   "version": "3.10.6"
  }
 },
 "nbformat": 4,
 "nbformat_minor": 5
}
